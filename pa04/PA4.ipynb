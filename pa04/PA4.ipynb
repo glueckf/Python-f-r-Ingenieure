{
 "cells": [
  {
   "cell_type": "markdown",
   "id": "17a812ec-3ce8-44d7-a0da-79f57f7fecb1",
   "metadata": {
    "deletable": false,
    "editable": false,
    "nbgrader": {
     "cell_type": "markdown",
     "checksum": "83a718a6af13e13a8d8958ced315291d",
     "grade": false,
     "grade_id": "cell-98d77964e4172864",
     "locked": true,
     "schema_version": 3,
     "solution": false,
     "task": false
    }
   },
   "source": [
    "# Portfolio-Programmieraufgabe 4\n",
    "## Strömung hinter Gittern\n",
    "<!-- Lizensiert unter (CC BY 4.0), Gert Herold, Lars Bittcher, 2025 -->\n",
    "\n",
    "Die [Lattice-Boltzmann-Methode](https://en.wikipedia.org/wiki/Lattice_Boltzmann_methods) (LBM) ist eine numerische Simulationsmethode, mit der Fluidströmungen dargestellt werden können. \n",
    "Sie besitzt einen nicht ganz trivialen theoretischen Unterbau, ist jedoch in relativ kompaktem Code implementierbar. \n",
    "Unser Ziel ist das Aufsetzen einer solchen Simulation. \n",
    "Untersucht werden soll hier ein umströmtes Hindernis, wobei wir uns der Einfachheit halber auf eine Betrachtung in 2D beschränken.\n",
    "\n",
    "Im Ergebnis werden wir eine zeitabhängige Dichte- und Geschwindigkeitsverteilung erhalten. \n",
    "Ähnlich wie bei der Stausee-Entleerung aus HA 2 müssen dafür wiederholt Zeitschritte nacheinander berechnet werden.\n",
    "Ein Zeitschritt läuft dabei immer wie folgt ab:\n",
    "\n",
    " 1) Verschiebungsschritt\n",
    " 2) Randbedingungen erfüllen\n",
    " 3) Kollisionsschritt  \n",
    "\n",
    "Was das im Detail bedeutet, erfahren Sie in den folgenden Teilaufgaben.\n",
    "\n",
    "Zunächst werden wieder einige Module importiert, die uns den Umgang mit von Arraydaten sowie Visualisierungen erleichtern. \n",
    "**Verwenden Sie in Ihrer Lösung dieser PA keine weiteren Modul-Imports.**"
   ]
  },
  {
   "cell_type": "code",
   "id": "f4165e32-96b6-4411-8291-63dc877ffa0d",
   "metadata": {
    "deletable": false,
    "editable": false,
    "nbgrader": {
     "cell_type": "code",
     "checksum": "70c31f0f94ac82c662ac4b9d3b4c5bc9",
     "grade": false,
     "grade_id": "cell-35ac38544be3b55c",
     "locked": true,
     "schema_version": 3,
     "solution": false,
     "task": false
    },
    "ExecuteTime": {
     "end_time": "2025-01-30T08:02:48.347763Z",
     "start_time": "2025-01-30T08:02:48.345279Z"
    }
   },
   "source": [
    "import numpy as np\n",
    "import matplotlib.pyplot as plt"
   ],
   "outputs": [],
   "execution_count": 372
  },
  {
   "cell_type": "markdown",
   "id": "7b624898-5337-4e8c-945d-d1f51962b2d5",
   "metadata": {
    "deletable": false,
    "editable": false,
    "nbgrader": {
     "cell_type": "markdown",
     "checksum": "6ad28d0585d047a24318a4b5b6f07b91",
     "grade": false,
     "grade_id": "cell-a14a1ab6d8acfabe",
     "locked": true,
     "schema_version": 3,
     "solution": false,
     "task": false
    }
   },
   "source": [
    "\n",
    "### 1) Umgebung vorbereiten &emsp;_(2 Punkte)_\n",
    "\n",
    "Als erstes wollen wir unsere Simulationsumgebung definieren. \n",
    "Dazu gehören das verwendete Gitter sowie die verschiedenen Randbedingungen.\n",
    "Es soll folgendes Setup realisiert werden:\n",
    "\n",
    "![](img/LBMsetup1.svg)\n",
    "\n",
    "Von links soll Fluid in das Rechengebiet einfließen, um ein Hindernis herum strömen und dann rechts wieder abfließen.\n",
    "Nach oben/unten soll das Rechengebiet periodisch sein. \n",
    "Das bedeutet, dass alles, was oben rausgeht, unten wieder reinkommt und umgekehrt (das ist einfacher zu realisieren als es klingt).\n",
    "\n",
    "Ein Vorteil der LBM ist, dass sie für ein sehr regelmäßiges Gitter konzipiert ist.\n",
    "Wir können also einfach ein NumPy-Array hernehmen und es direkt als Rechengitter verwenden.\n",
    "\n",
    "#### 1.1) Daten erzeugen und einlesen\n",
    "\n",
    "Zunächst soll das Strömungshindernis definiert werden.\n",
    "Das geschieht auf denkbar einfache Weise: Entweder ist an einem Punkt feste Materie (= Hindernis) oder nicht.\n",
    "Nur da, wo kein Hindernis ist, kann die Strömung langfließen.\n",
    "Die Größe und Form des Objekts kann prinzipiell beliebig sein.\n",
    "Der beherrschbaren Rechenzeit halber sollten Sie sich jedoch in der Größe beschränken.\n",
    "\n",
    "**Gestalten Sie ein Hindernis und programmieren Sie eine Funktion, um dieses in eine Umgebung zu setzen:**\n",
    "- Erstellen Sie auf beliebige Weise (externes Zeichenprogramm, Python, ...) ein Bild namens \"hindernis.gif\" (Seitenlänge etwa zwischen 15 und 25 Pixel).\n",
    "- Sie dürfen hier die Form selbst gestalten (am Anfang am besten nicht zu komplex).\n",
    "- Erstellen Sie eine Funktion `setup_environment()` mit folgenden Eigenschaften:\n",
    "  - Argumente/Parameterliste:\n",
    "    - `m`, `n` : Dimensionen des Rechengitters (Zeilen, Spalten), müssen beim Funktionsaufruf angegeben werden (und sollten deutlich größer als das Bild sein).\n",
    "    - `file` : Dateiname / Pfad zum Bild, das als Hindernis interpretiert werden soll, optional (default: `None`).\n",
    "    - `relative_center`: Tupel mit zwei Fließkommazahlen, die später als relative Position des Objektmittelpunktes im Rechengitter interpretiert werden soll, optional (default: `(0.5, 0.25)`).\n",
    "  - Die Funktion soll ein 2D-NumPy-Array mit Dimension ($m \\times n$) mit Einträgen vom Typ _bool_ zurückgeben:\n",
    "      - Bild-Farbwerte zwischen dunkel und hell sollen auf den nächstliegenden Wert \"gerundet\" werden.\n",
    "      - Pixel, die ein Hindernis kennzeichen, haben den Wert 1 bzw. True, alle anderen den Wert 0 bzw. False.\n",
    "      - Wenn kein Bild geladen wurde (kein Dateiname angegeben), gibt es kein Hindernis im zurückgegebenen Array.\n",
    "\n",
    "**Wichtig:** Übermitteln Sie bei Ihrer Abgabe neben dem gelösten Notebook auch das von Ihnen erstellte Bild \"hindernis.gif\"!"
   ]
  },
  {
   "cell_type": "code",
   "id": "8893ccdb-0c7d-44ab-964e-c0c9283d48ec",
   "metadata": {
    "deletable": false,
    "nbgrader": {
     "cell_type": "code",
     "checksum": "74851395e3db858a7af7bd935b6d619d",
     "grade": false,
     "grade_id": "cell-8c885f43dd33f9c5",
     "locked": false,
     "schema_version": 3,
     "solution": true,
     "task": false
    },
    "ExecuteTime": {
     "end_time": "2025-01-30T08:02:48.469313Z",
     "start_time": "2025-01-30T08:02:48.462451Z"
    }
   },
   "source": [
    "# Hier eigenen Code schreiben ...\n",
    "from PIL import Image, ImageDraw\n",
    "\n",
    "# Create a white image\n",
    "img = Image.new('L', (20, 20), 255)\n",
    "\n",
    "# Initialize ImageDraw\n",
    "draw = ImageDraw.Draw(img)\n",
    "\n",
    "# Draw a black circle on the right side\n",
    "circle_radius = 5\n",
    "circle_center_x = 15  # Center of the circle on the right side\n",
    "circle_center_y = 10  # Center of the circle vertically\n",
    "draw.ellipse((circle_center_x - circle_radius, circle_center_y - circle_radius,\n",
    "              circle_center_x + circle_radius, circle_center_y + circle_radius), fill=0)\n",
    "\n",
    "img.save('hindernis.gif')    \n",
    "\n",
    "def setup_environment(m, n, file=None, relative_center=(0.5, 0.25)):\n",
    "    # Initialisiere das Hindernis-Array mit False (kein Hindernis)\n",
    "    obstacle = np.zeros((m, n), dtype=bool)\n",
    "    \n",
    "    if file:\n",
    "        # load image and convert to grayscale \n",
    "        img = Image.open(file).convert('L')\n",
    "        img_array = np.array(img)  # convert img to numpy array\n",
    "        \n",
    "        # calculate the center of the obstacle in the grid\n",
    "        center_row = int(m * relative_center[0])\n",
    "        center_col = int(n * relative_center[1])\n",
    "        \n",
    "        # calculate the start and end row and column\n",
    "        start_row = center_row - img_array.shape[0] // 2\n",
    "        start_col = center_col - img_array.shape[1] // 2\n",
    "        \n",
    "        # calculate the end row and column\n",
    "        start_row = max(0, start_row)\n",
    "        start_col = max(0, start_col)\n",
    "        end_row = min(m, start_row + img_array.shape[0])\n",
    "        end_col = min(n, start_col + img_array.shape[1])\n",
    "        \n",
    "        # get the cropped image\n",
    "        img_cropped = img_array[:end_row - start_row, :end_col - start_col]\n",
    "        \n",
    "        # set the values of the obstacle to 1\n",
    "        obstacle[start_row:end_row, start_col:end_col] = img_cropped < 128  # 128 is the threshold for the obstacle\n",
    "    \n",
    "    return obstacle"
   ],
   "outputs": [],
   "execution_count": 373
  },
  {
   "cell_type": "code",
   "id": "42c73656-3a45-4739-8680-55aae7cb6c89",
   "metadata": {
    "deletable": false,
    "editable": false,
    "nbgrader": {
     "cell_type": "code",
     "checksum": "685cd1bc5fc3995cd144af8c85e4bdbf",
     "grade": true,
     "grade_id": "cell-7bc171460ce75c59",
     "locked": true,
     "points": 1,
     "schema_version": 3,
     "solution": false,
     "task": false
    },
    "ExecuteTime": {
     "end_time": "2025-01-30T08:02:48.473886Z",
     "start_time": "2025-01-30T08:02:48.471704Z"
    }
   },
   "source": [
    "# Hier sind Plausibilitäts-Tests:\n",
    "assert callable(setup_environment)\n",
    "assert not setup_environment(60, 180).all()"
   ],
   "outputs": [],
   "execution_count": 374
  },
  {
   "metadata": {},
   "cell_type": "markdown",
   "source": "",
   "id": "29e21f49bd9cc7d3"
  },
  {
   "cell_type": "markdown",
   "id": "acda5a2a-ead5-4277-8443-c9b85d7ba6ac",
   "metadata": {
    "deletable": false,
    "editable": false,
    "nbgrader": {
     "cell_type": "markdown",
     "checksum": "7f03fa48e7fe0fc2c77a5fd8cb60ce0b",
     "grade": false,
     "grade_id": "cell-f250a40b17e51a88",
     "locked": true,
     "schema_version": 3,
     "solution": false,
     "task": false
    }
   },
   "source": [
    "Zur Sicherheit hier noch mal ein Plot Ihrer Rechenumgebung inklusive Hindernis: Die Zeilen werden als $y$-Werte interpretiert und die Spalten als $x$-Werte. \n",
    "Die jeweiligen Koordinaten steigen mit aufsteigender Zeilen- bzw. Spaltennummer."
   ]
  },
  {
   "cell_type": "code",
   "id": "3082130a-31e1-4052-9c28-9402220567d0",
   "metadata": {
    "deletable": false,
    "editable": false,
    "nbgrader": {
     "cell_type": "code",
     "checksum": "8cdd9bcd00336c9a863eea4a55b1fba1",
     "grade": false,
     "grade_id": "cell-478f7ee512c2543b",
     "locked": true,
     "schema_version": 3,
     "solution": false,
     "task": false
    },
    "ExecuteTime": {
     "end_time": "2025-01-30T08:02:48.556531Z",
     "start_time": "2025-01-30T08:02:48.475446Z"
    }
   },
   "source": [
    "obstacle = setup_environment(60, 180, 'hindernis.gif')\n",
    "plt.imshow(obstacle, origin='lower', cmap='binary')\n",
    "plt.show()"
   ],
   "outputs": [
    {
     "data": {
      "text/plain": [
       "<Figure size 640x480 with 1 Axes>"
      ],
      "image/png": "[encoded data removed]"
     },
     "metadata": {},
     "output_type": "display_data"
    }
   ],
   "execution_count": 375
  },
  {
   "cell_type": "markdown",
   "id": "b6ffc106-8aaf-4ba5-baf4-2ae7070b68e2",
   "metadata": {
    "deletable": false,
    "editable": false,
    "nbgrader": {
     "cell_type": "markdown",
     "checksum": "92ed04cfbeb487603267ed542386a19b",
     "grade": false,
     "grade_id": "cell-dce519c53d425bb4",
     "locked": true,
     "schema_version": 3,
     "solution": false,
     "task": false
    }
   },
   "source": [
    "#### 1.2) Verteilungsdichten\n",
    "\n",
    "Die Strömung kann für jeden Gitterpunkt durch die Dichte $\\rho$ und Geschwindigkeit $\\vec{u}$ des Fluids an dieser Stelle beschrieben werden. \n",
    "Die eigentliche Berechnung erfolgt bei der Lattice-Boltzmann-Methode jedoch anhand von \"Hilfsgrößen\", den sogenannten Verteilungsdichten $f_i$.\n",
    "\n",
    "Für jeden Punkt im 2D-Gitter sind 9 Verteilungsdichten $f_{0\\ldots 8}$ definiert:\n",
    "\n",
    " - eine für den Punkt selbst sowie\n",
    " - jeweils eine für die Vektoren in Richtung der 8 Nachbarpunkte.\n",
    "\n",
    "Die Richtung der Vektoren ist durch die relative Lage der Punkte im Gitter vorgegeben. \n",
    "Die Länge der Pfeile wird vom skalaren Wert der Verteilungsdichte abgeleitet.\n",
    "\n",
    "![](img/Gitter.JPG)\n",
    "\n",
    "\n",
    "Um die konkrete Verknüpfung und Berechnung kümmern wir uns später noch. \n",
    "Hier soll erst einmal nur eine Variable angelegt werden, in der die Verteilungsdichten gespeichert werden können.\n",
    "\n",
    "**Erstellen Sie eine Funktion `init_lattice()`, die ein 2D-Array (wie das oben erstellte) übergeben bekommt und ein dazu passendes 3D-Array zurückgibt:**\n",
    "  - Das Rückgabe-Array soll die gleichen ersten zwei Dimensionen wie das übergebene Array haben.\n",
    "  - Die dritte Dimension habe 9 Einträge.\n",
    "  - Das Array soll als Ausgangsstatus leicht \"verrauschte\" Einsen enthalten. Dafür werde es mit normalverteilten Zufallszahlen (Mittelwert 1, nominelle Standardabweichung 0.01) gefüllt."
   ]
  },
  {
   "cell_type": "code",
   "id": "ce041a8c-dced-427f-b3ca-feb7a42ff8dc",
   "metadata": {
    "deletable": false,
    "nbgrader": {
     "cell_type": "code",
     "checksum": "82656d19e1ca65fc9affa239c2ad6ff0",
     "grade": false,
     "grade_id": "cell-08bac3cb6147fe61",
     "locked": false,
     "schema_version": 3,
     "solution": true,
     "task": false
    },
    "ExecuteTime": {
     "end_time": "2025-01-30T08:02:48.560849Z",
     "start_time": "2025-01-30T08:02:48.558132Z"
    }
   },
   "source": [
    "# Hier eigenen Code schreiben ...\n",
    "def init_lattice(obstacle):\n",
    "    # Adds a new dimension to the obstacle array with 9 elements\n",
    "    m, n = obstacle.shape\n",
    "    \n",
    "    # Define mean and standard deviation\n",
    "    mean = 1\n",
    "    std = 0.01\n",
    "    \n",
    "    # Create a 3D array with the shape of the obstacle array and 9 elements\n",
    "    lattice = np.random.normal(mean, std, (m, n, 9))\n",
    "    \n",
    "    # Set the values of the obstacle to 0\n",
    "    lattice[obstacle, :] = 0\n",
    "    \n",
    "    return lattice  \n"
   ],
   "outputs": [],
   "execution_count": 376
  },
  {
   "cell_type": "code",
   "id": "faf36e8a-45a4-447d-86e0-affc5f9711f6",
   "metadata": {
    "deletable": false,
    "editable": false,
    "nbgrader": {
     "cell_type": "code",
     "checksum": "fd3fdb9cc88f9acb8b5128aaddf5a0ea",
     "grade": true,
     "grade_id": "cell-bd10c604de05e36b",
     "locked": true,
     "points": 1,
     "schema_version": 3,
     "solution": false,
     "task": false
    },
    "ExecuteTime": {
     "end_time": "2025-01-30T08:02:48.566673Z",
     "start_time": "2025-01-30T08:02:48.561944Z"
    }
   },
   "source": [
    "# Hier sind Plausibilitäts-Tests:\n",
    "test_lattice = init_lattice(obstacle)\n",
    "assert test_lattice.shape[:2] == obstacle.shape\n",
    "assert np.mean(test_lattice) > 0.9"
   ],
   "outputs": [],
   "execution_count": 377
  },
  {
   "cell_type": "markdown",
   "id": "39233418-6682-4869-94dc-a0716c70d5e5",
   "metadata": {
    "deletable": false,
    "editable": false,
    "nbgrader": {
     "cell_type": "markdown",
     "checksum": "7673d5c2fdc58b146b111e1dd52d9e6e",
     "grade": false,
     "grade_id": "cell-20c731ef5452fa51",
     "locked": true,
     "schema_version": 3,
     "solution": false,
     "task": false
    }
   },
   "source": [
    "### 2) Verschiebungsschritt &emsp;_(2 Punkte)_\n",
    "\n",
    "Für die Simulation einer Strömung ist es wichtig, dass die Datenpunkte miteinander verknüpft werden, \n",
    "d.h. dass für jeden Punkt bekannt ist, welche Nachbarn er hat.\n",
    "Für unser sehr einfaches regelmäßiges Gitter werden die Punkte mit ihren unmittelbaren Nachbarn verknüpft.\n",
    "Pro Punkt ergeben sich damit insgesamt 9 für diesen relevante Punkte: \n",
    "\n",
    " - der jeweilige Punkt selbst,\n",
    " - rechts, oben, links und unten sowie\n",
    " - die diagonal liegenden.\n",
    " \n",
    "\n",
    "Die Richtungen werden wie folgt von 0 bis 8 durchnumeriert:\n",
    "\n",
    "<img alt=\"D2Q9\" src=\"img/e9d2q9e.svg\"/>  \n",
    "\n",
    "#### 2.2) D2Q9\n",
    "\n",
    "**Definieren Sie ein Array `e`, das die 9 Richtungsvektoren für einen Punkt enthält:**\n",
    " - `e` soll 2 Zeilen enthalten. Jede Spalte von `e` entspricht einem Richtungsvektor.\n",
    " - Dieser enthält die \"Schritte\", die zum jeweiligen Nachbarn notwendig sind. Diagonale Vektoren sind dementsprechend um $\\sqrt 2$ länger als die zu den horizontalen/vertikalen Nachbarn.\n",
    " - Beispiel: $e_8$ erreicht man, indem man einen Schritt in positive $x$-Richtung (+1) und einen Schritt in negative $y$-Richtung (-1) geht, also ist der entsprechende Vektor (1, -1)"
   ]
  },
  {
   "cell_type": "code",
   "id": "206bcaa9-38d1-4566-af92-5f2fedc85339",
   "metadata": {
    "deletable": false,
    "nbgrader": {
     "cell_type": "code",
     "checksum": "928ae3d2ba7ead763af61fcf4a7e420d",
     "grade": false,
     "grade_id": "cell-4e53a67568f4415a",
     "locked": false,
     "schema_version": 3,
     "solution": true,
     "task": false
    },
    "tags": [],
    "ExecuteTime": {
     "end_time": "2025-01-30T08:02:48.570982Z",
     "start_time": "2025-01-30T08:02:48.568664Z"
    }
   },
   "source": [
    "# Hier eigenen Code schreiben ...\n",
    "\n",
    "# Initialize the array with the vectors\n",
    "e = np.array([[0, 1, 0,-1, 0, 1,-1,-1, 1],\n",
    "              [0, 0, 1, 0,-1, 1, 1,-1,-1 ]])"
   ],
   "outputs": [],
   "execution_count": 378
  },
  {
   "cell_type": "code",
   "id": "064b8492-e50f-4a0b-b152-5d268bf27a8d",
   "metadata": {
    "deletable": false,
    "editable": false,
    "nbgrader": {
     "cell_type": "code",
     "checksum": "59bbe9fe47808d54c271d1269784f972",
     "grade": true,
     "grade_id": "cell-cea6067031f774fb",
     "locked": true,
     "points": 1,
     "schema_version": 3,
     "solution": false,
     "task": false
    },
    "ExecuteTime": {
     "end_time": "2025-01-30T08:02:48.573863Z",
     "start_time": "2025-01-30T08:02:48.571777Z"
    }
   },
   "source": [
    "# Hier sind Plausibilitäts-Tests:\n",
    "assert e.shape == (2, 9)\n",
    "assert e[-1,-1] == -1"
   ],
   "outputs": [],
   "execution_count": 379
  },
  {
   "cell_type": "markdown",
   "id": "1746dfbb-7313-4481-be21-2fe973c52f0e",
   "metadata": {
    "deletable": false,
    "editable": false,
    "nbgrader": {
     "cell_type": "markdown",
     "checksum": "0ab9183ed02839948de1cb9b983fb9df",
     "grade": false,
     "grade_id": "cell-0c48743570c2ff4c",
     "locked": true,
     "schema_version": 3,
     "solution": false,
     "task": false
    }
   },
   "source": [
    "Das Array `e` ist für uns nun eine globale Konstante, die überall verwendet werden kann und beispielsweise an Funktionen nicht extra übergeben werden muss.\n",
    "\n",
    "#### 2.2) Verschiebungs-Funktion \n",
    "\n",
    "Nun geht es an eine der Kernfunktionen im LBM-Kosmos: den  Verschiebungsschritt.\n",
    "In jedem Zeitschritt werden hier die Daten in jeder der 9 Ebenen entsprechend der gerade zugeordneten Richtungen zum entsprechenden Nachbarpunkt verschoben.\n",
    "\n",
    "![](img/verschiebung1.svg)\n",
    "\n",
    "\n",
    "Bei jedem Gitterpunkt wird nun dessen Verteilungsdichte $f_{i,j,1}$ dem rechts neben ihm liegenden Punkt $f_{i,j+1,1}$ zugewiesen, er bekommt selbst die Verteilungsdichte $f_{i,j-1,1}$ seines linken Nachbarn.\n",
    "Analog passiert das mit allen Richtungen.\n",
    "Randpunkte sollen zunächst einfach auf der gegenüberliegenden Seite wieder angehängt werden. \n",
    "Dies entspricht netterweise der Logik der Python-Indizierung mit \"0, 1, 2, ..., -2, -1\".\n",
    "Mit geschickter Anwendung [geeigneter NumPy-Funktionen](https://numpy.org/doc/stable/reference/generated/numpy.roll.html) ist eine entsprechende Implementierung mit sehr wenig Code und gleichzeitiger Verschiebung mehrerer Punkte möglich.\n",
    "\n",
    "Damit dies möglichst zeiteffizient vonstatten geht, soll hier außerdem kein neues Array angelegt werden. \n",
    "Stattdessen sind alle Veränderungen direkt in einem bereits vorhandenen Array durchzuführen.\n",
    "\n",
    "**Schreiben Sie eine Funktion `streaming()`, die den Verschiebungsschritt vornimmt.**\n",
    " - Als Argument wird ein Array mit Verteilungsdichten übergeben.\n",
    " - Für dieses werden die Verschiebungen entsprechend der mit `e` definierten Gitterschritte vorgenommen.\n",
    " - Der Inhalt des übergebenen Arrays soll direkt verändert werden. (Ein Rückgabewert der Funktion ist nicht von Interesse.)\n",
    " - Achten Sie auf korrekte Zuordnung von Zeilen / Spalten zu den Koordinaten (siehe Plot unter 1.1)."
   ]
  },
  {
   "cell_type": "code",
   "id": "2c19d903-bcae-4ffa-b3da-40f8ce5b43f9",
   "metadata": {
    "deletable": false,
    "nbgrader": {
     "cell_type": "code",
     "checksum": "8311865a63ff840d569dfebb99eaa374",
     "grade": false,
     "grade_id": "cell-6cae8a1a8e9aa6be",
     "locked": false,
     "schema_version": 3,
     "solution": true,
     "task": false
    },
    "ExecuteTime": {
     "end_time": "2025-01-30T08:02:48.577975Z",
     "start_time": "2025-01-30T08:02:48.574822Z"
    }
   },
   "source": [
    "# Hier eigenen Code schreiben ...\n",
    "\n",
    "def streaming(f: np.ndarray):\n",
    "    # f is a 3D array with shape (m, n, 9)\n",
    "\n",
    "    # For each direction\n",
    "    for i in range(9):\n",
    "        \n",
    "        # Get the direction vector for x \n",
    "        dx = e[0, i]\n",
    "        dy = e[1, i]\n",
    "        \n",
    "        # Roll the array in the direction of the vector\n",
    "        # Documentation: \n",
    "        # https://numpy.org/doc/stable/reference/generated/numpy.roll.html\n",
    "        # shift = dx for x direction and dy for y direction\n",
    "        # axis = 0 for x direction and 1 for y direction\n",
    "        f[..., i] = np.roll(f[..., i], shift=dx, axis=0)\n",
    "        f[..., i] = np.roll(f[..., i], shift=dy, axis=1)\n",
    "        "
   ],
   "outputs": [],
   "execution_count": 380
  },
  {
   "cell_type": "code",
   "id": "457e45bf-cede-436a-8615-eef5aff97209",
   "metadata": {
    "deletable": false,
    "editable": false,
    "nbgrader": {
     "cell_type": "code",
     "checksum": "9b93a999d1560f282d71e0caa5172eed",
     "grade": true,
     "grade_id": "cell-42c4e22799f7c0de",
     "locked": true,
     "points": 1,
     "schema_version": 3,
     "solution": false,
     "task": false
    },
    "ExecuteTime": {
     "end_time": "2025-01-30T08:02:48.581851Z",
     "start_time": "2025-01-30T08:02:48.578890Z"
    }
   },
   "source": [
    "# Hier sind Plausibilitäts-Tests:\n",
    "old_test_lattice = test_lattice.copy()\n",
    "streaming(test_lattice)\n",
    "assert not np.array_equal(old_test_lattice, test_lattice)"
   ],
   "outputs": [],
   "execution_count": 381
  },
  {
   "cell_type": "markdown",
   "id": "7d9411e7-2046-427b-9c58-2317a93306ee",
   "metadata": {
    "deletable": false,
    "editable": false,
    "nbgrader": {
     "cell_type": "markdown",
     "checksum": "d7f2dd0535a674afc1f709001598a712",
     "grade": false,
     "grade_id": "cell-552d3a426504ee99",
     "locked": true,
     "schema_version": 3,
     "solution": false,
     "task": false
    }
   },
   "source": [
    "### 3) Dichte und Geschwindigkeit und Ränder  &emsp;_(2 Punkte)_\n",
    "\n",
    "Die auf unserem Gitter vorliegenden Verteilungsdichten lassen sich durch Summation der 9 Punkte in die physikalische Größen Dichte $\\rho$ und  Geschwindigkeit $\\vec{u}$ (mit $x$- und $y$-Komponente) umrechnen:\n",
    "\n",
    "$$\n",
    "    \\rho = \\sum^{9}_{i = 1} f_{i}\n",
    "$$\n",
    "$$\n",
    "    \\vec{u} = \\frac{1}{\\rho} \\sum^{9}_{i = 1} f_{i} \\vec{e}_{i}\n",
    "$$\n",
    "\n",
    "Das kann natürlich nur funktionieren, wenn die Verteilungsdichten $f_i$ so gestaltet werden, dass sie in dieser Summation auch sinnvolle Werte ergeben.\n",
    "Darum kümmern wir uns gleich noch, aber erst einmal kommt noch eine leichterer Schritt.\n",
    "\n",
    "#### 3.1) Dichte und Geschwindigkeit\n",
    "\n",
    "**Schreiben Sie eine Funktion `density_velocity()`, die Verteilungsdichten in Dichte und Druck umrechnet:**\n",
    " - Die Funktion bekommt ein Array mit Verteilungsdichten ($m\\times n\\times 9$) übergeben.\n",
    " - Sie gebe als Tupel die Arrays $\\rho$ ($m\\times n$) und $\\vec{u}$ ($m\\times n\\times 2$) zurück."
   ]
  },
  {
   "cell_type": "code",
   "id": "87e7a65b-f56b-4c5e-b032-68eab051e598",
   "metadata": {
    "deletable": false,
    "nbgrader": {
     "cell_type": "code",
     "checksum": "0c45f7bf1b70a63c2ac9707d7693bdcc",
     "grade": false,
     "grade_id": "cell-e6ce03dbba5023ff",
     "locked": false,
     "schema_version": 3,
     "solution": true,
     "task": false
    },
    "ExecuteTime": {
     "end_time": "2025-01-30T08:02:48.585711Z",
     "start_time": "2025-01-30T08:02:48.582682Z"
    }
   },
   "source": [
    "# Hier eigenen Code schreiben ...\n",
    "\n",
    "def density_velocity(f: np.ndarray):\n",
    "    # Takes in f in dimensions (m, n, 9)\n",
    "\n",
    "    # Calculate the density\n",
    "    rho = np.sum(f, axis=2)\n",
    "    \n",
    "    # Initialize the velocity array with zeros and shape (m, n, 2)\n",
    "    u = np.zeros_like(f)[..., :2]\n",
    "    \n",
    "    # Calculate the velocity\n",
    "    for i in range(9):\n",
    "        # For each direction calculate the velocity\n",
    "        u[:, :, 0] += f[:, :, i] * e[0, i]  # x-component\n",
    "        u[:, :, 1] += f[:, :, i] * e[1, i]  # y-component\n",
    "    \n",
    "    # Avoid division by zero by masking where rho > 0\n",
    "    mask = rho > 0\n",
    "    u[mask] = u[mask] / rho[mask, None]\n",
    "    \n",
    "    return rho, u"
   ],
   "outputs": [],
   "execution_count": 382
  },
  {
   "cell_type": "code",
   "id": "9b54f404-ba1e-4a0a-86f6-97d4099954be",
   "metadata": {
    "deletable": false,
    "editable": false,
    "nbgrader": {
     "cell_type": "code",
     "checksum": "8bc3de04b8d0ab7987c017f8b106d108",
     "grade": true,
     "grade_id": "cell-b86b673af5d15d04",
     "locked": true,
     "points": 1,
     "schema_version": 3,
     "solution": false,
     "task": false
    },
    "ExecuteTime": {
     "end_time": "2025-01-30T08:02:48.590411Z",
     "start_time": "2025-01-30T08:02:48.586599Z"
    }
   },
   "source": [
    "# Hier sind Plausibilitäts-Tests:\n",
    "test_rho, test_u = density_velocity(test_lattice)\n",
    "assert test_rho.shape[:2] == test_u.shape[:2] == test_lattice.shape[:2]"
   ],
   "outputs": [],
   "execution_count": 383
  },
  {
   "cell_type": "markdown",
   "id": "673e4298-146d-4e51-9d98-30a4cb3d26ed",
   "metadata": {
    "deletable": false,
    "editable": false,
    "nbgrader": {
     "cell_type": "markdown",
     "checksum": "d3e466f454b628aaeef0da9ee4883d1e",
     "grade": false,
     "grade_id": "cell-50950833c1229dca",
     "locked": true,
     "schema_version": 3,
     "solution": false,
     "task": false
    }
   },
   "source": [
    "#### 3.2) Randbedingungen anwenden\n",
    "\n",
    "Bisher haben wir ignoriert, dass unser Fluid nicht komplett frei herumwabern kann, sondern einigen Randbedingungen zu folgen hat.\n",
    "Erstens soll von links nach rechts eine konstante gleichmäßige Strömung fließen und zweitens haben wir ja ein Hindernis mittendrin.\n",
    "\n",
    "Für den **Einlass** (also die Punkte in der ersten Spalte links) soll gelten, dass stets Fluid mit konstanter Geschwindigkeit nachströmt.\n",
    "In der [Literatur](https://arxiv.org/abs/comp-gas/9611001) findet sich hierfür z.B. folgende Berechnungsvorschrift:\n",
    "\n",
    "$$\n",
    "    f_{1} = f_3 + \\frac{2}{3}\\rho\\, u_x \n",
    "$$\n",
    "$$\n",
    "    f_{5} = f_7 - \\frac{1}{2} (f_2 - f_4) + \\frac{1}{6}\\rho\\, u_x\n",
    "$$\n",
    "$$\n",
    "    f_{8} = f_6 + \\frac{1}{2} (f_2 - f_4) + \\frac{1}{6}\\rho\\, u_x \n",
    "$$\n",
    "Die Dichte berechnet sich hier mit\n",
    "$$\n",
    "    \\rho = \\frac{1}{1 - u_x}(f_2 + f_4 + f_0 + 2\\,(f_3 + f_6 + f_7))\n",
    "$$\n",
    "Obige Formeln sollen wie gesagt _nur für den Einlass_ angewendet werden und überschreiben dort die entsprechenden Größen aus den anderen Berechnungen.\n",
    "\n",
    "Nun zum **Auslass**: Bei korrekter Implementierung sind im vorhergehenden Verschiebungsschritt $f_3$, $f_6$ und $f_7$ von \"rechts ins Feld gerückt\". \n",
    "Rechts von der letzten Spalte befindet sich jedoch nichts (sinnvolles) mehr.\n",
    "Um hier seltsames oder gar fehlerhaftes Verhalten zu vermeiden, überschreiben wir einfach diese Werte dieser Spalte mit denen aus $f$ in der vorletzten Spalte. \n",
    "Physikalisch gesehen entspricht dies einem zu 0 gesetzten Geschwindigkeitsgradienten aus dem Feld heraus. \n",
    "\n",
    "Als letztes kümmern wir uns um das **Hindernis**.\n",
    "Die Materie soll komplett undurchlässig sein, das heißt, eigentlich sollte nichts hinein und auch nichts hinaus strömen.\n",
    "Wir wählen einen einfachen Ansatz, um dem gerecht zu werden: \n",
    "Alles, was nach dem Verschiebungsschritt bei einem \"Hindernis\"-Punkt ankommt, wird postwendend zurückgeschickt, indem die Werte gegenüberliegender Richtungen für diesen Punkt ausgetauscht werden.\n",
    "\n",
    "Hier mal ein Beispiel für einen Punkt, der zu einem Hindernis gehört:\n",
    "\n",
    "![bounceback](img/obstacle_invert1.svg)  \n",
    "\n",
    "Der Übersicht halber sind nur jeweils 2 der Verteilungsdichten bezeichnet.\n",
    "Nach dem Verschiebungsschritt landen einige Verteilungsdichten im Hindernispunkt ($i,j$).\n",
    "Um den Randbedingungen gerecht zu werden, wird nun z.B. $f_{i,j,3}$ mit $f_{i,j,1}$ überschrieben und umgekehrt, $f_{i,j,5}$ mit $f_{i,j,7}$ usw.\n",
    "\n",
    "**Schreiben Sie eine Funktion `apply_boundaries()`, die die drei obigen Randbedingungen (Einlass, Auslass, Hindernis) implementiert:**\n",
    " - Sie bekommt 3 Argumente übergeben:\n",
    "     - ein Array mit Verteilungsdichten  (Typ _float_)\n",
    "     - ein (dazu passendes) Array mit dem Hindernis (Typ _bool_, Ergebnis aus Aufgabe 1.1)\n",
    "     - Betrag der Strömungsgeschwindigkeit in $x$-Richtung\n",
    " - Der Inhalt des übergebenen Verteilungsdichte-Arrays soll wieder direkt verändert werden (also kein Funktions-Rückgabewert).\n",
    "\n",
    "_Hinweis: Mit Ihrem gelernten Wissen über Array-Indizierung auf unterschiedliche Weise können Sie diese Funktion komplett ohne Schleifen realisieren. \n",
    "Der Abschnitt für die Betrachtung des Hindernisses ist dank NumPy in 1-3 Zeilen realisierbar._"
   ]
  },
  {
   "cell_type": "code",
   "id": "ec39dfc8-8c0a-4e6d-a8e2-2f9921894b67",
   "metadata": {
    "deletable": false,
    "nbgrader": {
     "cell_type": "code",
     "checksum": "c1af180337f0a9ee6a20dc2c667fc3e8",
     "grade": false,
     "grade_id": "cell-15b2c02fba699c37",
     "locked": false,
     "schema_version": 3,
     "solution": true,
     "task": false
    },
    "ExecuteTime": {
     "end_time": "2025-01-30T08:02:48.598217Z",
     "start_time": "2025-01-30T08:02:48.593189Z"
    }
   },
   "source": [
    "# Hier eigenen Code schreiben ...\n",
    "\n",
    "def apply_boundaries(f: np.ndarray, obstacle: np.ndarray, ux: float):\n",
    "    # Calculate rho in \n",
    "    rho_in = (f[0, :, 2] + f[0, :, 4] + f[0, :, 0] + \n",
    "              2 * (f[0, :, 3] + f[0, :, 6] + f[0, :, 7])) / (1 - ux)\n",
    "    \n",
    "    # Apply the boundary conditions for the inlet\n",
    "    f[0, :, 1] = f[0, :, 3] + (2/3) * rho_in * ux # f1\n",
    "    f[0, :, 5] = f[0, :, 7] - 0.5 * (f[0, :, 2] - f[0, :, 4]) + (1/6) * rho_in * ux # f5\n",
    "    f[0, :, 8] = f[0, :, 6] + 0.5 * (f[0, :, 2] - f[0, :, 4]) + (1/6) * rho_in * ux # f8\n",
    "    \n",
    "    # Apply the boundary conditions for the outlet\n",
    "    f[-1, :, 3] = f[-2, :, 3]  # Copy f3\n",
    "    f[-1, :, 6] = f[-2, :, 6]  # Copy f6\n",
    "    f[-1, :, 7] = f[-2, :, 7]  # Copy f7\n",
    "    \n",
    "    # Apply the boundary conditions for the obstacle\n",
    "    # Verbesserte Version für das Hindernis\n",
    "    for i, j in zip([1, 2, 3, 4, 5, 6, 7, 8], [3, 4, 1, 2, 7, 8, 5, 6]):\n",
    "        temp = f[obstacle, i].copy()\n",
    "        f[obstacle, i] = f[obstacle, j]\n",
    "        f[obstacle, j] = temp"
   ],
   "outputs": [],
   "execution_count": 384
  },
  {
   "cell_type": "code",
   "id": "45a6abc6-fc79-41eb-a548-e42319499604",
   "metadata": {
    "deletable": false,
    "editable": false,
    "nbgrader": {
     "cell_type": "code",
     "checksum": "6d60323a572ddab43c5cb1cad9ee0bb7",
     "grade": true,
     "grade_id": "cell-a6902a83fbb71e8a",
     "locked": true,
     "points": 1,
     "schema_version": 3,
     "solution": false,
     "task": false
    },
    "ExecuteTime": {
     "end_time": "2025-01-30T08:02:48.603298Z",
     "start_time": "2025-01-30T08:02:48.599577Z"
    }
   },
   "source": [
    "# Hier sind Plausibilitäts-Tests:\n",
    "old_test_lattice = test_lattice.copy()\n",
    "apply_boundaries(test_lattice, obstacle, 0.123)\n",
    "assert not np.array_equal(old_test_lattice, test_lattice)"
   ],
   "outputs": [],
   "execution_count": 385
  },
  {
   "cell_type": "markdown",
   "id": "14fa5015-3b6f-4832-bd17-301989555680",
   "metadata": {
    "deletable": false,
    "editable": false,
    "nbgrader": {
     "cell_type": "markdown",
     "checksum": "337c0f73dd91f86adf9182de85fba3cb",
     "grade": false,
     "grade_id": "cell-38a4b96c1425ec55",
     "locked": true,
     "schema_version": 3,
     "solution": false,
     "task": false
    }
   },
   "source": [
    "### 4) Kollisionsschritt &emsp;_(2 Punkte)_\n",
    "\n",
    "Um das realistische Verhalten des Fluids zu simulieren, wird ein sogenannter Kollisionsschritt eingeführt. \n",
    "Der Name bezieht sich auf die Partikel-Kollisionsprozesse im Fluid, die hier modelliert werden.\n",
    "Physikalisch gesehen dämpft dieser Schritt nun die Energieweiterleitung, die durch Verschieben der Verteilungsdichten passiert ist. \n",
    "Wir verwenden hierfür die Formel\n",
    "\n",
    "$$\n",
    "    f_{i,\\mathrm{dämpf}} = \\rho\\, \\omega_i\\cdot (1 + 3\\, \\vec{u} \\cdot \\vec{e}_i + \\frac{9}{2} (\\vec{u} \\cdot \\vec{e}_i)^2 - \\frac{3}{2} \\vec{u}\\cdot\\vec{u} )\n",
    "$$\n",
    "\n",
    "$$\n",
    "    f_{i,\\mathrm{neu}} = (1-\\frac{1}{\\tau})\\cdot f_i + \\frac{1}{\\tau} \\cdot f_{i,\\mathrm{dämpf}}\n",
    "$$\n",
    "\n",
    "Die Relaxationszeit $\\tau$ hängt von der Viskosität des Mediums ab: Je zäher, desto größer $\\tau$.\n",
    "Das hier verwendete Modell ist recht simpel, sodass die Simulation gerade bei geringeren Viskositäten schnell instabil werden kann.\n",
    "\n",
    "Sie können gern mal testen, was passiert, wenn Sie für $\\tau$ Werte unter 0.6 wählen.\n",
    "Für schöne Ergebnisse sind Werte zwischen 0.6 und 0.8 empfehlenswert.\n",
    "_(Für diejenigen, die sich bei der Betrachtung obiger Formeln über die Einheiten wundern: \n",
    "Alle Raum- und Zeitgrößen sind auf Gitter- und Zeitschrittweiten bzw. die darauf bezogene Schallgeschwindigkeit normiert, sodass diese einheitenlos sind.)_\n",
    "\n",
    "#### 4.1) Verteilungsdichte-Gewichtungsfaktor\n",
    "\n",
    "Je nach betrachteter Richtung wird die Veränderung der Verteilungsdichte durch den Faktor $\\omega_i$ etwas anders gewichtet (entsprechend der Wahrscheinlichkeit der Partikel, sich in diese Richtung zu bewegen).\n",
    "\n",
    "|Index $i$| $0$ |$1\\ldots 4$|$5\\ldots 8$|\n",
    "|:-|:-:|:-:|:-:|\n",
    "|**Gewicht** $\\omega$|$\\frac{4}{9}$|$\\frac{1}{9}$|$\\frac{1}{36}$|\n",
    "\n",
    "**Definieren Sie ein 1D-Array `omega`, das die 9 Gewichtungsfaktoren in der vorgegebenen Anordnung enthält.**"
   ]
  },
  {
   "cell_type": "code",
   "id": "bc741f5c-b3da-4d90-b797-5b8474669601",
   "metadata": {
    "deletable": false,
    "nbgrader": {
     "cell_type": "code",
     "checksum": "17320fb88db0d12c22bcac0885bfbddd",
     "grade": false,
     "grade_id": "cell-a4733404d9f19a65",
     "locked": false,
     "schema_version": 3,
     "solution": true,
     "task": false
    },
    "ExecuteTime": {
     "end_time": "2025-01-30T08:02:48.606620Z",
     "start_time": "2025-01-30T08:02:48.604326Z"
    }
   },
   "source": [
    "# Hier eigenen Code schreiben ...\n",
    "\n",
    "omega = np.array([4/9, 1/9, 1/9, 1/9, 1/9, 1/36, 1/36, 1/36, 1/36])"
   ],
   "outputs": [],
   "execution_count": 386
  },
  {
   "cell_type": "code",
   "id": "9e4b5f31-8f98-4a45-8c7d-2d4df791acd9",
   "metadata": {
    "deletable": false,
    "editable": false,
    "nbgrader": {
     "cell_type": "code",
     "checksum": "8f253cea1f72be6304dd2fa5d0e45ac6",
     "grade": true,
     "grade_id": "cell-149fa6bef225a5c5",
     "locked": true,
     "points": 1,
     "schema_version": 3,
     "solution": false,
     "task": false
    },
    "ExecuteTime": {
     "end_time": "2025-01-30T08:02:48.609737Z",
     "start_time": "2025-01-30T08:02:48.607548Z"
    }
   },
   "source": [
    "# Hier sind Plausibilitäts-Tests:\n",
    "assert omega.shape == (9,)"
   ],
   "outputs": [],
   "execution_count": 387
  },
  {
   "cell_type": "markdown",
   "id": "a7ca3922-2328-4eee-8000-bb15502650e6",
   "metadata": {
    "deletable": false,
    "editable": false,
    "nbgrader": {
     "cell_type": "markdown",
     "checksum": "0a510e5016a20441dbd91c49c06f6a82",
     "grade": false,
     "grade_id": "cell-3101c4658c2583d5",
     "locked": true,
     "schema_version": 3,
     "solution": false,
     "task": false
    }
   },
   "source": [
    "#### 4.2) Kollisions-Funktion\n",
    "\n",
    "**Schreiben Sie eine Funktion `collision(f, tau)`, die die obige Berechnung des Kollisionsschritts implementiert.**\n",
    "  \n",
    "  - Sie bekommt folgende Argumente übergeben:\n",
    "     - ein Array mit Verteilungsdichten  (Typ _float_)\n",
    "     - den Relaxationsparameter `tau` (optional, Default-Wert 0.67)\n",
    "  - Auch hier soll der Inhalt des übergebenen Verteilungsdichte-Arrays wieder direkt verändert werden, sodass kein Rückgabewert benötigt wird.\n",
    "\n",
    " \n",
    "_Hinweise:_\n",
    "\n",
    "  - _Die Berechnung eines oder mehrerer Skalarprodukte lässt sich auch durch elementweise Multiplikation und anschließende Summation (über die korrekte Dimension!) erreichen._\n",
    "  - _Schauen Sie sich in Ruhe noch mal die Broadcasting-Regeln an. Sie könnten hier sehr nützlich sein. Schleifen sind nicht notwendig._\n",
    "  - _Für eine effiziente Implementierung ist es mitunter hilfreich, die Terme in den Formeln etwas umzustellen._\n",
    "  - _Die Berechnung der Dichte und Geschwindigkeit haben Sie schon oben als Funktion implementiert, die Sie hier weiterverwenden können._"
   ]
  },
  {
   "cell_type": "code",
   "id": "6ba738a4-3f52-4dba-980e-853e49f2d2d9",
   "metadata": {
    "deletable": false,
    "nbgrader": {
     "cell_type": "code",
     "checksum": "789efa815e0ecb4cab6a743492e4bda9",
     "grade": false,
     "grade_id": "cell-87cdd37ab56c2c08",
     "locked": false,
     "schema_version": 3,
     "solution": true,
     "task": false
    },
    "ExecuteTime": {
     "end_time": "2025-01-30T08:02:48.613886Z",
     "start_time": "2025-01-30T08:02:48.610580Z"
    }
   },
   "source": [
    "# Hier eigenen Code schreiben ...\n",
    "\n",
    "def collision(f: np.ndarray, tau=0.67):\n",
    "    \n",
    "    # Calculate the density and velocity\n",
    "    rho, u = density_velocity(f)\n",
    "    \n",
    "    # Calculate scalar product u * u for every point \n",
    "    u_dot_u = np.sum(u ** 2, axis=2)\n",
    "    \n",
    "    # Reshape u for broadcasting (m, n, 2) -> (m, n, 1, 2)\n",
    "    u = u[:, :, None, :]\n",
    "    \n",
    "    # Reshape e for broadcasting (9, 2) -> (1, 1, 9, 2)\n",
    "    e_reshaped = e.T[None, None, :, :]  # Transpose e first\n",
    "    \n",
    "    # Calculate scalar product u * e for every point\n",
    "    u_dot_e = np.sum(u * e_reshaped, axis=3)\n",
    "    \n",
    "    # Calculate equilibrium distribution\n",
    "    f_damp = rho[:, :, None] * omega * (1 + 3 * u_dot_e + 9/2 * u_dot_e ** 2 - 3/2 * u_dot_u[:, :, None])\n",
    "    \n",
    "    # Update f in-place using the relaxation formula\n",
    "    f *= (1 - 1/tau)\n",
    "    f += f_damp/tau\n",
    "    "
   ],
   "outputs": [],
   "execution_count": 388
  },
  {
   "cell_type": "code",
   "id": "9a953b44-b96f-471b-ab7d-ba8fdc89c332",
   "metadata": {
    "deletable": false,
    "editable": false,
    "nbgrader": {
     "cell_type": "code",
     "checksum": "b5fca325416b5a2a5e4e802a3cee26e4",
     "grade": true,
     "grade_id": "cell-dad4bf8a4073be2c",
     "locked": true,
     "points": 1,
     "schema_version": 3,
     "solution": false,
     "task": false
    },
    "ExecuteTime": {
     "end_time": "2025-01-30T08:02:48.620378Z",
     "start_time": "2025-01-30T08:02:48.614775Z"
    }
   },
   "source": [
    "# Hier sind Plausibilitäts-Tests:\n",
    "old_test_lattice = test_lattice.copy()\n",
    "collision(test_lattice)\n",
    "assert not np.array_equal(old_test_lattice, test_lattice)"
   ],
   "outputs": [],
   "execution_count": 389
  },
  {
   "cell_type": "markdown",
   "id": "ab1a14ad-4b0d-4d13-854b-8cd9d0a37abf",
   "metadata": {
    "deletable": false,
    "editable": false,
    "nbgrader": {
     "cell_type": "markdown",
     "checksum": "1de0fbe3acf9459aee5d1442aa52b4f2",
     "grade": false,
     "grade_id": "cell-5e1935d6d0d6f4cc",
     "locked": true,
     "schema_version": 3,
     "solution": false,
     "task": false
    }
   },
   "source": [
    "Wenn Sie diesen Schritt implementiert haben, klopfen Sie sich auf die Schulter und trinken Sie erst einmal einen Kaffee oder ein anderes Heißgetränk Ihrer Wahl.\n",
    "Dann starten Sie mit dem letzten Aufgabenteil.\n",
    "\n",
    "### 5) Simulation &emsp;_(2 Punkte)_\n",
    "\n",
    "Jetzt wird's ernst; die Zeit läuft bzw. soll laufen.\n",
    "Wir haben das unten schon mal für Sie vorbereitet. \n",
    "\n",
    "#### 5.1) Run!\n",
    "**Ergänzen Sie die Funktion `run_LBM()` um die im [Docstring](https://peps.python.org/pep-0257/) angegebenen noch fehlenden Funktionalitäten und führen Sie sie aus.**\n",
    "\n",
    "- Starten Sie zunächst mit einer geringen Anzahl an Zeitschritten und testen Sie, ob die Simulation erfolgreich ist.\n",
    "- Wenn es gut läuft, probieren Sie gern mal 10000 Zeitschritte und mehr und werten das sich entwickelnde Strömungsfeld aus.\n",
    "- Sie können die Parameter zwischen den Kommentaren \"Parameter ab hier\" und \"Parameter bis hier\" sowie in der letzten Zeile der Zelle gern variieren.\n",
    "- Achten Sie darauf, dass die Rechenzeit maximal im Bereich weniger Minuten liegt und die Simulation stabil bleibt (die Zahlen also nicht ins Unendliche divergieren)."
   ]
  },
  {
   "cell_type": "code",
   "id": "c1b89eaa-8d60-4404-b6cf-1a0f40a5f705",
   "metadata": {
    "deletable": false,
    "nbgrader": {
     "cell_type": "code",
     "checksum": "715c9b1175b2b14bbd8a332e2be96157",
     "grade": false,
     "grade_id": "cell-927b2fa4925d7827",
     "locked": false,
     "schema_version": 3,
     "solution": true,
     "task": false
    },
    "ExecuteTime": {
     "end_time": "2025-01-30T08:02:48.626411Z",
     "start_time": "2025-01-30T08:02:48.621376Z"
    }
   },
   "source": [
    "def run_LBM(timesteps, snapshot_interval=0, export_images=''):\n",
    "    \"\"\"Hauptfunktion zum Durchführen der LBM-Simulation.\n",
    "\n",
    "    Parameters\n",
    "    ----------\n",
    "    timesteps : int\n",
    "        Anzahl der Zeitschritte, die berechnet werden sollen.\n",
    "\n",
    "    snapshot_interval : int\n",
    "        Intervall für Ausgaben von Zwischenergebnissen während der Berechnung, optional (default: 0).\n",
    "        Werte von 1 oder mehr werden als Zeitschrittanzahl interpretiert, nach dem eine Text und ggf. Bild-Ausgabe geschehen soll.\n",
    "        Ausgabe im Intervall:\n",
    "          - Zeitschritt\n",
    "          - mittlere Verteilungsdichte (ungewichtet)\n",
    "          - minimale Verteilungsdichte\n",
    "          - maximale Verteilungsdichte\n",
    "    export_images : str\n",
    "        Schalter für Bild-Export, optional (default: '')\n",
    "        Falls Zeichenkette nicht leer ist, werden im Intervall `snapshot_interval` abgespeichert:\n",
    "          - Visualisierung des Geschwindigkeitsbetrags als Image-Plot\n",
    "          - Überlagerung mit dem verwendeteten Hindernis\n",
    "          - Dateibenennung aus Zeichenkette kombiniert mit aktuellem Zeitschritt\n",
    "\n",
    "\n",
    "    Returns\n",
    "    -------\n",
    "    (rho, u, obstacles) : tuple\n",
    "        rho : array of floats\n",
    "            Örtliche Dichteverteilung zum Ende der Simulation.\n",
    "        u : array of floats\n",
    "            Örtliche Verteilung der Geschwindigkeitsvektoren zum Ende der Simulation.\n",
    "        obstacles : array of bools\n",
    "            Örtliche Verteilung der Strömungsumgebung: \n",
    "                - True: festes Hindernis\n",
    "                - False: Fluid            \n",
    "    \n",
    "    \"\"\"\n",
    "    # Parameter ab hier\n",
    "    m = 60\n",
    "    n = 180\n",
    "    file = 'hindernis.gif'\n",
    "    center = (0.5,0.2)\n",
    "    \n",
    "    tau = 0.8\n",
    "    ux = 0.2\n",
    "    # Parameter bis hier\n",
    "    \n",
    "    obs = setup_environment(m, n, file, center)\n",
    "    f = init_lattice(obs)\n",
    "    \n",
    "    for t in range(timesteps):\n",
    "\n",
    "        # Verschiebung\n",
    "        streaming(f)\n",
    "        \n",
    "        # Randbedingungen\n",
    "        apply_boundaries(f, obs, ux)\n",
    "        \n",
    "        # Kollision\n",
    "        collision(f, tau)\n",
    "        \n",
    "        # Calculate the density and velocity\n",
    "        rho, u = density_velocity(f)\n",
    "        \n",
    "        # Output\n",
    "        if snapshot_interval > 0 and t % snapshot_interval == 0:\n",
    "            print(\n",
    "                f\"Timestep {t}:\"\n",
    "                f\"  Mean density: {np.mean(f):.6f}\"\n",
    "                f\"  Min density: {np.min(f):.6f}\"\n",
    "                f\"  Max density: {np.max(f):.6f}\")\n",
    "            \n",
    "            # Export images\n",
    "            if export_images:\n",
    "                plt.figure(figsize=(10,5))\n",
    "                plt.imshow(np.sqrt(np.sum(u**2, axis=2)), origin='lower', cmap='viridis')\n",
    "                plt.colorbar()\n",
    "                plt.imshow(obs, origin='lower', cmap='binary', alpha=0.5)\n",
    "                plt.savefig(f'{export_images}_{t}.png')\n",
    "                plt.close()\n",
    "                \n",
    "    return rho, u, obs\n",
    "            \n",
    "            \n",
    "# rho_end, u_end, obstacle = run_LBM(1000) # hier gern testen & variieren"
   ],
   "outputs": [],
   "execution_count": 390
  },
  {
   "cell_type": "markdown",
   "id": "bb5ef22d-7a68-40a6-b474-498650853b44",
   "metadata": {
    "deletable": false,
    "editable": false,
    "nbgrader": {
     "cell_type": "markdown",
     "checksum": "ce54fb7ec706a62865b21fb312df06bd",
     "grade": false,
     "grade_id": "cell-16266deb79865bbd",
     "locked": true,
     "schema_version": 3,
     "solution": false,
     "task": false
    }
   },
   "source": [
    "#### 5.2) Show!\n",
    "\n",
    "**Plotten Sie das Ergebnis $|\\vec{u}|$ (`u_abs`) als 2D-Bild für alle am Ende erhaltenen Geschwindigkeiten aus Ihrer obigen Simulation.**\n",
    "  \n",
    " - Achten Sie auf korrekte Ausrichtung der Achsen und eine geeignete Farbskalierung.\n",
    " - Das Hindernis soll an der korrekten Position über der Strömungsvisualisierung dargestellt sein und deutlich erkennbar sein.\n",
    " - Erstellen Sie eine Farbskala neben dem Plot zur Zuordung der Werte.\n",
    " - Sie können in zusätzlichen Plots gern weitere Größen wie z.B. die Wirbelstärke visualisieren."
   ]
  },
  {
   "cell_type": "code",
   "id": "ae70d999-6844-4aa9-9f46-24deb0e21bce",
   "metadata": {
    "deletable": false,
    "nbgrader": {
     "cell_type": "code",
     "checksum": "fe67a82274c350bf9085ae650ec5e8ab",
     "grade": true,
     "grade_id": "cell-fac073945a98b46f",
     "locked": false,
     "points": 1,
     "schema_version": 3,
     "solution": true,
     "task": false
    },
    "ExecuteTime": {
     "end_time": "2025-01-30T08:02:53.413920Z",
     "start_time": "2025-01-30T08:02:48.627413Z"
    }
   },
   "source": [
    "plt.figure(1,(10,5))\n",
    "# Hier eigenen Code schreiben ...\n",
    "\n",
    "# Run the LBM simulation\n",
    "rho, u, obstacle = run_LBM(1000)\n",
    "\n",
    "# Calculate velocity magnitude\n",
    "u_abs = np.sqrt(np.sum(u**2, axis=2))\n",
    "\n",
    "# Create main velocity plot\n",
    "plt.imshow(u_abs, origin='lower', cmap='viridis')\n",
    "plt.colorbar(label='Velocity magnitude |u|')\n",
    "\n",
    "# Overlay obstacle\n",
    "plt.imshow(obstacle, origin='lower', cmap='binary', alpha=0.3)\n",
    "\n",
    "# Add labels and title\n",
    "plt.xlabel('x')\n",
    "plt.ylabel('y')\n",
    "plt.title('Flow Field with Obstacle')\n",
    "\n",
    "plt.show()"
   ],
   "outputs": [
    {
     "name": "stderr",
     "output_type": "stream",
     "text": [
      "/var/folders/2x/cv375qk95wg5kxg56x6mt4mw0000gn/T/ipykernel_74231/719510544.py:21: RuntimeWarning: overflow encountered in multiply\n",
      "  f_damp = rho[:, :, None] * omega * (1 + 3 * u_dot_e + 9/2 * u_dot_e ** 2 - 3/2 * u_dot_u[:, :, None])\n",
      "/var/folders/2x/cv375qk95wg5kxg56x6mt4mw0000gn/T/ipykernel_74231/719510544.py:25: RuntimeWarning: overflow encountered in divide\n",
      "  f += f_damp/tau\n",
      "/var/folders/2x/cv375qk95wg5kxg56x6mt4mw0000gn/T/ipykernel_74231/301181669.py:15: RuntimeWarning: invalid value encountered in multiply\n",
      "  u[:, :, 0] += f[:, :, i] * e[0, i]  # x-component\n",
      "/var/folders/2x/cv375qk95wg5kxg56x6mt4mw0000gn/T/ipykernel_74231/301181669.py:16: RuntimeWarning: invalid value encountered in multiply\n",
      "  u[:, :, 1] += f[:, :, i] * e[1, i]  # y-component\n",
      "/var/folders/2x/cv375qk95wg5kxg56x6mt4mw0000gn/T/ipykernel_74231/301181669.py:15: RuntimeWarning: invalid value encountered in add\n",
      "  u[:, :, 0] += f[:, :, i] * e[0, i]  # x-component\n",
      "/var/folders/2x/cv375qk95wg5kxg56x6mt4mw0000gn/T/ipykernel_74231/301181669.py:16: RuntimeWarning: invalid value encountered in add\n",
      "  u[:, :, 1] += f[:, :, i] * e[1, i]  # y-component\n",
      "/var/folders/2x/cv375qk95wg5kxg56x6mt4mw0000gn/T/ipykernel_74231/301181669.py:20: RuntimeWarning: invalid value encountered in divide\n",
      "  u[mask] = u[mask] / rho[mask, None]\n",
      "/var/folders/2x/cv375qk95wg5kxg56x6mt4mw0000gn/T/ipykernel_74231/719510544.py:9: RuntimeWarning: overflow encountered in square\n",
      "  u_dot_u = np.sum(u ** 2, axis=2)\n",
      "/var/folders/2x/cv375qk95wg5kxg56x6mt4mw0000gn/T/ipykernel_74231/719510544.py:18: RuntimeWarning: invalid value encountered in multiply\n",
      "  u_dot_e = np.sum(u * e_reshaped, axis=3)\n",
      "/var/folders/2x/cv375qk95wg5kxg56x6mt4mw0000gn/T/ipykernel_74231/719510544.py:21: RuntimeWarning: overflow encountered in square\n",
      "  f_damp = rho[:, :, None] * omega * (1 + 3 * u_dot_e + 9/2 * u_dot_e ** 2 - 3/2 * u_dot_u[:, :, None])\n",
      "/var/folders/2x/cv375qk95wg5kxg56x6mt4mw0000gn/T/ipykernel_74231/719510544.py:21: RuntimeWarning: invalid value encountered in add\n",
      "  f_damp = rho[:, :, None] * omega * (1 + 3 * u_dot_e + 9/2 * u_dot_e ** 2 - 3/2 * u_dot_u[:, :, None])\n",
      "/var/folders/2x/cv375qk95wg5kxg56x6mt4mw0000gn/T/ipykernel_74231/719510544.py:21: RuntimeWarning: invalid value encountered in subtract\n",
      "  f_damp = rho[:, :, None] * omega * (1 + 3 * u_dot_e + 9/2 * u_dot_e ** 2 - 3/2 * u_dot_u[:, :, None])\n"
     ]
    },
    {
     "data": {
      "text/plain": [
       "<Figure size 1000x500 with 2 Axes>"
      ],
      "image/png": "[encoded data removed]"
     },
     "metadata": {},
     "output_type": "display_data"
    }
   ],
   "execution_count": 391
  },
  {
   "cell_type": "code",
   "id": "324651be-4678-445c-a107-5c4b2e077fb1",
   "metadata": {
    "deletable": false,
    "editable": false,
    "nbgrader": {
     "cell_type": "code",
     "checksum": "a82ed91d2d0df91fb8c8d9ad1160fd4e",
     "grade": true,
     "grade_id": "cell-65f0ab082a102bfe",
     "locked": true,
     "points": 1,
     "schema_version": 3,
     "solution": false,
     "task": false
    },
    "ExecuteTime": {
     "end_time": "2025-01-30T08:02:53.438858Z",
     "start_time": "2025-01-30T08:02:53.414980Z"
    }
   },
   "source": [
    "# Hier sind noch einige letzte Plausibilitäts-Tests:\n",
    "rho_test, u_test, obstacle_test = run_LBM(3)\n",
    "assert rho_test.shape[:2] == u_test.shape[:2] == obstacle_test.shape[:2]\n",
    "assert len(u_test.shape) > len(rho_test.shape)\n",
    "assert (rho_test > 0).all\n",
    "assert (u_abs > 0).all"
   ],
   "outputs": [],
   "execution_count": 392
  },
  {
   "cell_type": "markdown",
   "id": "995304f7-df16-4e05-9cfc-2015eef94278",
   "metadata": {
    "deletable": false,
    "editable": false,
    "nbgrader": {
     "cell_type": "markdown",
     "checksum": "8b3e0aa956152d7b82af94dcb1bfcd20",
     "grade": false,
     "grade_id": "cell-499b9d2a6e8a6ead",
     "locked": true,
     "schema_version": 3,
     "solution": false,
     "task": false
    }
   },
   "source": [
    "#### Wenn Sie ein interessantes Ergebnis erhalten haben, dürfen Sie ein Bild oder eine Animation Ihres Strömungsfelds gern im Kurs-Forum teilen."
   ]
  }
 ],
 "metadata": {
  "kernelspec": {
   "display_name": "Python 3 (ipykernel)",
   "language": "python",
   "name": "python3"
  },
  "language_info": {
   "codemirror_mode": {
    "name": "ipython",
    "version": 3
   },
   "file_extension": ".py",
   "mimetype": "text/x-python",
   "name": "python",
   "nbconvert_exporter": "python",
   "pygments_lexer": "ipython3",
   "version": "3.12.4"
  }
 },
 "nbformat": 4,
 "nbformat_minor": 5
}
