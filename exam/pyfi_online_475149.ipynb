{
 "cells": [
  {
   "cell_type": "markdown",
   "id": "11b3603ba",
   "metadata": {
    "deletable": false,
    "editable": false,
    "nbgrader": {
     "cell_type": "markdown",
     "checksum": "807df659c0f2793f26484bcca7526962",
     "grade": false,
     "grade_id": "cell-00header",
     "locked": true,
     "schema_version": 3,
     "solution": false,
     "task": false
    },
    "signature": "7400d"
   },
   "source": [
    "# Python für Ingenieure\n",
    "## Notebook zur Programmier-Abschlussarbeit\n",
    "<!-- 475149, Prüfungszeitraum 2025: 1 -->\n",
    "\n",
    "---\n",
    "\n",
    "**Bitte den folgenden Abschnitt genau durchlesen:**\n",
    "\n",
    "Dieses Jupyter-Notebook-Dokument ist als Teilleistung für die Portfolio-Prüfung zum \n",
    "Kurs \"Python für Ingenieure\" zu bearbeiten.\n",
    "Für Ihre Lösung dieser Arbeit erhalten Sie bis zu **40 Portfolio-Punkte**.\n",
    "Eine genauere Aufteilung der zu vergebenden Punkte finden Sie in den (Teil-)Aufgaben.\n",
    "\n",
    "  * Lösen Sie die Aufgaben, indem Sie Zellen mit dem Hinweis \"`# Hier eigenen Code schreiben ...`\" direkt im Dokument ergänzen.\n",
    "  * Nutzen Sie **Jupyter Notebook oder JupyterLab** zur Bearbeitung, um sicherzustellen, dass alle Inhalte korrekt angezeigt werden.\n",
    "  * Beachten Sie, dass Sie nicht alle Zellen editieren können (einige enthalten z.B. Plausibilitätstests).\n",
    "  * **Fügen Sie keine weiteren Zellen hinzu.** Arbeiten Sie ausschließlich in den dafür vorgesehenen Zellen.\n",
    "  * Importieren Sie keine Module abseits von Standard-Modulen, wenn Sie nicht dazu aufgefordert werden.\n",
    "  * Kommentare mit Erläuterungen oder auskommentierter Programmcode werden bei der Bewertung nicht berücksichtigt.\n",
    "  * Schließen Sie die Arbeiten spätestens ca. 1 Stunde vor der Abgabefrist ab und laden Sie **nur** das bearbeitete und **nicht umbenannte** Notebook (`pyfi_online_475149.ipynb`) in der entsprechenden **Abgabe im ISIS-Kurs** hoch.\n",
    "  * Sollten Sie Probleme beim Upload auf die Kursseite haben, senden Sie Ihr Notebook per E-Mail an [py@akustik.tu-berlin.de](mailto:py@akustik.tu-berlin.de) mit dem Betreff \"Python-Prüfung 475149 [Ihr Name]\". Es gilt dieselbe Abgabefrist wie für den Upload.\n",
    "  * Auch für andere Anliegen zu dieser Arbeit wenden Sie sich bitte ausschließlich an [py@akustik.tu-berlin.de](mailto:py@akustik.tu-berlin.de). Verwenden Sie **nicht die Foren** für Fragen zu Ihrer Arbeit. \n",
    "  * Für die Kommunikation mit Ihnen verwenden wir **ausschließlich Ihre TU-E-Mail-Adresse**. Wenn Sie uns kontaktieren möchten, dann bitte nur von dieser Adresse aus oder mindestens mit der TU-E-Mail-Adresse im CC.\n",
    "\n",
    "Während der Programmierung in diesem Dokument ist es erlaubt, sämtliche Aufzeichnungen, \n",
    "Skripte sowie das Internet **zur Recherche** zu verwenden.\n",
    "Ein Austausch über die Prüfungsinhalte mit anderen Personen ist jedoch **nicht erlaubt**.\n",
    "Insbesondere das Teilen dieses Dokuments – auch auszugsweise – mit Dritten ist nicht gestattet und kann als Betrugsversuch gewertet werden. \n",
    "\n",
    "**Mit dem Upload des bearbeiteten Dokumentes unter Ihrer Matrikelnummer (über Ihren ISIS-Account oder per E-Mail) erklären Sie, dass Sie alle Aufgaben selbstständig bearbeitet haben sowie die Inhalte nicht anderweitig geteilt haben.**\n",
    "\n",
    "---"
   ]
  },
  {
   "cell_type": "markdown",
   "id": "11b3603bb",
   "metadata": {
    "deletable": false,
    "editable": false,
    "nbgrader": {
     "cell_type": "markdown",
     "checksum": "fccc453161fbf5a6112eb7af11fd831e",
     "grade": false,
     "grade_id": "cell-a01v02c01",
     "locked": true,
     "schema_version": 3,
     "solution": false,
     "task": false
    },
    "signature": "7400d"
   },
   "source": [
    "### 1. Wer bin ich und wenn ja, was mache ich hier?\n",
    "\n",
    "#### 1.1. Deklaration von Variablen (2 Punkte)\n",
    "\n",
    "Erstellen Sie folgende drei Variablen:\n",
    "\n",
    "```python\n",
    "matrikelnummer\n",
    "name\n",
    "studiengang\n",
    "``` \n",
    "\n",
    "Den Variablen sollen entsprechend der Bezeichnung folgende Werte zugewiesen werden:\n",
    "\n",
    "   * Ihre Matrikelnummer als Integerwert\n",
    "   * Ihre Vor- und Nachnamen als Zeichenkette\n",
    "   * Ihren Studiengang als Zeichenkette\n",
    "\n",
    "Die Zeichenketten dürfen Leerzeichen enthalten. \n",
    "Es kommt bei den Zeichenketten nicht auf exakte Wiedergabe an, jedoch sollten Sie und Ihr Studiengang identifizierbar sein."
   ]
  },
  {
   "cell_type": "code",
   "id": "11b3603bc",
   "metadata": {
    "deletable": false,
    "execution": {
     "iopub.execute_input": "2025-01-26T17:18:28.992271Z",
     "iopub.status.busy": "2025-01-26T17:18:28.991918Z",
     "iopub.status.idle": "2025-01-26T17:18:28.997308Z",
     "shell.execute_reply": "2025-01-26T17:18:28.996545Z"
    },
    "nbgrader": {
     "cell_type": "code",
     "checksum": "ce0510bd428846aacb9f92506a3ca6c4",
     "grade": false,
     "grade_id": "cell-a01v02c02",
     "locked": false,
     "schema_version": 3,
     "solution": true,
     "task": false
    },
    "signature": "7400d",
    "ExecuteTime": {
     "end_time": "2025-01-28T10:06:21.358083Z",
     "start_time": "2025-01-28T10:06:21.350593Z"
    }
   },
   "source": [
    "# Hier eigenen Code schreiben ...\n",
    "\n",
    "# Variablen deklarieren mit Annotations und Werten\n",
    "matrikelnummer: int = 475149\n",
    "name: str = \"Finn Glück\"\n",
    "studiengang: str = \"Wirtschaftsingenieurwesen B.Sc.\""
   ],
   "outputs": [],
   "execution_count": 282
  },
  {
   "cell_type": "code",
   "id": "11b3603bd",
   "metadata": {
    "deletable": false,
    "editable": false,
    "execution": {
     "iopub.execute_input": "2025-01-26T17:18:29.000911Z",
     "iopub.status.busy": "2025-01-26T17:18:29.000619Z",
     "iopub.status.idle": "2025-01-26T17:18:29.005173Z",
     "shell.execute_reply": "2025-01-26T17:18:29.004309Z"
    },
    "nbgrader": {
     "cell_type": "code",
     "checksum": "cfb446e3ac040b225bf86475f17d3819",
     "grade": true,
     "grade_id": "cell-a01v02c03",
     "locked": true,
     "points": 1,
     "schema_version": 3,
     "solution": false,
     "task": false
    },
    "signature": "7400d",
    "ExecuteTime": {
     "end_time": "2025-01-28T10:06:21.544340Z",
     "start_time": "2025-01-28T10:06:21.541505Z"
    }
   },
   "source": [
    "# Hier ist ein Plausibilitäts-Test:\n",
    "assert (matrikelnummer*3)//10000 == 142"
   ],
   "outputs": [],
   "execution_count": 283
  },
  {
   "cell_type": "code",
   "id": "11b3603be",
   "metadata": {
    "deletable": false,
    "editable": false,
    "execution": {
     "iopub.execute_input": "2025-01-26T17:18:29.009121Z",
     "iopub.status.busy": "2025-01-26T17:18:29.008266Z",
     "iopub.status.idle": "2025-01-26T17:18:29.013001Z",
     "shell.execute_reply": "2025-01-26T17:18:29.012127Z"
    },
    "nbgrader": {
     "cell_type": "code",
     "checksum": "13d46cc007b5d9826088e169443a06d8",
     "grade": true,
     "grade_id": "cell-a01v02c04",
     "locked": true,
     "points": 1,
     "schema_version": 3,
     "solution": false,
     "task": false
    },
    "signature": "7400d",
    "ExecuteTime": {
     "end_time": "2025-01-28T10:06:21.554867Z",
     "start_time": "2025-01-28T10:06:21.552444Z"
    }
   },
   "source": [
    "# Hier ist noch ein Plausibilitäts-Test:\n",
    "assert type(name) == type(studiengang)"
   ],
   "outputs": [],
   "execution_count": 284
  },
  {
   "cell_type": "markdown",
   "id": "11b3603bf",
   "metadata": {
    "deletable": false,
    "editable": false,
    "nbgrader": {
     "cell_type": "markdown",
     "checksum": "f8a86f03ea42a72742503bc069c90bde",
     "grade": false,
     "grade_id": "cell-a01v02c05",
     "locked": true,
     "schema_version": 3,
     "solution": false,
     "task": false
    },
    "signature": "7400d"
   },
   "source": [
    "#### 1.2. Sequenzen verarbeiten (3 Punkte)\n",
    "\n",
    "  * Bestimmen Sie die Anzahl der Zeichen in `name` (inkl. Leerzeichen) und weisen Sie den Wert der Variable `laenge` zu.\n",
    "  * Erstellen Sie eine neue Zeichenkette `langes_studium`, die die Zeichenkette `studiengang` 96 Mal hintereinander enthält. \n",
    "  * Berechnen Sie den Quotienten zwischen `laenge` und `matrikelnummer` und vermerken Sie das Ergebnis als Fließkommazahl unter `quotient`.\n",
    "  "
   ]
  },
  {
   "cell_type": "code",
   "id": "11b3603c0",
   "metadata": {
    "deletable": false,
    "execution": {
     "iopub.execute_input": "2025-01-26T17:18:29.015409Z",
     "iopub.status.busy": "2025-01-26T17:18:29.015298Z",
     "iopub.status.idle": "2025-01-26T17:18:29.017106Z",
     "shell.execute_reply": "2025-01-26T17:18:29.016837Z"
    },
    "nbgrader": {
     "cell_type": "code",
     "checksum": "bf4bb21d4d77c3cfe3015eb5c04bfd13",
     "grade": false,
     "grade_id": "cell-a01v02c06",
     "locked": false,
     "schema_version": 3,
     "solution": true,
     "task": false
    },
    "signature": "7400d",
    "ExecuteTime": {
     "end_time": "2025-01-28T10:06:21.569870Z",
     "start_time": "2025-01-28T10:06:21.567472Z"
    }
   },
   "source": [
    "# Hier eigenen Code schreiben ...\n",
    "\n",
    "# Calculate the length of the name\n",
    "laenge = len(name)\n",
    "\n",
    "# Create a new string with the studiengang 96 times\n",
    "langes_studium = studiengang*96\n",
    "\n",
    "# Calculate the quotient of the length and the matrikelnummer, result is automatically float\n",
    "quotient = laenge/matrikelnummer"
   ],
   "outputs": [],
   "execution_count": 285
  },
  {
   "cell_type": "code",
   "id": "11b3603c1",
   "metadata": {
    "deletable": false,
    "editable": false,
    "execution": {
     "iopub.execute_input": "2025-01-26T17:18:29.018237Z",
     "iopub.status.busy": "2025-01-26T17:18:29.018136Z",
     "iopub.status.idle": "2025-01-26T17:18:29.019820Z",
     "shell.execute_reply": "2025-01-26T17:18:29.019569Z"
    },
    "nbgrader": {
     "cell_type": "code",
     "checksum": "5eb9bc2d8cd3bb80311de3763d8b8171",
     "grade": true,
     "grade_id": "cell-a01v02c07",
     "locked": true,
     "points": 1,
     "schema_version": 3,
     "solution": false,
     "task": false
    },
    "signature": "7400d",
    "ExecuteTime": {
     "end_time": "2025-01-28T10:06:21.599608Z",
     "start_time": "2025-01-28T10:06:21.597082Z"
    }
   },
   "source": [
    "# Hier ist ein Plausibilitäts-Test:\n",
    "assert laenge"
   ],
   "outputs": [],
   "execution_count": 286
  },
  {
   "cell_type": "code",
   "id": "11b3603c2",
   "metadata": {
    "deletable": false,
    "editable": false,
    "execution": {
     "iopub.execute_input": "2025-01-26T17:18:29.020854Z",
     "iopub.status.busy": "2025-01-26T17:18:29.020748Z",
     "iopub.status.idle": "2025-01-26T17:18:29.022490Z",
     "shell.execute_reply": "2025-01-26T17:18:29.022249Z"
    },
    "nbgrader": {
     "cell_type": "code",
     "checksum": "50c869f86313cf3a85b4ee4c033f5771",
     "grade": true,
     "grade_id": "cell-a01v02c08",
     "locked": true,
     "points": 1,
     "schema_version": 3,
     "solution": false,
     "task": false
    },
    "signature": "7400d",
    "ExecuteTime": {
     "end_time": "2025-01-28T10:06:21.615279Z",
     "start_time": "2025-01-28T10:06:21.612603Z"
    }
   },
   "source": [
    "# Hier sind einige weitere Plausibilitäts-Tests:\n",
    "assert studiengang in langes_studium\n",
    "assert langes_studium[0]==studiengang[0]"
   ],
   "outputs": [],
   "execution_count": 287
  },
  {
   "cell_type": "code",
   "id": "11b3603c3",
   "metadata": {
    "deletable": false,
    "editable": false,
    "execution": {
     "iopub.execute_input": "2025-01-26T17:18:29.023497Z",
     "iopub.status.busy": "2025-01-26T17:18:29.023399Z",
     "iopub.status.idle": "2025-01-26T17:18:29.061445Z",
     "shell.execute_reply": "2025-01-26T17:18:29.061083Z"
    },
    "nbgrader": {
     "cell_type": "code",
     "checksum": "e96ba68804061045e81e975437d42907",
     "grade": true,
     "grade_id": "cell-a01v02c09",
     "locked": true,
     "points": 1,
     "schema_version": 3,
     "solution": false,
     "task": false
    },
    "signature": "7400d",
    "ExecuteTime": {
     "end_time": "2025-01-28T10:06:21.628358Z",
     "start_time": "2025-01-28T10:06:21.626298Z"
    }
   },
   "source": [
    "# Hier ist noch ein Plausibilitäts-Test:\n",
    "assert quotient<laenge"
   ],
   "outputs": [],
   "execution_count": 288
  },
  {
   "cell_type": "markdown",
   "id": "11b3603c4",
   "metadata": {
    "deletable": false,
    "editable": false,
    "nbgrader": {
     "cell_type": "markdown",
     "checksum": "daa4378946297bdbb8fb929e62e5d2af",
     "grade": false,
     "grade_id": "cell-a02v01c01",
     "locked": true,
     "schema_version": 3,
     "solution": false,
     "task": false
    },
    "signature": "7400d"
   },
   "source": [
    "### 2. Array mit Zufallszahlen"
   ]
  },
  {
   "cell_type": "code",
   "id": "11b3603c5",
   "metadata": {
    "deletable": false,
    "editable": false,
    "execution": {
     "iopub.execute_input": "2025-01-26T17:18:29.063878Z",
     "iopub.status.busy": "2025-01-26T17:18:29.063090Z",
     "iopub.status.idle": "2025-01-26T17:18:29.070348Z",
     "shell.execute_reply": "2025-01-26T17:18:29.070016Z"
    },
    "nbgrader": {
     "cell_type": "code",
     "checksum": "a66d05dc14213fffeaea49fceefa1473",
     "grade": false,
     "grade_id": "cell-a02v01c02",
     "locked": true,
     "schema_version": 3,
     "solution": false,
     "task": false
    },
    "signature": "7400d",
    "ExecuteTime": {
     "end_time": "2025-01-28T10:06:21.647800Z",
     "start_time": "2025-01-28T10:06:21.645528Z"
    }
   },
   "source": [
    "import numpy as np\n",
    "np.random.seed(15)"
   ],
   "outputs": [],
   "execution_count": 289
  },
  {
   "cell_type": "markdown",
   "id": "11b3603c6",
   "metadata": {
    "deletable": false,
    "editable": false,
    "nbgrader": {
     "cell_type": "markdown",
     "checksum": "1759a7e71e934f3c336c5a572e9c3f10",
     "grade": false,
     "grade_id": "cell-a02v01c03",
     "locked": true,
     "schema_version": 3,
     "solution": false,
     "task": false
    },
    "signature": "7400d"
   },
   "source": [
    "#### 2.1. Erzeugung (1 Punkt)\n",
    "Erstellen Sie ein NumPy-Array `a` mit 8 Zeilen und 16 Spalten, das Zufallszahlen aus einer Normalverteilung (Mittelwert: 0; Standardabweichung: 3.5) enthält."
   ]
  },
  {
   "cell_type": "code",
   "id": "11b3603c7",
   "metadata": {
    "deletable": false,
    "execution": {
     "iopub.execute_input": "2025-01-26T17:18:29.072859Z",
     "iopub.status.busy": "2025-01-26T17:18:29.072185Z",
     "iopub.status.idle": "2025-01-26T17:18:29.075073Z",
     "shell.execute_reply": "2025-01-26T17:18:29.074776Z"
    },
    "nbgrader": {
     "cell_type": "code",
     "checksum": "16a94f6b628f4f1fead4a979dfc4ecdc",
     "grade": false,
     "grade_id": "cell-a02v01c04",
     "locked": false,
     "schema_version": 3,
     "solution": true,
     "task": false
    },
    "signature": "7400d",
    "ExecuteTime": {
     "end_time": "2025-01-28T10:06:21.666502Z",
     "start_time": "2025-01-28T10:06:21.663702Z"
    }
   },
   "source": [
    "a = None\n",
    "# Hier eigenen Code schreiben ...\n",
    "\n",
    "# Create a 8x16 array with random values from a normal distribution\n",
    "a = np.random.normal(0, 3.5, (8,16))"
   ],
   "outputs": [],
   "execution_count": 290
  },
  {
   "cell_type": "code",
   "id": "11b3603c8",
   "metadata": {
    "deletable": false,
    "editable": false,
    "execution": {
     "iopub.execute_input": "2025-01-26T17:18:29.077382Z",
     "iopub.status.busy": "2025-01-26T17:18:29.076746Z",
     "iopub.status.idle": "2025-01-26T17:18:29.082066Z",
     "shell.execute_reply": "2025-01-26T17:18:29.081779Z"
    },
    "nbgrader": {
     "cell_type": "code",
     "checksum": "35c9861ccd9e8e73bc980e7181fd7e9d",
     "grade": true,
     "grade_id": "cell-a02v01c05",
     "locked": true,
     "points": 1,
     "schema_version": 3,
     "solution": false,
     "task": false
    },
    "signature": "7400d",
    "ExecuteTime": {
     "end_time": "2025-01-28T10:06:21.672323Z",
     "start_time": "2025-01-28T10:06:21.668115Z"
    }
   },
   "source": [
    "# Hier sind einige Plausibilitäts-Tests:\n",
    "assert a is not None\n",
    "assert type(a) == np.ndarray\n",
    "print(np.around(a,2))"
   ],
   "outputs": [
    {
     "name": "stdout",
     "output_type": "stream",
     "text": [
      "[[-1.09  1.19 -0.55 -1.76  0.82 -6.17 -3.84 -3.81 -1.07 -1.66 -0.7   1.24\n",
      "   2.41  1.44 -1.98  2.1 ]\n",
      " [-0.57  5.6   2.39  0.05 -0.31 -3.44  0.43 -3.98  1.22 -6.5  -4.09  4.99\n",
      "   5.24  4.51 -6.34 -5.24]\n",
      " [-5.08 -5.93  0.8  -1.71 -0.   -1.72 -2.78  7.17  2.11 -3.49  4.25 -2.34\n",
      "  -0.95  4.96 -2.74 -0.88]\n",
      " [-1.08  6.05  6.92  0.77  6.63 -4.79 -0.67  4.51 -0.86  1.2   0.78  2.39\n",
      "   0.88 -5.19 -1.35 -2.57]\n",
      " [ 2.05 -6.08 -2.89  4.14  1.24  8.55 -0.13 -9.49  3.47  0.67 -1.23 -4.69\n",
      "  -0.66  2.09  1.19  0.29]\n",
      " [ 2.12  0.59 -3.64  1.    1.76  6.77  0.17 -3.68  4.08  2.57 -1.97 -4.25\n",
      "   5.42 -5.94 -2.21  1.  ]\n",
      " [-3.67 -0.65  1.74 -1.42 -4.49 -2.15 -0.38  3.97 -3.63  5.29 -3.04  4.87\n",
      "   7.61  4.55 -0.66  5.84]\n",
      " [ 4.04  1.69 -0.62 -1.35 -0.46  8.26  1.81  1.54 -1.67  1.15 -0.99 -2.52\n",
      "   0.31 -1.65  0.45 -0.37]]\n"
     ]
    }
   ],
   "execution_count": 291
  },
  {
   "cell_type": "markdown",
   "id": "11b3603c9",
   "metadata": {
    "deletable": false,
    "editable": false,
    "nbgrader": {
     "cell_type": "markdown",
     "checksum": "a79ed4f0e5178d6e6742bc02069a9f91",
     "grade": false,
     "grade_id": "cell-a02v01c06",
     "locked": true,
     "schema_version": 3,
     "solution": false,
     "task": false
    },
    "signature": "7400d"
   },
   "source": [
    "#### 2.2. Indizierung von vorn (1 Punkt)\n",
    "\n",
    "Holen Sie die ersten 3 Werte aus den ersten 3 Zeilen des Arrays `a` und speichern Sie das Ergebnis im Array `a_linksoben` (mit entsprechend 3 Spalten und 3 Zeilen)."
   ]
  },
  {
   "cell_type": "code",
   "id": "11b3603ca",
   "metadata": {
    "deletable": false,
    "execution": {
     "iopub.execute_input": "2025-01-26T17:18:29.084373Z",
     "iopub.status.busy": "2025-01-26T17:18:29.083740Z",
     "iopub.status.idle": "2025-01-26T17:18:29.087575Z",
     "shell.execute_reply": "2025-01-26T17:18:29.087289Z"
    },
    "nbgrader": {
     "cell_type": "code",
     "checksum": "a7a7c69b3bc50a1259d8574040512f33",
     "grade": false,
     "grade_id": "cell-a02v01c07",
     "locked": false,
     "schema_version": 3,
     "solution": true,
     "task": false
    },
    "signature": "7400d",
    "ExecuteTime": {
     "end_time": "2025-01-28T10:06:21.690978Z",
     "start_time": "2025-01-28T10:06:21.688735Z"
    }
   },
   "source": [
    "a_linksoben = None\n",
    "# Hier eigenen Code schreiben ...\n",
    "\n",
    "# Get the first 3 values from the first 3 rows\n",
    "a_linksoben = a[:3,:3]"
   ],
   "outputs": [],
   "execution_count": 292
  },
  {
   "cell_type": "code",
   "id": "11b3603cb",
   "metadata": {
    "deletable": false,
    "editable": false,
    "execution": {
     "iopub.execute_input": "2025-01-26T17:18:29.089855Z",
     "iopub.status.busy": "2025-01-26T17:18:29.089218Z",
     "iopub.status.idle": "2025-01-26T17:18:29.092379Z",
     "shell.execute_reply": "2025-01-26T17:18:29.092067Z"
    },
    "nbgrader": {
     "cell_type": "code",
     "checksum": "9722011e361dcc65f1b4227772d5962d",
     "grade": true,
     "grade_id": "cell-a02v01c08",
     "locked": true,
     "points": 1,
     "schema_version": 3,
     "solution": false,
     "task": false
    },
    "signature": "7400d",
    "ExecuteTime": {
     "end_time": "2025-01-28T10:06:21.705492Z",
     "start_time": "2025-01-28T10:06:21.702774Z"
    }
   },
   "source": [
    "# Hier sind einige Plausibilitäts-Tests:\n",
    "assert a_linksoben is not None\n",
    "assert type(a_linksoben) == np.ndarray\n",
    "assert a_linksoben.shape[0] <= a.shape[0]"
   ],
   "outputs": [],
   "execution_count": 293
  },
  {
   "cell_type": "markdown",
   "id": "11b3603cc",
   "metadata": {
    "deletable": false,
    "editable": false,
    "nbgrader": {
     "cell_type": "markdown",
     "checksum": "34462e5e16394b283567bc693e0d254e",
     "grade": false,
     "grade_id": "cell-a02v01c09",
     "locked": true,
     "schema_version": 3,
     "solution": false,
     "task": false
    },
    "signature": "7400d"
   },
   "source": [
    "#### 2.3. Indizierung von hinten (1 Punkt)\n",
    "\n",
    "Holen Sie die _letzten_ 3 Werte aus den _letzten_ 3 Zeilen des Arrays `a` und speichern Sie das Ergebnis im Array `a_rechtsunten` (mit entsprechend 3 Zeilen und 3 Spalten, mit derselben relativen Anordnung der Werte)."
   ]
  },
  {
   "cell_type": "code",
   "id": "11b3603cd",
   "metadata": {
    "deletable": false,
    "execution": {
     "iopub.execute_input": "2025-01-26T17:18:29.094678Z",
     "iopub.status.busy": "2025-01-26T17:18:29.094058Z",
     "iopub.status.idle": "2025-01-26T17:18:29.097785Z",
     "shell.execute_reply": "2025-01-26T17:18:29.097503Z"
    },
    "nbgrader": {
     "cell_type": "code",
     "checksum": "033037614ababded2fe82109ea421e3c",
     "grade": false,
     "grade_id": "cell-a02v01c10",
     "locked": false,
     "schema_version": 3,
     "solution": true,
     "task": false
    },
    "signature": "7400d",
    "ExecuteTime": {
     "end_time": "2025-01-28T10:06:21.722085Z",
     "start_time": "2025-01-28T10:06:21.719810Z"
    }
   },
   "source": [
    "a_rechtsunten = None\n",
    "# Hier eigenen Code schreiben ...\n",
    "a_rechtsunten = a[-3:, -3:]"
   ],
   "outputs": [],
   "execution_count": 294
  },
  {
   "cell_type": "code",
   "id": "11b3603ce",
   "metadata": {
    "deletable": false,
    "editable": false,
    "execution": {
     "iopub.execute_input": "2025-01-26T17:18:29.100053Z",
     "iopub.status.busy": "2025-01-26T17:18:29.099434Z",
     "iopub.status.idle": "2025-01-26T17:18:29.102566Z",
     "shell.execute_reply": "2025-01-26T17:18:29.102281Z"
    },
    "nbgrader": {
     "cell_type": "code",
     "checksum": "ff714f0eae9841048145031cb843d2e6",
     "grade": true,
     "grade_id": "cell-a02v01c11",
     "locked": true,
     "points": 1,
     "schema_version": 3,
     "solution": false,
     "task": false
    },
    "signature": "7400d",
    "ExecuteTime": {
     "end_time": "2025-01-28T10:06:21.758338Z",
     "start_time": "2025-01-28T10:06:21.756045Z"
    }
   },
   "source": [
    "# Hier sind einige Plausibilitäts-Tests:\n",
    "assert a_rechtsunten is not None\n",
    "assert type(a_rechtsunten) == np.ndarray\n",
    "assert a_rechtsunten.shape[0] <= a.shape[0]"
   ],
   "outputs": [],
   "execution_count": 295
  },
  {
   "cell_type": "markdown",
   "id": "11b3603cf",
   "metadata": {
    "deletable": false,
    "editable": false,
    "nbgrader": {
     "cell_type": "markdown",
     "checksum": "e2c910f0cb7e7a415cbdd797d7508e78",
     "grade": false,
     "grade_id": "cell-a02v01c18",
     "locked": true,
     "schema_version": 3,
     "solution": false,
     "task": false
    },
    "signature": "7400d"
   },
   "source": [
    "#### 2.4. Werteverschiebung (1 Punkt)\n",
    "\n",
    "_Ändern_ Sie die Einträge im Array `a` so ab, dass die relative Verteilung der Werte (=Standardabweichung) und die Differenz zwischen zwei beliebigen Einträgen genau gleich bleiben, der tatsächliche Mittelwert jedoch genau bei 0 liegt (mindestens bis zur 4. Nachkommastelle)."
   ]
  },
  {
   "cell_type": "code",
   "id": "11b3603d0",
   "metadata": {
    "deletable": false,
    "execution": {
     "iopub.execute_input": "2025-01-26T17:18:29.104862Z",
     "iopub.status.busy": "2025-01-26T17:18:29.104253Z",
     "iopub.status.idle": "2025-01-26T17:18:29.106861Z",
     "shell.execute_reply": "2025-01-26T17:18:29.106578Z"
    },
    "nbgrader": {
     "cell_type": "code",
     "checksum": "f50902374cfdd26d2bdaf226d5087183",
     "grade": false,
     "grade_id": "cell-a02v01c19",
     "locked": false,
     "schema_version": 3,
     "solution": true,
     "task": false
    },
    "signature": "7400d",
    "ExecuteTime": {
     "end_time": "2025-01-28T10:06:21.772608Z",
     "start_time": "2025-01-28T10:06:21.770357Z"
    }
   },
   "source": [
    "# Hier eigenen Code schreiben ...\n",
    "\n",
    "# Subtract the mean of the array from all values\n",
    "a = a - np.mean(a)"
   ],
   "outputs": [],
   "execution_count": 296
  },
  {
   "cell_type": "code",
   "id": "11b3603d1",
   "metadata": {
    "deletable": false,
    "editable": false,
    "execution": {
     "iopub.execute_input": "2025-01-26T17:18:29.109130Z",
     "iopub.status.busy": "2025-01-26T17:18:29.108503Z",
     "iopub.status.idle": "2025-01-26T17:18:29.111897Z",
     "shell.execute_reply": "2025-01-26T17:18:29.111606Z"
    },
    "nbgrader": {
     "cell_type": "code",
     "checksum": "966d6568b561282726df6cf3476989e0",
     "grade": true,
     "grade_id": "cell-a02v01c20",
     "locked": true,
     "points": 1,
     "schema_version": 3,
     "solution": false,
     "task": false
    },
    "signature": "7400d",
    "ExecuteTime": {
     "end_time": "2025-01-28T10:06:21.797421Z",
     "start_time": "2025-01-28T10:06:21.794982Z"
    }
   },
   "source": [
    "# Hier ist ein Plausibilitäts-Test:\n",
    "assert a is not None"
   ],
   "outputs": [],
   "execution_count": 297
  },
  {
   "cell_type": "markdown",
   "id": "11b3603d2",
   "metadata": {
    "deletable": false,
    "editable": false,
    "nbgrader": {
     "cell_type": "markdown",
     "checksum": "af8e1fee0843bc6194268097903ca59b",
     "grade": false,
     "grade_id": "cell-9a210a23b4f61799",
     "locked": true,
     "schema_version": 3,
     "solution": false,
     "task": false
    },
    "signature": "7400d"
   },
   "source": [
    "#### 2.5. Skalarprodukt (1 Punkt)\n",
    "\n",
    "Berechnen Sie das Skalarprodukt `s` zwischen der Spalte von `a`, die den größten Eintrag enthält, mit der Spalte von `a`, bei der die Summe der Einträge am nächsten an 0 liegt. Falls Kriterien auf mehrere Spalten zutreffen, verwenden Sie jeweils die Spalte mit dem kleinsten Index."
   ]
  },
  {
   "cell_type": "code",
   "id": "11b3603d3",
   "metadata": {
    "deletable": false,
    "execution": {
     "iopub.execute_input": "2025-01-26T17:18:29.114211Z",
     "iopub.status.busy": "2025-01-26T17:18:29.113594Z",
     "iopub.status.idle": "2025-01-26T17:18:29.116662Z",
     "shell.execute_reply": "2025-01-26T17:18:29.116378Z"
    },
    "nbgrader": {
     "cell_type": "code",
     "checksum": "6b1af3ae0991c75d6448874c1779a92e",
     "grade": false,
     "grade_id": "cell-3e38b96ef46ec05d",
     "locked": false,
     "schema_version": 3,
     "solution": true,
     "task": false
    },
    "signature": "7400d",
    "ExecuteTime": {
     "end_time": "2025-01-28T10:06:21.811819Z",
     "start_time": "2025-01-28T10:06:21.808180Z"
    }
   },
   "source": [
    "s = None\n",
    "# Hier eigenen Code schreiben ...\n",
    "\n",
    "# Get the index of the column with the maximum value\n",
    "max_spalte = np.argmax(np.max(a, axis=0))\n",
    "# Get the index of the column with the sum closest to zero\n",
    "min_spalte = np.argmin(np.abs(np.sum(a, axis=0)))\n",
    "\n",
    "# Calculate the scalar product of the two columns\n",
    "s = np.dot(a[:,max_spalte], a[:,min_spalte])\n",
    "\n",
    "print(s)"
   ],
   "outputs": [
    {
     "name": "stdout",
     "output_type": "stream",
     "text": [
      "12.078977191356564\n"
     ]
    }
   ],
   "execution_count": 298
  },
  {
   "cell_type": "code",
   "id": "11b3603d4",
   "metadata": {
    "deletable": false,
    "editable": false,
    "execution": {
     "iopub.execute_input": "2025-01-26T17:18:29.118954Z",
     "iopub.status.busy": "2025-01-26T17:18:29.118340Z",
     "iopub.status.idle": "2025-01-26T17:18:29.121591Z",
     "shell.execute_reply": "2025-01-26T17:18:29.121310Z"
    },
    "nbgrader": {
     "cell_type": "code",
     "checksum": "bef547c8d01bf81693c7c4a82f57738d",
     "grade": true,
     "grade_id": "cell-e3fa34338ab8e8d8",
     "locked": true,
     "points": 1,
     "schema_version": 3,
     "solution": false,
     "task": false
    },
    "signature": "7400d",
    "ExecuteTime": {
     "end_time": "2025-01-28T10:06:21.824309Z",
     "start_time": "2025-01-28T10:06:21.822210Z"
    }
   },
   "source": [
    "# Hier ist ein Plausibilitäts-Test:\n",
    "assert s is not None"
   ],
   "outputs": [],
   "execution_count": 299
  },
  {
   "cell_type": "markdown",
   "id": "11b3603d5",
   "metadata": {
    "deletable": false,
    "editable": false,
    "nbgrader": {
     "cell_type": "markdown",
     "checksum": "43e7b9b56e876d184823af3e7355f132",
     "grade": false,
     "grade_id": "cell-a03v02c01",
     "locked": true,
     "schema_version": 3,
     "solution": false,
     "task": false
    },
    "signature": "7400d"
   },
   "source": [
    "### 3. Funktion auf Zahlenreihe\n",
    "\n",
    "  * Schreiben Sie eine Funktion namens `addsub`. (_2 Punkte_)\n",
    "  * Sie soll als Parameter ein 1D-Array und ein Skalar übergeben bekommen.\n",
    "  * Das Skalar wird von allen Einträgen des Arrays abgezogen, danach werden die Ergebnisse jeweils abwechselnd mit dem Skalar multipliziert bzw. dadurch divididiert und schließlich aufaddiert. (_2 Punkte_)\n",
    "  * Die Rechnung lautet z.B. mit Skalar $n=2$ für ein Array $\\pmb{b}$:\n",
    "$$\n",
    "{(b_1-2)}\\cdot 2 + \\frac{b_2-2}{2} + {(b_3-2)}\\cdot 2  + \\frac{b_4-2}{2} + {(b_5-2)}\\cdot 2 + \\ldots\n",
    "$$\n",
    "\n",
    "  * Die Funktion soll nur das skalare Ergebnis der Rechnung zurückgeben und das Array unverändert lassen. (_2 Punkte_)\n",
    "  * Verwenden Sie NumPy-Arrays und verzichten Sie nach Möglichkeit auf if-Klauseln und Schleifen. (_2 Punkte_)\n",
    "  * Das Array muss als Parameter übergeben werden. Das Skalar $n$ soll als optionaler Parameter übergeben werden können und als Default den Wert 2 erhalten. (_2 Punkte_)\n"
   ]
  },
  {
   "cell_type": "code",
   "id": "11b3603d6",
   "metadata": {
    "deletable": false,
    "execution": {
     "iopub.execute_input": "2025-01-26T17:18:29.123889Z",
     "iopub.status.busy": "2025-01-26T17:18:29.123276Z",
     "iopub.status.idle": "2025-01-26T17:18:29.125924Z",
     "shell.execute_reply": "2025-01-26T17:18:29.125672Z"
    },
    "nbgrader": {
     "cell_type": "code",
     "checksum": "cf1636af5921f9a155e04d4e6e6e466d",
     "grade": false,
     "grade_id": "cell-a03v02c02",
     "locked": false,
     "schema_version": 3,
     "solution": true,
     "task": false
    },
    "signature": "7400d",
    "ExecuteTime": {
     "end_time": "2025-01-28T10:06:21.843030Z",
     "start_time": "2025-01-28T10:06:21.840231Z"
    }
   },
   "source": [
    "addsub = None # Definieren Sie addsub als Funktion!\n",
    "# Hier eigenen Code schreiben ...\n",
    "\n",
    "# Define the function addsub\n",
    "def addsub(array, n=2):\n",
    "    \n",
    "    # reduce all values by n \n",
    "    temp = array - n\n",
    "    \n",
    "    # create a factors array with alternation 2 and 1/2 \n",
    "    factors = np.where(np.arange(len(array))%2==0, n, 1/n)\n",
    " \n",
    "    # return the sum of the element-wise multiplication of the two arrays\n",
    "    return np.sum(temp * factors)"
   ],
   "outputs": [],
   "execution_count": 300
  },
  {
   "cell_type": "code",
   "id": "11b3603d7",
   "metadata": {
    "deletable": false,
    "editable": false,
    "execution": {
     "iopub.execute_input": "2025-01-26T17:18:29.127283Z",
     "iopub.status.busy": "2025-01-26T17:18:29.127128Z",
     "iopub.status.idle": "2025-01-26T17:18:29.129166Z",
     "shell.execute_reply": "2025-01-26T17:18:29.128960Z"
    },
    "nbgrader": {
     "cell_type": "code",
     "checksum": "e33ee5577706d72a49030e3e9cc542fd",
     "grade": true,
     "grade_id": "cell-a03v02c03",
     "locked": true,
     "points": 2,
     "schema_version": 3,
     "solution": false,
     "task": false
    },
    "signature": "7400d",
    "ExecuteTime": {
     "end_time": "2025-01-28T10:06:21.854695Z",
     "start_time": "2025-01-28T10:06:21.852639Z"
    }
   },
   "source": [
    "# Hier ist ein Plausibilitäts-Test:\n",
    "assert addsub is not None"
   ],
   "outputs": [],
   "execution_count": 301
  },
  {
   "cell_type": "code",
   "id": "11b3603d8",
   "metadata": {
    "deletable": false,
    "editable": false,
    "execution": {
     "iopub.execute_input": "2025-01-26T17:18:29.130279Z",
     "iopub.status.busy": "2025-01-26T17:18:29.130134Z",
     "iopub.status.idle": "2025-01-26T17:18:29.132461Z",
     "shell.execute_reply": "2025-01-26T17:18:29.132268Z"
    },
    "nbgrader": {
     "cell_type": "code",
     "checksum": "b860b7c551aebe1b777b03543d182b16",
     "grade": true,
     "grade_id": "cell-a03v02c04",
     "locked": true,
     "points": 2,
     "schema_version": 3,
     "solution": false,
     "task": false
    },
    "signature": "7400d",
    "ExecuteTime": {
     "end_time": "2025-01-28T10:06:21.873841Z",
     "start_time": "2025-01-28T10:06:21.870763Z"
    }
   },
   "source": [
    "# Hier ist ein Plausibilitäts-Test:\n",
    "testarray = np.array([-1.3, -2.1, 3.9, 2.8, -2.4, -0.3, -0.7, -1.5, 3.0, 1.9, 3.1, 3.8, -3.8])\n",
    "assert addsub(testarray,2) is not None"
   ],
   "outputs": [],
   "execution_count": 302
  },
  {
   "cell_type": "code",
   "id": "11b3603d9",
   "metadata": {
    "deletable": false,
    "editable": false,
    "execution": {
     "iopub.execute_input": "2025-01-26T17:18:29.133961Z",
     "iopub.status.busy": "2025-01-26T17:18:29.133446Z",
     "iopub.status.idle": "2025-01-26T17:18:29.135655Z",
     "shell.execute_reply": "2025-01-26T17:18:29.135460Z"
    },
    "nbgrader": {
     "cell_type": "code",
     "checksum": "528625a646c6da55f39c36c7293684d1",
     "grade": true,
     "grade_id": "cell-a03v02c05",
     "locked": true,
     "points": 2,
     "schema_version": 3,
     "solution": false,
     "task": false
    },
    "signature": "7400d",
    "ExecuteTime": {
     "end_time": "2025-01-28T10:06:21.888718Z",
     "start_time": "2025-01-28T10:06:21.886237Z"
    }
   },
   "source": [
    "# Hier ist ein Plausibilitäts-Test:\n",
    "assert np.isclose(addsub(testarray,2),-28.10,atol=1e-3)"
   ],
   "outputs": [],
   "execution_count": 303
  },
  {
   "cell_type": "code",
   "id": "11b3603da",
   "metadata": {
    "deletable": false,
    "editable": false,
    "execution": {
     "iopub.execute_input": "2025-01-26T17:18:29.136843Z",
     "iopub.status.busy": "2025-01-26T17:18:29.136674Z",
     "iopub.status.idle": "2025-01-26T17:18:29.138861Z",
     "shell.execute_reply": "2025-01-26T17:18:29.138465Z"
    },
    "nbgrader": {
     "cell_type": "code",
     "checksum": "09ae282e375d44d4a1c8e8a192fe1de8",
     "grade": true,
     "grade_id": "cell-a03v02c06",
     "locked": true,
     "points": 2,
     "schema_version": 3,
     "solution": false,
     "task": false
    },
    "signature": "7400d",
    "ExecuteTime": {
     "end_time": "2025-01-28T10:06:21.904703Z",
     "start_time": "2025-01-28T10:06:21.902166Z"
    }
   },
   "source": [
    "# Hier ist ein Plausibilitäts-Test:\n",
    "assert addsub(testarray,3) is not None"
   ],
   "outputs": [],
   "execution_count": 304
  },
  {
   "cell_type": "code",
   "id": "11b3603db",
   "metadata": {
    "deletable": false,
    "editable": false,
    "execution": {
     "iopub.execute_input": "2025-01-26T17:18:29.140293Z",
     "iopub.status.busy": "2025-01-26T17:18:29.140181Z",
     "iopub.status.idle": "2025-01-26T17:18:29.143149Z",
     "shell.execute_reply": "2025-01-26T17:18:29.142882Z"
    },
    "nbgrader": {
     "cell_type": "code",
     "checksum": "68f0c91697d51a0c8537943bb796d452",
     "grade": true,
     "grade_id": "cell-a03v02c07",
     "locked": true,
     "points": 2,
     "schema_version": 3,
     "solution": false,
     "task": false
    },
    "signature": "7400d",
    "ExecuteTime": {
     "end_time": "2025-01-28T10:06:21.915629Z",
     "start_time": "2025-01-28T10:06:21.913302Z"
    }
   },
   "source": [
    "# Hier ist ein Plausibilitäts-Test:\n",
    "assert addsub(testarray,2) != addsub(testarray,3)"
   ],
   "outputs": [],
   "execution_count": 305
  },
  {
   "cell_type": "markdown",
   "id": "11b3603dc",
   "metadata": {
    "deletable": false,
    "editable": false,
    "nbgrader": {
     "cell_type": "markdown",
     "checksum": "e7eeb7e2450b62c162b382da06aba4a3",
     "grade": false,
     "grade_id": "cell-a04v02c01",
     "locked": true,
     "schema_version": 3,
     "solution": false,
     "task": false
    },
    "signature": "7400d"
   },
   "source": [
    "### 4. Visualisierung\n",
    "\n",
    "#### 4.1. Array mit aufsteigenden Werten (1 Punkt)\n",
    "\n",
    "Erstellen Sie einen Vektor `x` (1-dimensionales NumPy-Array), der genau 208 äquidistant verteilte aufsteigende Zahlen im Intervall von (inklusive) -8 bis (exklusive) 8 enthält."
   ]
  },
  {
   "cell_type": "code",
   "id": "11b3603dd",
   "metadata": {
    "deletable": false,
    "execution": {
     "iopub.execute_input": "2025-01-26T17:18:29.144407Z",
     "iopub.status.busy": "2025-01-26T17:18:29.144303Z",
     "iopub.status.idle": "2025-01-26T17:18:29.146033Z",
     "shell.execute_reply": "2025-01-26T17:18:29.145791Z"
    },
    "nbgrader": {
     "cell_type": "code",
     "checksum": "2a6bfc90c5081e302fc0c8ae7b55ff11",
     "grade": false,
     "grade_id": "cell-a04v02c02",
     "locked": false,
     "schema_version": 3,
     "solution": true,
     "task": false
    },
    "signature": "7400d",
    "ExecuteTime": {
     "end_time": "2025-01-28T10:06:21.935822Z",
     "start_time": "2025-01-28T10:06:21.931905Z"
    }
   },
   "source": [
    "x = None\n",
    "# Hier eigenen Code schreiben ...\n",
    "\n",
    "# Create an array with 208 equidistant values from -8 to 8. Exclude 8 using endpoint=False\n",
    "x = np.linspace(-8, 8, 208, endpoint=False)"
   ],
   "outputs": [],
   "execution_count": 306
  },
  {
   "cell_type": "code",
   "id": "11b3603de",
   "metadata": {
    "deletable": false,
    "editable": false,
    "execution": {
     "iopub.execute_input": "2025-01-26T17:18:29.147361Z",
     "iopub.status.busy": "2025-01-26T17:18:29.147220Z",
     "iopub.status.idle": "2025-01-26T17:18:29.149576Z",
     "shell.execute_reply": "2025-01-26T17:18:29.149107Z"
    },
    "nbgrader": {
     "cell_type": "code",
     "checksum": "03d7dfb9f0486b84c7fbc85d1c5ee8ba",
     "grade": true,
     "grade_id": "cell-a04v02c03",
     "locked": true,
     "points": 1,
     "schema_version": 3,
     "solution": false,
     "task": false
    },
    "signature": "7400d",
    "ExecuteTime": {
     "end_time": "2025-01-28T10:06:21.959352Z",
     "start_time": "2025-01-28T10:06:21.957096Z"
    }
   },
   "source": [
    "# Hier ist ein Plausibilitäts-Test:\n",
    "assert x is not None"
   ],
   "outputs": [],
   "execution_count": 307
  },
  {
   "cell_type": "markdown",
   "id": "11b3603df",
   "metadata": {
    "deletable": false,
    "editable": false,
    "nbgrader": {
     "cell_type": "markdown",
     "checksum": "fa91fecf973071953ba21aa360b0f54b",
     "grade": false,
     "grade_id": "cell-a04v02c04",
     "locked": true,
     "schema_version": 3,
     "solution": false,
     "task": false
    },
    "signature": "7400d"
   },
   "source": [
    "#### 4.2. Funktionswerte (1 Punkt)\n",
    "\n",
    "Führen Sie für alle Werte in `x` die Berechnung\n",
    "\n",
    "$$\n",
    "y = 5 \\cdot \\sin(0.3\\,x^4)\n",
    "$$\n",
    "\n",
    "durch und speichern Sie das Ergebnis in einem Array `y`."
   ]
  },
  {
   "cell_type": "code",
   "id": "11b3603e0",
   "metadata": {
    "deletable": false,
    "execution": {
     "iopub.execute_input": "2025-01-26T17:18:29.150732Z",
     "iopub.status.busy": "2025-01-26T17:18:29.150628Z",
     "iopub.status.idle": "2025-01-26T17:18:29.152682Z",
     "shell.execute_reply": "2025-01-26T17:18:29.152235Z"
    },
    "nbgrader": {
     "cell_type": "code",
     "checksum": "15493cbed8fb8ab65fdd1839a2458e26",
     "grade": false,
     "grade_id": "cell-a04v02c05",
     "locked": false,
     "schema_version": 3,
     "solution": true,
     "task": false
    },
    "signature": "7400d",
    "ExecuteTime": {
     "end_time": "2025-01-28T10:06:21.975534Z",
     "start_time": "2025-01-28T10:06:21.973264Z"
    }
   },
   "source": [
    "y = None\n",
    "# Hier eigenen Code schreiben ...\n",
    "\n",
    "# Calculate the function values for all x values\n",
    "y = 5 * np.sin(0.3 * x**4)"
   ],
   "outputs": [],
   "execution_count": 308
  },
  {
   "cell_type": "code",
   "id": "11b3603e1",
   "metadata": {
    "deletable": false,
    "editable": false,
    "execution": {
     "iopub.execute_input": "2025-01-26T17:18:29.153813Z",
     "iopub.status.busy": "2025-01-26T17:18:29.153709Z",
     "iopub.status.idle": "2025-01-26T17:18:29.155809Z",
     "shell.execute_reply": "2025-01-26T17:18:29.155490Z"
    },
    "nbgrader": {
     "cell_type": "code",
     "checksum": "aaf49f96127fbf762fafa7ba3479cc59",
     "grade": true,
     "grade_id": "cell-a04v02c06",
     "locked": true,
     "points": 1,
     "schema_version": 3,
     "solution": false,
     "task": false
    },
    "signature": "7400d",
    "ExecuteTime": {
     "end_time": "2025-01-28T10:06:21.988108Z",
     "start_time": "2025-01-28T10:06:21.986079Z"
    }
   },
   "source": [
    "# Hier ist ein Plausibilitäts-Test:\n",
    "assert y is not None"
   ],
   "outputs": [],
   "execution_count": 309
  },
  {
   "attachments": {
    "yZ.png": {
     "image/png": "[encoded data removed]"
    }
   },
   "cell_type": "markdown",
   "id": "11b3603e2",
   "metadata": {
    "deletable": false,
    "editable": false,
    "nbgrader": {
     "cell_type": "markdown",
     "checksum": "b646425f64a668e70b6e5c6efda6895d",
     "grade": false,
     "grade_id": "cell-a04v02c07",
     "locked": true,
     "schema_version": 3,
     "solution": false,
     "task": false
    },
    "signature": "7400d"
   },
   "source": [
    "#### 4.3. Umsortieren (1 Punkt)\n",
    "\n",
    "Teilen Sie den Vektor `y` in 8 gleich große Abschnitte und schreiben Sie diese untereinander in ein 2D-Array `A` mit 8 Zeilen.\n",
    "\n",
    "Orientieren Sie sich an folgendem Beispiel-Schema zur Umsortierung (dies hat jedoch nur 5 Zeilen!):\n",
    "\n",
    "![yZ.png](attachment:yZ.png)"
   ]
  },
  {
   "cell_type": "code",
   "id": "11b3603e3",
   "metadata": {
    "deletable": false,
    "execution": {
     "iopub.execute_input": "2025-01-26T17:18:29.156910Z",
     "iopub.status.busy": "2025-01-26T17:18:29.156806Z",
     "iopub.status.idle": "2025-01-26T17:18:29.158675Z",
     "shell.execute_reply": "2025-01-26T17:18:29.158388Z"
    },
    "nbgrader": {
     "cell_type": "code",
     "checksum": "ff7c5c1812058c7edcbc2d6ad5bb1c8b",
     "grade": false,
     "grade_id": "cell-a04v02c08",
     "locked": false,
     "schema_version": 3,
     "solution": true,
     "task": false
    },
    "signature": "7400d",
    "ExecuteTime": {
     "end_time": "2025-01-28T10:06:22.016538Z",
     "start_time": "2025-01-28T10:06:22.014186Z"
    }
   },
   "source": [
    "A = None\n",
    "# Hier eigenen Code schreiben ...\n",
    "\n",
    "# Reshape the y array to a 2D array with 8 rows\n",
    "A = y.reshape(8, -1)\n"
   ],
   "outputs": [],
   "execution_count": 310
  },
  {
   "cell_type": "code",
   "id": "11b3603e4",
   "metadata": {
    "deletable": false,
    "editable": false,
    "execution": {
     "iopub.execute_input": "2025-01-26T17:18:29.159753Z",
     "iopub.status.busy": "2025-01-26T17:18:29.159653Z",
     "iopub.status.idle": "2025-01-26T17:18:29.161861Z",
     "shell.execute_reply": "2025-01-26T17:18:29.161550Z"
    },
    "nbgrader": {
     "cell_type": "code",
     "checksum": "d7650166a2da326396986619ecd7d05e",
     "grade": true,
     "grade_id": "cell-a04v02c09",
     "locked": true,
     "points": 1,
     "schema_version": 3,
     "solution": false,
     "task": false
    },
    "signature": "7400d",
    "ExecuteTime": {
     "end_time": "2025-01-28T10:06:22.042258Z",
     "start_time": "2025-01-28T10:06:22.039180Z"
    }
   },
   "source": [
    "# Hier ist ein Plausibilitäts-Test:\n",
    "assert A is not None"
   ],
   "outputs": [],
   "execution_count": 311
  },
  {
   "attachments": {
    "figure475149.png": {
     "image/png": "[encoded data removed]"
    }
   },
   "cell_type": "markdown",
   "id": "11b3603e5",
   "metadata": {
    "deletable": false,
    "editable": false,
    "nbgrader": {
     "cell_type": "markdown",
     "checksum": "e51d255ec52028cd44c70cafa409f7c7",
     "grade": false,
     "grade_id": "cell-a04v02c10",
     "locked": true,
     "schema_version": 3,
     "solution": false,
     "task": false
    },
    "signature": "7400d"
   },
   "source": [
    "#### 4.4. Abbildungen (5 Punkte)\n",
    "\n",
    "Erstellen Sie aus den generierten Daten eine mehrteilige Abbildung, die der folgenden entspricht: \n",
    "\n",
    "![figure475149.png](attachment:figure475149.png)\n",
    "\n",
    "Hinweise:\n",
    "  * Wenn Sie obige Berechnung korrekt umgesetzt haben, sollte Ihre Abbildung ähnlich aussehen.\n",
    "  * Linker Plot: visualisiert `y` über `x`. Beachten Sie Beschriftung *und* Längen-Gleichskalierung der Achsen sowie die Darstellung eines hinterlegten Gitters.\n",
    "  * Mittlerer Plot: Inhalt von `A` wird visualisiert. Die Farbskala ordnet den Farben Werte zu.\n",
    "  * Rechter Plot:\n",
    "    * Hier wird beginnend mit der ersten jede zweite Zeile von `A` als x-Koordinate und die jeweils darauffolgenden Zeilen für eine Farbe als y-Koordinaten interpretiert.\n",
    "    * Eine Legende macht die Zuordnung zu den Zeilen deutlich.\n",
    "    * Die Größe der Punkte soll abhängig von der Spalte variieren (z.B. wie oben: [60, 58, 56, ... , 12, 10]).\n",
    "  * Beachten Sie auch die Kommentare unterhalb der folgenden Codezelle, um die Korrektheit Ihrer Lösung zu überprüfen."
   ]
  },
  {
   "cell_type": "code",
   "id": "11b3603e6",
   "metadata": {
    "deletable": false,
    "execution": {
     "iopub.execute_input": "2025-01-26T17:18:29.162948Z",
     "iopub.status.busy": "2025-01-26T17:18:29.162843Z",
     "iopub.status.idle": "2025-01-26T17:18:29.670364Z",
     "shell.execute_reply": "2025-01-26T17:18:29.669999Z"
    },
    "nbgrader": {
     "cell_type": "code",
     "checksum": "742425e4dc1234a1beed43ae59d916ec",
     "grade": false,
     "grade_id": "cell-a04v02c11",
     "locked": false,
     "schema_version": 3,
     "solution": true,
     "task": false
    },
    "signature": "7400d",
    "ExecuteTime": {
     "end_time": "2025-01-28T10:06:22.512909Z",
     "start_time": "2025-01-28T10:06:22.053406Z"
    }
   },
   "source": [
    "import matplotlib.pyplot as plt\n",
    "# Hier eigenen Code schreiben ...\n",
    "\n",
    "# Create figure with three subplots\n",
    "fig, (ax1, ax2, ax3) = plt.subplots(1, 3, figsize=(15, 5))\n",
    "\n",
    "# Left plot: y over x with grid\n",
    "ax1.plot(x, y)\n",
    "ax1.grid(True)\n",
    "ax1.set_aspect('equal')  # Equal scaling of axes\n",
    "ax1.set_xlabel('x/m')\n",
    "ax1.set_ylabel('y/m')\n",
    "\n",
    "# Middle plot: Heatmap of A\n",
    "im = ax2.imshow(A, aspect='equal')\n",
    "plt.colorbar(im, ax=ax2)\n",
    "ax2.set_xlabel('Column')\n",
    "ax2.set_ylabel('Row')\n",
    "\n",
    "# Right plot: Scatter plot with varying sizes\n",
    "sizes = np.linspace(60, 10, A.shape[1])  # Decreasing sizes from 60 to 10\n",
    "colors = ['red', 'blue', 'green', 'purple']  # Colors for different pairs\n",
    "for i in range(0, A.shape[0]-1, 2):\n",
    "    ax3.scatter(A[i], A[i+1], \n",
    "               s=sizes, \n",
    "               label=f'Row {i}-{i+1}',\n",
    "               alpha=0.5)\n",
    "ax3.legend()\n",
    "ax3.set_xlabel('x')\n",
    "ax3.set_ylabel('y')\n",
    "\n",
    "# (Optional to optimize the distance between the plots:)\n",
    "plt.tight_layout()\n",
    "\n",
    "plt.show()"
   ],
   "outputs": [
    {
     "data": {
      "text/plain": [
       "<Figure size 1500x500 with 4 Axes>"
      ],
      "image/png": "[encoded data removed]"
     },
     "metadata": {},
     "output_type": "display_data"
    }
   ],
   "execution_count": 312
  },
  {
   "cell_type": "markdown",
   "id": "11b3603e7",
   "metadata": {
    "deletable": false,
    "editable": false,
    "nbgrader": {
     "cell_type": "markdown",
     "checksum": "8b100224567083e18cab7208fe07056b",
     "grade": false,
     "grade_id": "cell-a04v02c10desc",
     "locked": true,
     "schema_version": 3,
     "solution": false,
     "task": false
    },
    "signature": "7400d"
   },
   "source": [
    "Ihre Abbildung wird auf folgende Kriterien untersucht:"
   ]
  },
  {
   "cell_type": "code",
   "id": "11b3603e8",
   "metadata": {
    "deletable": false,
    "editable": false,
    "execution": {
     "iopub.execute_input": "2025-01-26T17:18:29.672112Z",
     "iopub.status.busy": "2025-01-26T17:18:29.671762Z",
     "iopub.status.idle": "2025-01-26T17:18:29.674856Z",
     "shell.execute_reply": "2025-01-26T17:18:29.674587Z"
    },
    "nbgrader": {
     "cell_type": "code",
     "checksum": "16f8f40af673e6e497b10d3acd8a04a5",
     "grade": true,
     "grade_id": "cell-a04v02c11auto01",
     "locked": true,
     "points": 1,
     "schema_version": 3,
     "solution": false,
     "task": false
    },
    "signature": "7400d",
    "ExecuteTime": {
     "end_time": "2025-01-28T10:06:22.516627Z",
     "start_time": "2025-01-28T10:06:22.514681Z"
    }
   },
   "source": [
    "# Sind die 3 Abbildungen nebeneinander dargestellt?"
   ],
   "outputs": [],
   "execution_count": 313
  },
  {
   "cell_type": "code",
   "id": "11b3603e9",
   "metadata": {
    "deletable": false,
    "editable": false,
    "execution": {
     "iopub.execute_input": "2025-01-26T17:18:29.676143Z",
     "iopub.status.busy": "2025-01-26T17:18:29.676020Z",
     "iopub.status.idle": "2025-01-26T17:18:29.678180Z",
     "shell.execute_reply": "2025-01-26T17:18:29.677912Z"
    },
    "nbgrader": {
     "cell_type": "code",
     "checksum": "66c871a0ac042388312cc7e59f217bd7",
     "grade": true,
     "grade_id": "cell-a04v02c11auto02",
     "locked": true,
     "points": 1,
     "schema_version": 3,
     "solution": false,
     "task": false
    },
    "signature": "7400d",
    "ExecuteTime": {
     "end_time": "2025-01-28T10:06:22.519869Z",
     "start_time": "2025-01-28T10:06:22.517730Z"
    }
   },
   "source": [
    "# Wird links y über x geplottet und sind die Achsen beschriftet?"
   ],
   "outputs": [],
   "execution_count": 314
  },
  {
   "cell_type": "code",
   "id": "11b3603ea",
   "metadata": {
    "deletable": false,
    "editable": false,
    "execution": {
     "iopub.execute_input": "2025-01-26T17:18:29.679483Z",
     "iopub.status.busy": "2025-01-26T17:18:29.679382Z",
     "iopub.status.idle": "2025-01-26T17:18:29.681289Z",
     "shell.execute_reply": "2025-01-26T17:18:29.681021Z"
    },
    "nbgrader": {
     "cell_type": "code",
     "checksum": "acf466f855d6ad7f25ad1b3baa72bbb9",
     "grade": true,
     "grade_id": "cell-a04v02c11auto03",
     "locked": true,
     "points": 1,
     "schema_version": 3,
     "solution": false,
     "task": false
    },
    "signature": "7400d",
    "ExecuteTime": {
     "end_time": "2025-01-28T10:06:22.523474Z",
     "start_time": "2025-01-28T10:06:22.521773Z"
    }
   },
   "source": [
    "# Sind die Achsen links gleichskaliert und ist ein Gitter hinterlegt?"
   ],
   "outputs": [],
   "execution_count": 315
  },
  {
   "cell_type": "code",
   "id": "11b3603eb",
   "metadata": {
    "deletable": false,
    "editable": false,
    "execution": {
     "iopub.execute_input": "2025-01-26T17:18:29.682583Z",
     "iopub.status.busy": "2025-01-26T17:18:29.682484Z",
     "iopub.status.idle": "2025-01-26T17:18:29.684219Z",
     "shell.execute_reply": "2025-01-26T17:18:29.683950Z"
    },
    "nbgrader": {
     "cell_type": "code",
     "checksum": "dd114706f9252b7b1e331d0f94665572",
     "grade": true,
     "grade_id": "cell-a04v02c11auto06",
     "locked": true,
     "points": 1,
     "schema_version": 3,
     "solution": false,
     "task": false
    },
    "signature": "7400d",
    "ExecuteTime": {
     "end_time": "2025-01-28T10:06:22.526148Z",
     "start_time": "2025-01-28T10:06:22.524399Z"
    }
   },
   "source": [
    "# Entsprechen die Visualisierungen von A der Vorgabe?"
   ],
   "outputs": [],
   "execution_count": 316
  },
  {
   "cell_type": "code",
   "id": "11b3603ec",
   "metadata": {
    "deletable": false,
    "editable": false,
    "execution": {
     "iopub.execute_input": "2025-01-26T17:18:29.685493Z",
     "iopub.status.busy": "2025-01-26T17:18:29.685367Z",
     "iopub.status.idle": "2025-01-26T17:18:29.687146Z",
     "shell.execute_reply": "2025-01-26T17:18:29.686882Z"
    },
    "nbgrader": {
     "cell_type": "code",
     "checksum": "1532a7d59f79c17acaea09c8919961e6",
     "grade": true,
     "grade_id": "cell-a04v02c11auto07",
     "locked": true,
     "points": 1,
     "schema_version": 3,
     "solution": false,
     "task": false
    },
    "signature": "7400d",
    "ExecuteTime": {
     "end_time": "2025-01-28T10:06:22.528551Z",
     "start_time": "2025-01-28T10:06:22.526899Z"
    }
   },
   "source": [
    "# Sind eine Farbskala und Legende vorhanden und korrekt?"
   ],
   "outputs": [],
   "execution_count": 317
  },
  {
   "cell_type": "markdown",
   "id": "11b3603ed",
   "metadata": {
    "deletable": false,
    "editable": false,
    "nbgrader": {
     "cell_type": "markdown",
     "checksum": "2dfc50859d7848e67240bded8793e1d0",
     "grade": false,
     "grade_id": "cell-a04v02c12",
     "locked": true,
     "schema_version": 3,
     "solution": false,
     "task": false
    },
    "signature": "7400d"
   },
   "source": [
    "#### 4.5. Boole'sches Array (1 Punkt)\n",
    "\n",
    "Erstellen Sie ein Array `B` mit exakt denselben Dimensionen wie `A`, das an den Positionen, wo in `A` eine positive Zahl steht, den Wert `True` hat und an allen anderen Stellen den Wert `False`. Verwenden Sie keine Schleifen oder if-Klauseln zur Erstellung."
   ]
  },
  {
   "cell_type": "code",
   "id": "11b3603ee",
   "metadata": {
    "deletable": false,
    "execution": {
     "iopub.execute_input": "2025-01-26T17:18:29.688376Z",
     "iopub.status.busy": "2025-01-26T17:18:29.688277Z",
     "iopub.status.idle": "2025-01-26T17:18:29.690083Z",
     "shell.execute_reply": "2025-01-26T17:18:29.689813Z"
    },
    "nbgrader": {
     "cell_type": "code",
     "checksum": "3d8981d0faf0c4749336c828da351010",
     "grade": false,
     "grade_id": "cell-a04v02c13",
     "locked": false,
     "schema_version": 3,
     "solution": true,
     "task": false
    },
    "signature": "7400d",
    "ExecuteTime": {
     "end_time": "2025-01-28T10:06:22.531297Z",
     "start_time": "2025-01-28T10:06:22.529358Z"
    }
   },
   "source": [
    "B = None # <-- Es ist durchaus möglich, dass Ihre Lösung kürzer ist als dieser Befehl.\n",
    "# Hier eigenen Code schreiben ...\n",
    "\n",
    "# Create a boolean array with the same shape as A where all positive values are set to True\n",
    "B = A > 0"
   ],
   "outputs": [],
   "execution_count": 318
  },
  {
   "cell_type": "code",
   "id": "11b3603ef",
   "metadata": {
    "deletable": false,
    "editable": false,
    "execution": {
     "iopub.execute_input": "2025-01-26T17:18:29.691308Z",
     "iopub.status.busy": "2025-01-26T17:18:29.691202Z",
     "iopub.status.idle": "2025-01-26T17:18:29.693097Z",
     "shell.execute_reply": "2025-01-26T17:18:29.692848Z"
    },
    "nbgrader": {
     "cell_type": "code",
     "checksum": "74b51800adc483082460b652a01de70b",
     "grade": true,
     "grade_id": "cell-a04v02c14",
     "locked": true,
     "points": 1,
     "schema_version": 3,
     "solution": false,
     "task": false
    },
    "signature": "7400d",
    "ExecuteTime": {
     "end_time": "2025-01-28T10:06:22.534152Z",
     "start_time": "2025-01-28T10:06:22.532038Z"
    }
   },
   "source": [
    "# Hier ist ein Plausibilitäts-Test:\n",
    "assert B is not None and B.shape==A.shape"
   ],
   "outputs": [],
   "execution_count": 319
  },
  {
   "cell_type": "markdown",
   "id": "11b3603f0",
   "metadata": {
    "deletable": false,
    "editable": false,
    "nbgrader": {
     "cell_type": "markdown",
     "checksum": "75ebe5f9a05b28a837d40ec77bff0c1c",
     "grade": false,
     "grade_id": "cell-a04v02c15",
     "locked": true,
     "schema_version": 3,
     "solution": false,
     "task": false
    },
    "signature": "7400d"
   },
   "source": [
    "#### 4.6. Bedingte Array-Indizierung (1 Punkt)\n",
    "\n",
    "Erstellen Sie eine Kopie des Arrays `A` mit dem Namen `C`. Ändern Sie `C` so, dass alle positiven Werte auf den Wert 0 gesetzt werden. Achten Sie darauf, dass das Array A hierbei nicht geändert wird. Verwenden Sie keine Schleifen oder if-Klauseln zur Erstellung."
   ]
  },
  {
   "cell_type": "code",
   "id": "11b3603f1",
   "metadata": {
    "deletable": false,
    "execution": {
     "iopub.execute_input": "2025-01-26T17:18:29.694259Z",
     "iopub.status.busy": "2025-01-26T17:18:29.694156Z",
     "iopub.status.idle": "2025-01-26T17:18:29.695922Z",
     "shell.execute_reply": "2025-01-26T17:18:29.695666Z"
    },
    "nbgrader": {
     "cell_type": "code",
     "checksum": "9af4df9f9dc8448cab6a2d7c738c75c1",
     "grade": false,
     "grade_id": "cell-a04v02c16",
     "locked": false,
     "schema_version": 3,
     "solution": true,
     "task": false
    },
    "signature": "7400d",
    "ExecuteTime": {
     "end_time": "2025-01-28T10:06:22.537026Z",
     "start_time": "2025-01-28T10:06:22.535011Z"
    }
   },
   "source": [
    "C = None \n",
    "# Hier eigenen Code schreiben ...\n",
    "\n",
    "# Create a copy of A\n",
    "C = A.copy()\n",
    "# Set all positive values to 0\n",
    "C[C > 0] = 0"
   ],
   "outputs": [],
   "execution_count": 320
  },
  {
   "cell_type": "code",
   "id": "11b3603f2",
   "metadata": {
    "deletable": false,
    "editable": false,
    "execution": {
     "iopub.execute_input": "2025-01-26T17:18:29.697059Z",
     "iopub.status.busy": "2025-01-26T17:18:29.696952Z",
     "iopub.status.idle": "2025-01-26T17:18:29.699361Z",
     "shell.execute_reply": "2025-01-26T17:18:29.699054Z"
    },
    "nbgrader": {
     "cell_type": "code",
     "checksum": "340a7ea7bbaffe9dcc483aaf85b3dfa9",
     "grade": true,
     "grade_id": "cell-a04v02c17",
     "locked": true,
     "points": 1,
     "schema_version": 3,
     "solution": false,
     "task": false
    },
    "signature": "7400d",
    "ExecuteTime": {
     "end_time": "2025-01-28T10:06:22.542040Z",
     "start_time": "2025-01-28T10:06:22.539597Z"
    }
   },
   "source": [
    "# Hier ist ein Plausibilitäts-Test:\n",
    "assert C is not None and C.shape==A.shape"
   ],
   "outputs": [],
   "execution_count": 321
  },
  {
   "cell_type": "markdown",
   "id": "11b3603f3",
   "metadata": {
    "deletable": false,
    "editable": false,
    "nbgrader": {
     "cell_type": "markdown",
     "checksum": "697b529785be7e4eb85259d4e6784e75",
     "grade": false,
     "grade_id": "cell-a05v01c01",
     "locked": true,
     "schema_version": 3,
     "solution": false,
     "task": false
    },
    "signature": "7400d"
   },
   "source": [
    "### 5. Mehrere Wege zum gleichen Ziel\n",
    "\n",
    "#### 5.1. List Comprehension (5 Punkte)\n",
    "\n",
    "Gegeben sei folgende Liste:"
   ]
  },
  {
   "cell_type": "code",
   "id": "11b3603f4",
   "metadata": {
    "deletable": false,
    "editable": false,
    "execution": {
     "iopub.execute_input": "2025-01-26T17:18:29.700524Z",
     "iopub.status.busy": "2025-01-26T17:18:29.700424Z",
     "iopub.status.idle": "2025-01-26T17:18:29.702386Z",
     "shell.execute_reply": "2025-01-26T17:18:29.702078Z"
    },
    "nbgrader": {
     "cell_type": "code",
     "checksum": "440402570fd7c5f1a8c4b8885f42dc56",
     "grade": false,
     "grade_id": "cell-a05v01c02",
     "locked": true,
     "schema_version": 3,
     "solution": false,
     "task": false
    },
    "signature": "7400d",
    "ExecuteTime": {
     "end_time": "2025-01-28T10:06:22.545191Z",
     "start_time": "2025-01-28T10:06:22.543031Z"
    }
   },
   "source": [
    "liste = [  3, -4, -6,  5,  8,  4, -5, 10, -8, -1, -7, -9, -3,  2, -1, -3, -7,  6,\n",
    " -10, -8,  0,  4, -6]"
   ],
   "outputs": [],
   "execution_count": 322
  },
  {
   "cell_type": "markdown",
   "id": "11b3603f5",
   "metadata": {
    "deletable": false,
    "editable": false,
    "nbgrader": {
     "cell_type": "markdown",
     "checksum": "2dfdca67a069d5f326a22a840b90cc90",
     "grade": false,
     "grade_id": "cell-a05v01c03",
     "locked": true,
     "schema_version": 3,
     "solution": false,
     "task": false
    },
    "signature": "7400d"
   },
   "source": [
    "Der Befehl \n",
    "\n",
    "```python\n",
    "sum([zahl for zahl in liste])\n",
    "```\n",
    "\n",
    "führt eine Berechnung der _Summe_ der Zahlen durch. \n",
    "\n",
    "Schreiben Sie in der folgenden Zelle einen Befehl mit dem Ergebnis, dass die Variable `anzahl1` die _Anzahl_ der Zahlen enthält, die _außerhalb_ des Intervalls $[-6.5, 4.5]$ liegen. Verwenden Sie neben geeigneten Werten, Schlüsselwörtern und Operatoren nach wie vor _nur_ eine List Comprehension und die `sum`-Funktion."
   ]
  },
  {
   "cell_type": "code",
   "id": "11b3603f6",
   "metadata": {
    "deletable": false,
    "execution": {
     "iopub.execute_input": "2025-01-26T17:18:29.703475Z",
     "iopub.status.busy": "2025-01-26T17:18:29.703377Z",
     "iopub.status.idle": "2025-01-26T17:18:29.705321Z",
     "shell.execute_reply": "2025-01-26T17:18:29.705023Z"
    },
    "nbgrader": {
     "cell_type": "code",
     "checksum": "dfaca9204d918293ee0caac18ecc4eb0",
     "grade": false,
     "grade_id": "cell-a05v01c04",
     "locked": false,
     "schema_version": 3,
     "solution": true,
     "task": false
    },
    "signature": "7400d",
    "ExecuteTime": {
     "end_time": "2025-01-28T10:06:22.548105Z",
     "start_time": "2025-01-28T10:06:22.546021Z"
    }
   },
   "source": [
    "anzahl1 = None\n",
    "# Hier eigenen Code schreiben ...\n",
    "\n",
    "# Count the number of values outside the interval [-6.5, 4.5]\n",
    "anzahl1 = sum([1 for zahl in liste if zahl < -6.5 or zahl > 4.5])"
   ],
   "outputs": [],
   "execution_count": 323
  },
  {
   "cell_type": "code",
   "id": "11b3603f7",
   "metadata": {
    "deletable": false,
    "editable": false,
    "execution": {
     "iopub.execute_input": "2025-01-26T17:18:29.706383Z",
     "iopub.status.busy": "2025-01-26T17:18:29.706281Z",
     "iopub.status.idle": "2025-01-26T17:18:29.708399Z",
     "shell.execute_reply": "2025-01-26T17:18:29.708073Z"
    },
    "nbgrader": {
     "cell_type": "code",
     "checksum": "56c940707f8b7bf0add13911a770b1c7",
     "grade": true,
     "grade_id": "cell-a05v01c05",
     "locked": true,
     "points": 2,
     "schema_version": 3,
     "solution": false,
     "task": false
    },
    "signature": "7400d",
    "ExecuteTime": {
     "end_time": "2025-01-28T10:06:22.551116Z",
     "start_time": "2025-01-28T10:06:22.548967Z"
    }
   },
   "source": [
    "# Hier ist ein Plausibilitäts-Test:\n",
    "assert type(anzahl1) != float"
   ],
   "outputs": [],
   "execution_count": 324
  },
  {
   "cell_type": "code",
   "id": "11b3603f8",
   "metadata": {
    "deletable": false,
    "editable": false,
    "execution": {
     "iopub.execute_input": "2025-01-26T17:18:29.709611Z",
     "iopub.status.busy": "2025-01-26T17:18:29.709511Z",
     "iopub.status.idle": "2025-01-26T17:18:29.712272Z",
     "shell.execute_reply": "2025-01-26T17:18:29.711942Z"
    },
    "nbgrader": {
     "cell_type": "code",
     "checksum": "9273ae1aa9c09f689f16ba5a767f4169",
     "grade": true,
     "grade_id": "cell-a05v01c06",
     "locked": true,
     "points": 3,
     "schema_version": 3,
     "solution": false,
     "task": false
    },
    "signature": "7400d",
    "ExecuteTime": {
     "end_time": "2025-01-28T10:06:22.554189Z",
     "start_time": "2025-01-28T10:06:22.552130Z"
    }
   },
   "source": [
    "# Hier ist noch ein Plausibilitäts-Test:\n",
    "assert anzahl1 > 0\n"
   ],
   "outputs": [],
   "execution_count": 325
  },
  {
   "cell_type": "markdown",
   "id": "11b3603f9",
   "metadata": {
    "deletable": false,
    "editable": false,
    "nbgrader": {
     "cell_type": "markdown",
     "checksum": "2d6525aba9a8572e0b216ce5c888c30a",
     "grade": false,
     "grade_id": "cell-a05v01c07",
     "locked": true,
     "schema_version": 3,
     "solution": false,
     "task": false
    },
    "signature": "7400d"
   },
   "source": [
    "#### 5.2. Schleifenalternative (5 Punkte)\n",
    "\n",
    "Schreiben Sie einen Code-Abschnitt, der für die Liste `liste` dasselbe Ergebnis wie in 5.1. ermittelt (der Ergebniswert in `anzahl2` sei also die Anzahl der Zahlen, die außerhalb des obigen Intervalls liegen). Lösen Sie das Problem jedoch _ohne_ Verwendung einer `for`-Schleife (also auch nicht in einer List Comprehension). Verwenden Sie z.B. eine `while`-Schleife."
   ]
  },
  {
   "cell_type": "code",
   "id": "11b3603fa",
   "metadata": {
    "deletable": false,
    "execution": {
     "iopub.execute_input": "2025-01-26T17:18:29.713443Z",
     "iopub.status.busy": "2025-01-26T17:18:29.713343Z",
     "iopub.status.idle": "2025-01-26T17:18:29.715314Z",
     "shell.execute_reply": "2025-01-26T17:18:29.715020Z"
    },
    "nbgrader": {
     "cell_type": "code",
     "checksum": "e57a1387ab20fdd7361da494c472f310",
     "grade": false,
     "grade_id": "cell-a05v01c08",
     "locked": false,
     "schema_version": 3,
     "solution": true,
     "task": false
    },
    "signature": "7400d",
    "ExecuteTime": {
     "end_time": "2025-01-28T10:06:22.557517Z",
     "start_time": "2025-01-28T10:06:22.555136Z"
    }
   },
   "source": [
    "anzahl2 = 0\n",
    "# Hier eigenen Code schreiben ...\n",
    "\n",
    "# Set the while loop counter to 0\n",
    "i = 0\n",
    "\n",
    "# While loop counter is smaller than the length of the list\n",
    "while(i < len(liste)):\n",
    "    \n",
    "    # Increase anzahl2 if the value is outside the interval\n",
    "    if liste[i] < -6.5 or liste[i] > 4.5:\n",
    "        anzahl2 += 1\n",
    "    \n",
    "    # Increment the while loop counter\n",
    "    i += 1\n",
    "    "
   ],
   "outputs": [],
   "execution_count": 326
  },
  {
   "cell_type": "code",
   "id": "11b3603fb",
   "metadata": {
    "deletable": false,
    "editable": false,
    "execution": {
     "iopub.execute_input": "2025-01-26T17:18:29.716449Z",
     "iopub.status.busy": "2025-01-26T17:18:29.716347Z",
     "iopub.status.idle": "2025-01-26T17:18:29.718321Z",
     "shell.execute_reply": "2025-01-26T17:18:29.718033Z"
    },
    "nbgrader": {
     "cell_type": "code",
     "checksum": "9d2829d44abe11772b7d6961c6df85a6",
     "grade": true,
     "grade_id": "cell-a05v01c09",
     "locked": true,
     "points": 2,
     "schema_version": 3,
     "solution": false,
     "task": false
    },
    "signature": "7400d",
    "ExecuteTime": {
     "end_time": "2025-01-28T10:06:22.560265Z",
     "start_time": "2025-01-28T10:06:22.558373Z"
    }
   },
   "source": [
    "# Hier ist ein Plausibilitäts-Test:\n",
    "assert anzahl2 is not None"
   ],
   "outputs": [],
   "execution_count": 327
  },
  {
   "cell_type": "code",
   "id": "11b3603fc",
   "metadata": {
    "deletable": false,
    "editable": false,
    "execution": {
     "iopub.execute_input": "2025-01-26T17:18:29.719508Z",
     "iopub.status.busy": "2025-01-26T17:18:29.719403Z",
     "iopub.status.idle": "2025-01-26T17:18:29.721913Z",
     "shell.execute_reply": "2025-01-26T17:18:29.721605Z"
    },
    "nbgrader": {
     "cell_type": "code",
     "checksum": "e0b02b3fb9fcd997b5adcd5a1170375d",
     "grade": true,
     "grade_id": "cell-a05v01c10",
     "locked": true,
     "points": 3,
     "schema_version": 3,
     "solution": false,
     "task": false
    },
    "signature": "7400d",
    "ExecuteTime": {
     "end_time": "2025-01-28T10:06:22.562871Z",
     "start_time": "2025-01-28T10:06:22.561143Z"
    }
   },
   "source": [
    "# Hier ist noch ein Plausibilitäts-Test:\n",
    "assert anzahl2 != 0\n"
   ],
   "outputs": [],
   "execution_count": 328
  }
 ],
 "metadata": {
  "kernelspec": {
   "display_name": "Python 3",
   "language": "python",
   "name": "python3"
  },
  "language_info": {
   "codemirror_mode": {
    "name": "ipython",
    "version": 3
   },
   "file_extension": ".py",
   "mimetype": "text/x-python",
   "name": "python",
   "nbconvert_exporter": "python",
   "pygments_lexer": "ipython3",
   "version": "3.9.5"
  }
 },
 "nbformat": 4,
 "nbformat_minor": 5
}
