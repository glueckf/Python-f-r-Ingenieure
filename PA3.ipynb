{
 "cells": [
  {
   "cell_type": "markdown",
   "id": "22910a45-77d4-4211-bccb-e00065713dfc",
   "metadata": {
    "deletable": false,
    "editable": false,
    "nbgrader": {
     "cell_type": "markdown",
     "checksum": "dacab9c0d50d6bdcbfabeb00ff9f2598",
     "grade": false,
     "grade_id": "cell-53fbe7c1bf48e114",
     "locked": true,
     "schema_version": 3,
     "solution": false,
     "task": false
    },
    "tags": []
   },
   "source": [
    "# Portfolio-Programmieraufgabe 3\n",
    "## \"Malen nach Zahlen\"\n",
    "<!-- Lizensiert unter (CC BY 4.0) Gert Herold, 2024-05 -->\n",
    "\n",
    "Um das Strömungsfeld um einen kreisförmigen Zylinder mit einem Durchmesser von 7,5$\\,$mm besser zu verstehen, wurden [CFD-Simulationen](https://de.wikipedia.org/wiki/Numerische_Str%C3%B6mungsmechanik) durchgeführt. \n",
    "Die Berechnungen wurden auf einem unregelmäßigen 2D-Gitter durchgeführt, das den Zylinder durchschneidet, so dass er darin als Kreis erscheint. \n",
    "Im hier verwendeten Koordinatensystem befindet sich dessen Mittelpunkt bei $(x, y) = (0.06\\,\\mathrm{m}, 0.15\\,\\mathrm{m})$.\n",
    "\n",
    "\n",
    "Die Ergebnisse für einen diskreten Zeitpunkt wurden als [CSV-Datei](https://de.wikipedia.org/wiki/CSV_(Dateiformat)) exportiert.\n",
    "\n",
    "**Die gesamte Programmierung für diese Aufgabe kann ohne if-Anweisungen oder Schleifen durchgeführt werden! Es ist okay, wenn Sie diese zunächst für eine erste Lösung benötigen, aber versuchen Sie, eine Variante zu finden, die diese Strukturen nicht benötigt und stattdessen die Funktionalitäten von Numpy nutzt.**\n",
    "\n",
    "**Bei der Bewertung Ihrer Abgabe wird Ihnen pro 2 verwendete Schleifen jeweils 1 Punkt abgezogen (also für 2-3 Schleifen -1 Punkt, 4-5 Schleifen -2 Punkte usw.).**\n",
    "\n",
    "Verwenden Sie in den Variablen SI-Einheiten, um [Fehler](https://de.wikipedia.org/wiki/Mars_Climate_Orbiter) [zu](https://de.wikipedia.org/wiki/Air-Canada-Flug_143) [vermeiden](https://spectrum.ieee.org/columbuss-geographical-miscalculations).\n",
    "\n",
    "Zunächst werden einige Imports durchgeführt, die sich möglicherweise im weiteren Verlauf noch als hilfreich erweisen:"
   ]
  },
  {
   "cell_type": "code",
   "id": "cb934408-d100-43bc-89f4-59b65e9af275",
   "metadata": {
    "deletable": false,
    "editable": false,
    "nbgrader": {
     "cell_type": "code",
     "checksum": "d8b4826c85a7e78d88b3e0fddf1feb70",
     "grade": false,
     "grade_id": "cell-4363e84e37b1270b",
     "locked": true,
     "schema_version": 3,
     "solution": false,
     "task": false
    },
    "tags": [],
    "ExecuteTime": {
     "end_time": "2024-12-27T12:00:53.619815Z",
     "start_time": "2024-12-27T12:00:53.616909Z"
    }
   },
   "source": [
    "import csv\n",
    "%matplotlib inline\n",
    "import matplotlib.pyplot as plt\n",
    "from matplotlib.patches import Circle\n",
    "import numpy as np"
   ],
   "outputs": [],
   "execution_count": 79
  },
  {
   "cell_type": "markdown",
   "id": "13d2508c-ea00-41d4-b55d-939a2cc01fcc",
   "metadata": {
    "deletable": false,
    "editable": false,
    "nbgrader": {
     "cell_type": "markdown",
     "checksum": "684c15dadade74ef6b9012fc1fd8281b",
     "grade": false,
     "grade_id": "cell-d10581881679e80d",
     "locked": true,
     "schema_version": 3,
     "solution": false,
     "task": false
    },
    "tags": []
   },
   "source": [
    "### 1) Daten-Import $\\qquad$_(2 Punkte)_\n",
    "\n",
    "\n",
    "**1.1) Laden Sie die Daten aus der Datei `U_xyplane.csv`.** \n",
    "\n",
    "  * Verwenden Sie beim Laden nur relative Pfadangaben und legen Sie die Datei in dasselbe Verzeichnis wie dieses Notebook.\n",
    "  * Entpacken Sie den Inhalt der Spalten in neue Variablen (1D-Arrays) `u, v, w, x, y, z`.\n",
    "  * Für wie viele Punkte liegen Daten vor? Speichern Sie die Anzahl in der Variable `n_points`.\n",
    "\n",
    "_Hinweise: Die Zeilen eines Arrays `A` mit 2 Zeilen lassen sich z.B. so \"entpacken\": `a, b = A`. Alle Werte sind in SI-Einheiten gegeben (m und m/s). Geschwindigkeitskomponenten (hier `u, v, w`) werden in der Datei mit \"U\" bezeichnet, Koordinaten (hier `x, y, z`) mit \"Points\"._"
   ]
  },
  {
   "cell_type": "code",
   "id": "1d2722d2-7b35-4513-8524-8ebbc0021475",
   "metadata": {
    "deletable": false,
    "nbgrader": {
     "cell_type": "code",
     "checksum": "5dfc578bf654310550d413647b5f6138",
     "grade": false,
     "grade_id": "cell-23383d2b569ad29c",
     "locked": false,
     "schema_version": 3,
     "solution": true,
     "task": false
    },
    "tags": [],
    "ExecuteTime": {
     "end_time": "2024-12-27T12:00:53.664739Z",
     "start_time": "2024-12-27T12:00:53.643374Z"
    }
   },
   "source": [
    "# Hier eigenen Code schreiben ...\n",
    "import pandas as pd\n",
    "\n",
    "df = pd.read_csv('U_xyplane.csv')\n",
    "\n",
    "u = np.array(df['U:0'])\n",
    "v = np.array(df['U:1'])\n",
    "w = np.array(df['U:2'])\n",
    "x = np.array(df['Points:0'])\n",
    "y = np.array(df['Points:1'])\n",
    "z = np.array(df['Points:2'])\n",
    "\n",
    "n_points = len(x)\n",
    "\n",
    "print(f\"Number of points: {n_points}\")"
   ],
   "outputs": [
    {
     "name": "stdout",
     "output_type": "stream",
     "text": [
      "Number of points: 35267\n"
     ]
    }
   ],
   "execution_count": 80
  },
  {
   "cell_type": "code",
   "id": "aeb6e24e",
   "metadata": {
    "deletable": false,
    "editable": false,
    "nbgrader": {
     "cell_type": "code",
     "checksum": "baf98dcde9e7c5b6a490b1332cb46bcd",
     "grade": true,
     "grade_id": "cell-1bae07bc170970eb",
     "locked": true,
     "points": 1,
     "schema_version": 3,
     "solution": false,
     "task": false
    },
    "ExecuteTime": {
     "end_time": "2024-12-27T12:00:53.670816Z",
     "start_time": "2024-12-27T12:00:53.668436Z"
    }
   },
   "source": [
    "# Hier sind einige Plausibilitätstests:\n",
    "assert 44444>n_points>33333\n",
    "assert v.shape == x.shape == z.shape\n"
   ],
   "outputs": [],
   "execution_count": 81
  },
  {
   "cell_type": "markdown",
   "id": "04bd9eec-a6ad-439d-87c0-0752c89b41b2",
   "metadata": {
    "deletable": false,
    "editable": false,
    "nbgrader": {
     "cell_type": "markdown",
     "checksum": "2c2480065300f782a18c27a8bd6d2e7f",
     "grade": false,
     "grade_id": "cell-f66519b0c56d20b9",
     "locked": true,
     "schema_version": 3,
     "solution": false,
     "task": false
    },
    "tags": []
   },
   "source": [
    "Um eine grobe Vorstellung vom Setup zu bekommen, wäre es schön, einen schnellen Überblick über den Simulationsbereich einschließlich des \"Zylinderkreises\" zu haben.\n",
    "\n",
    "**1.2) Bestimmen Sie die minimalen und maximalen x- und y-Werte und zeichnen Sie ein Rechteck, das die betrachtete Fläche abdeckt und einen Kreis mit (x, y) = (0.06 m, 0.15 m) und einem Durchmesser von 7.5 mm umgibt.**\n",
    "\n",
    "  * Speichern Sie die minimalen/maximalen Werte in den Variablen `xmin`, `xmax`, `ymin` und `ymax`.\n",
    "  * Schreiben Sie eine Funktion, die die x- und y-Ausdehnung übergeben wird und die mit dem Befehl [_plot()_](https://matplotlib.org/stable/api/_as_gen/matplotlib.pyplot.plot.html) eine  Rechteckumrandung zeichnet.\n",
    "\n",
    "Einen Kreis in eine bestehende Abbildung einzufügen ist z.B. so möglich:\n",
    "```python\n",
    "    plt.gca().add_patch(Circle((x_center, y_center), radius, color='k'))\n",
    "```"
   ]
  },
  {
   "cell_type": "code",
   "id": "cc19bf14-9157-4ca8-88b5-61a95cc25d64",
   "metadata": {
    "deletable": false,
    "nbgrader": {
     "cell_type": "code",
     "checksum": "b93944328eacc7a54eee5296e01b743c",
     "grade": false,
     "grade_id": "cell-de21dd31ffaddffc",
     "locked": false,
     "schema_version": 3,
     "solution": true,
     "task": false
    },
    "ExecuteTime": {
     "end_time": "2024-12-27T12:00:53.760774Z",
     "start_time": "2024-12-27T12:00:53.672612Z"
    }
   },
   "source": [
    "# Hier eigenen Code schreiben ...\n",
    "xmin = x.min()\n",
    "xmax = x.max()\n",
    "ymin = y.min()\n",
    "ymax = y.max()\n",
    "\n",
    "# Plot a Square from xmin, xmax, ymin, ymax \n",
    "def plot_square(xmin, xmax, ymin, ymax):\n",
    "    plt.plot([xmin, xmax, xmax, xmin, xmin], [ymin, ymin, ymax, ymax, ymin], 'k-')\n",
    "    plt.gca().add_patch(Circle((0.06, 0.15), 0.0075/2, color='k'))\n",
    "    plt.show()\n",
    "    \n",
    "plot_square(xmin, xmax, ymin, ymax)"
   ],
   "outputs": [
    {
     "data": {
      "text/plain": [
       "<Figure size 640x480 with 1 Axes>"
      ],
      "image/png": "[encoded data removed]"
     },
     "metadata": {},
     "output_type": "display_data"
    }
   ],
   "execution_count": 82
  },
  {
   "cell_type": "code",
   "id": "b19cca3f",
   "metadata": {
    "deletable": false,
    "editable": false,
    "nbgrader": {
     "cell_type": "code",
     "checksum": "ea34cece963c1a09892c9adf2aa262e0",
     "grade": true,
     "grade_id": "cell-460be5e3fb3b3df4",
     "locked": true,
     "points": 1,
     "schema_version": 3,
     "solution": false,
     "task": false
    },
    "ExecuteTime": {
     "end_time": "2024-12-27T12:00:53.765186Z",
     "start_time": "2024-12-27T12:00:53.762760Z"
    }
   },
   "source": [
    "# Hier sind einige Plausibilitätstests:\n",
    "assert xmax-xmin == 0.224\n",
    "assert (ymax-ymin)*1.5 < (xmax-xmin)\n"
   ],
   "outputs": [],
   "execution_count": 83
  },
  {
   "cell_type": "markdown",
   "id": "e20945dc-6d60-47cd-ae1b-5cd894038f16",
   "metadata": {
    "deletable": false,
    "editable": false,
    "nbgrader": {
     "cell_type": "markdown",
     "checksum": "a6ea671cb75d0ccf7290dc47f186eb2e",
     "grade": false,
     "grade_id": "cell-1173e10be2ab1ace",
     "locked": true,
     "schema_version": 3,
     "solution": false,
     "task": false
    },
    "tags": []
   },
   "source": [
    "### 2) Gitter-Visualisierung $\\qquad$_(2 Punkte)_\n",
    "\n",
    "Vor der Auswertung der eigentlichen Daten soll zunächst die Gitterstruktur genauer untersucht werden.\n",
    "\n",
    "**2.1) Plotten Sie die Gitterpunkte.** \n",
    "\n",
    "  * Zeichnen Sie alle Gitterpunkte in einem 20x13-Zoll-Plot unter Verwendung von `'.'`-Markern (kleine Punkte) mit einer Größe von 0.5.\n",
    "  * Bestimmen Sie den Teilbereich des Gitters, der die Punkte enthält, die von stromauf gesehen _hinter_ dem Zylinder liegen bzw. von diesem verdeckt werden. _(\"Wie sieht der Schatten aus, wenn das Sonnenlicht von links kommt?\")_\n",
    "  * Wie viele der Punkte liegen in diesem Bereich? Speichern Sie die Anzahl in einer Variable `n_part`.\n",
    "  * Zeichnen Sie die entsprechenden Gitterpunkte mit einer anderen Farbe in die ursprüngliche Abbildung ein.\n",
    "\n",
    "_Hinweis: Um mehrere boolesche Ausdrücke in Arrays zu kombinieren, können die [bitweisen Operatoren](https://wiki.python.org/moin/BitwiseOperators) `&` (und) sowie `|` (oder) verwendet werden._"
   ]
  },
  {
   "cell_type": "code",
   "id": "540a5e72-10b9-4424-8cac-ad07af92943d",
   "metadata": {
    "deletable": false,
    "nbgrader": {
     "cell_type": "code",
     "checksum": "6aa76780d26c7fc03576dabb6ea0b377",
     "grade": true,
     "grade_id": "cell-b25d6138e75a52e4",
     "locked": false,
     "points": 1,
     "schema_version": 3,
     "solution": true,
     "task": false
    },
    "tags": [],
    "ExecuteTime": {
     "end_time": "2024-12-27T12:00:53.894960Z",
     "start_time": "2024-12-27T12:00:53.766363Z"
    }
   },
   "source": [
    "# Hier eigenen Code schreiben ...\n",
    "\n",
    "# Zylinder daten \n",
    "zylinder_x = 0.06\n",
    "zylinder_y = 0.15\n",
    "zylinder_radius = 0.0075/2\n",
    "\n",
    "# Punkte hinter dem Zylinder \n",
    "shadow_points = (x > zylinder_x) & (np.abs(y - zylinder_y) <= zylinder_radius)\n",
    "n_part = shadow_points.sum()\n",
    "\n",
    "# Plot der Punkte in einer anderen Farbe \n",
    "plt.plot(x[shadow_points], y[shadow_points], '.', \n",
    "         markersize=0.5, color='red', label='Punkte im Schatten')\n",
    "\n",
    "# Kreis \n",
    "circle = plt.Circle((zylinder_x, zylinder_y), zylinder_radius, color='black', fill=False)\n",
    "plt.gca().add_artist(circle)\n",
    "\n",
    "# Achsenbeschriftungen \n",
    "plt.xlabel('x [m]')\n",
    "plt.ylabel('y [m]')\n",
    "plt.title('Gitterpunkte')\n",
    "plt.legend()\n",
    "plt.axis('equal')\n",
    "\n",
    "# Relevanten Bereich eingrenzen\n",
    "plt.xlim([xmin, xmax])\n",
    "plt.ylim([ymin, ymax])\n",
    "\n",
    "plt.show()\n",
    "\n",
    "print(f\"Number of points in the shadow: {n_part}\")\n"
   ],
   "outputs": [
    {
     "data": {
      "text/plain": [
       "<Figure size 640x480 with 1 Axes>"
      ],
      "image/png": "[encoded data removed]"
     },
     "metadata": {},
     "output_type": "display_data"
    },
    {
     "name": "stdout",
     "output_type": "stream",
     "text": [
      "Number of points in the shadow: 2566\n"
     ]
    }
   ],
   "execution_count": 84
  },
  {
   "cell_type": "code",
   "id": "a94e8f87",
   "metadata": {
    "deletable": false,
    "editable": false,
    "nbgrader": {
     "cell_type": "code",
     "checksum": "22973e4e4627de92351b09897cbf496b",
     "grade": true,
     "grade_id": "cell-ffe5e477d719da38",
     "locked": true,
     "points": 0,
     "schema_version": 3,
     "solution": false,
     "task": false
    },
    "tags": [],
    "ExecuteTime": {
     "end_time": "2024-12-27T12:00:53.899309Z",
     "start_time": "2024-12-27T12:00:53.897166Z"
    }
   },
   "source": [
    "# Hier ist ein Plausibilitätstest:\n",
    "assert 500<n_part<5000"
   ],
   "outputs": [],
   "execution_count": 85
  },
  {
   "cell_type": "markdown",
   "id": "a2b04f02-80ab-410c-ad99-fbfa70c3e1a0",
   "metadata": {
    "deletable": false,
    "editable": false,
    "nbgrader": {
     "cell_type": "markdown",
     "checksum": "08733d79840137e2b214e024b43e4dfd",
     "grade": false,
     "grade_id": "cell-99e0b0f6c61a587d",
     "locked": true,
     "schema_version": 3,
     "solution": false,
     "task": false
    },
    "tags": []
   },
   "source": [
    "**2.2) Erstellen Sie für eine Quantifizierung der örtlichen Auflösung [Histogramme](https://de.wikipedia.org/wiki/Histogramm) der Gitterpunkte.** \n",
    "\n",
    "  * Untersuchen Sie die Ortsauflösung entlang $x$, $y$ sowie in Abhängigkeit vom Abstand zur Zylindermitte.\n",
    "  * Verwenden Sie hierfür die matplotlib-Funktion [_hist()_](https://matplotlib.org/stable/api/_as_gen/matplotlib.pyplot.hist.html).\n",
    "  * Zeichnen Sie die drei Graphen nebeneinander (3 Plots in einer Zeile) und beschriften Sie sie korrekt.\n",
    "  * Nutzen Sie für die Histogramme je 50 Bins ( = [Klassen](https://de.wikipedia.org/wiki/Histogramm#Einteilung_in_Klassen)) gleichen Umfangs.\n",
    "  * Wie hoch ist die absolute Häufigkeit (Anzahl der Elemente) für die Bins mit den jeweils meisten Elementen (`n_x_max`, `n_y_max`, `n_r_max`)?\n"
   ]
  },
  {
   "cell_type": "code",
   "id": "9099517b-7b40-4008-b42c-60a48eb228de",
   "metadata": {
    "deletable": false,
    "nbgrader": {
     "cell_type": "code",
     "checksum": "5b5cd6c9f10dbd8a3fcc7e830c12788a",
     "grade": false,
     "grade_id": "cell-724da502431a6ed6",
     "locked": false,
     "schema_version": 3,
     "solution": true,
     "task": false
    },
    "tags": [],
    "ExecuteTime": {
     "end_time": "2024-12-27T12:00:53.902608Z",
     "start_time": "2024-12-27T12:00:53.900417Z"
    }
   },
   "source": [
    "# Hier eigenen Code schreiben ...\n",
    "\n"
   ],
   "outputs": [],
   "execution_count": 86
  },
  {
   "cell_type": "code",
   "id": "007ef10a",
   "metadata": {
    "deletable": false,
    "editable": false,
    "nbgrader": {
     "cell_type": "code",
     "checksum": "633cd1507730a6e9c5e84a5e4735e570",
     "grade": true,
     "grade_id": "cell-a34819a984bc285b",
     "locked": true,
     "points": 1,
     "schema_version": 3,
     "solution": false,
     "task": false
    },
    "ExecuteTime": {
     "end_time": "2024-12-27T12:00:53.918536Z",
     "start_time": "2024-12-27T12:00:53.903944Z"
    }
   },
   "source": [
    "# Hier sind einige Plausibilitätstests:\n",
    "assert 2345 < n_x_max > n_y_max < n_r_max > 2345"
   ],
   "outputs": [
    {
     "ename": "NameError",
     "evalue": "name 'n_x_max' is not defined",
     "output_type": "error",
     "traceback": [
      "\u001B[0;31m---------------------------------------------------------------------------\u001B[0m",
      "\u001B[0;31mNameError\u001B[0m                                 Traceback (most recent call last)",
      "Cell \u001B[0;32mIn[87], line 2\u001B[0m\n\u001B[1;32m      1\u001B[0m \u001B[38;5;66;03m# Hier sind einige Plausibilitätstests:\u001B[39;00m\n\u001B[0;32m----> 2\u001B[0m \u001B[38;5;28;01massert\u001B[39;00m \u001B[38;5;241m2345\u001B[39m \u001B[38;5;241m<\u001B[39m n_x_max \u001B[38;5;241m>\u001B[39m n_y_max \u001B[38;5;241m<\u001B[39m n_r_max \u001B[38;5;241m>\u001B[39m \u001B[38;5;241m2345\u001B[39m\n",
      "\u001B[0;31mNameError\u001B[0m: name 'n_x_max' is not defined"
     ]
    }
   ],
   "execution_count": 87
  },
  {
   "cell_type": "markdown",
   "id": "0719dd41-6269-4812-977a-f421950cb249",
   "metadata": {
    "deletable": false,
    "editable": false,
    "nbgrader": {
     "cell_type": "markdown",
     "checksum": "9408ef08b048116f89b6f2e8fd38ad39",
     "grade": false,
     "grade_id": "cell-b32db7f23c049c56",
     "locked": true,
     "schema_version": 3,
     "solution": false,
     "task": false
    },
    "tags": []
   },
   "source": [
    "## 3) Strömungsgeschwindigkeiten $\\qquad$_(2 Punkte)_\n",
    "\n",
    "Nun sollen die im Datensatz auftretenden Geschwindigkeiten näher betrachtet werden.\n",
    "\n",
    "**3.1) Färben Sie Teilbereiche je nach Geschwindigkeit unterschiedlich ein:**\n",
    "\n",
    " - Bestimmen Sie die mittlere Geschwindigkeit in y-Richtung (`v_avg`) und in z-Richtung (`w_avg`) sowie die maximalen und minimalen Geschwindigkeiten in x-Richtung `u_max` und `u_min`.\n",
    " - Plotten Sie die Punkte des Gitters basierend auf folgenden 4 Kriterien:\n",
    "      1. Abweichung zur mittleren Strömungsgeschwindigkeit in $y$-Richtung _mindestens_ 2 m/s\n",
    "      2. Abweichung zur mittleren Strömungsgeschwindigkeit in $z$-Richtung _mindestens_ 4 m/s\n",
    "      3. weniger als 12 m/s Abweichung zur _Maximal_geschwindigkeit $x$-Richtung\n",
    "      4. weniger als 24 m/s Abweichung zur _Minimal_geschwindigkeit $x$-Richtung\n",
    "\n",
    "Betrachten Sie die Kriterien unabhängig voneinander.\n",
    "Wählen Sie je nach Kriterium eine andere Farbe für die Punkte.\n",
    "Achten Sie darauf, dass die Achsen [im gleichen Verhältnis skaliert](https://matplotlib.org/stable/gallery/subplots_axes_and_figures/axis_equal_demo.html#) sind."
   ]
  },
  {
   "cell_type": "code",
   "id": "840909fc-9f14-406d-b993-0e8eae4ca722",
   "metadata": {
    "deletable": false,
    "nbgrader": {
     "cell_type": "code",
     "checksum": "6185918cad5a59a782414a6811fd3a6a",
     "grade": true,
     "grade_id": "cell-1006bff7028b41d5",
     "locked": false,
     "points": 1,
     "schema_version": 3,
     "solution": true,
     "task": false
    },
    "tags": []
   },
   "source": [
    "# Hier eigenen Code schreiben ...\n",
    "\n"
   ],
   "outputs": [],
   "execution_count": null
  },
  {
   "cell_type": "code",
   "id": "10af5237",
   "metadata": {
    "deletable": false,
    "editable": false,
    "nbgrader": {
     "cell_type": "code",
     "checksum": "598dfae3f5d15d0c932d3070233a0372",
     "grade": true,
     "grade_id": "cell-7f849a27c57cf8f9",
     "locked": true,
     "points": 0,
     "schema_version": 3,
     "solution": false,
     "task": false
    }
   },
   "source": [
    "# Hier sind einige Plausibilitätstests:\n",
    "assert u_min < 0 < w_avg < 30 < u_max < 60"
   ],
   "outputs": [],
   "execution_count": null
  },
  {
   "cell_type": "markdown",
   "id": "00b34b62-5868-4851-9274-feb2fd3d2b74",
   "metadata": {
    "deletable": false,
    "editable": false,
    "nbgrader": {
     "cell_type": "markdown",
     "checksum": "b2c516dd946c84050c1aa7154729791d",
     "grade": false,
     "grade_id": "cell-efce119db3fed219",
     "locked": true,
     "schema_version": 3,
     "solution": false,
     "task": false
    },
    "tags": []
   },
   "source": [
    "**3.2) Visualisieren Sie die Strömung in unterschiedlichen Plotvarianten.** \n",
    "\n",
    "  * Berechnen Sie die Geschwindigkeitsbeträge ([Länge der Geschwindigkeitsvektoren](https://de.wikipedia.org/wiki/Euklidische_Norm)) `u_mag` an den Gitterpunkten.\n",
    "  * Erzeugen Sie drei Visualisierungen der errechneten Werte:\n",
    "      1. Mithilfe der [_scatter()_](https://matplotlib.org/stable/api/_as_gen/matplotlib.pyplot.scatter.html)-Funktion und Farbskalierung der Werte (Punktgröße 0.5)\n",
    "      2. Mithilfe der [_tricontourf()_](https://matplotlib.org/stable/api/_as_gen/matplotlib.pyplot.tricontourf.html)-Funktion mit 8 Farblevels\n",
    "      3. Mithilfe der [_scatter()_](https://matplotlib.org/stable/api/_as_gen/matplotlib.pyplot.scatter.html)-Funktion und Farbskalierung der Werte (Punktgröße 0.5). Im Unterschied zur kartesischen Darstellung in Plot 1 soll hier Abstand und [Winkel](https://numpy.org/doc/stable/reference/generated/numpy.arctan2.html) relativ zur Zylindermitte bestimmt und die Winkelposition auf die x-Achse und der Abstand auf die y-Achse projiziert werden.\n",
    "    \n",
    "  * Zeichnen Sie bei Plot 1 und 2 den Zylinderkreis in weißer Farbe mit ein.\n",
    "  * Fügen Sie jeweils einen [Colorbar](https://matplotlib.org/stable/api/_as_gen/matplotlib.pyplot.colorbar.html) hinzu, damit die Farben Geschwindigkeitswerten zugeordnet werden können."
   ]
  },
  {
   "cell_type": "code",
   "id": "4fa8d35c-4d12-496e-a5bf-911a54a0ee44",
   "metadata": {
    "deletable": false,
    "nbgrader": {
     "cell_type": "code",
     "checksum": "3d91471f35972cf598eacb6ddbf41524",
     "grade": false,
     "grade_id": "cell-ee4d27541dbe0161",
     "locked": false,
     "schema_version": 3,
     "solution": true,
     "task": false
    },
    "tags": []
   },
   "source": [
    "plt.figure(5,(10,18))\n",
    "plt.subplot(311)\n",
    "# Hier eigenen Code schreiben ...\n",
    "\n"
   ],
   "outputs": [],
   "execution_count": null
  },
  {
   "cell_type": "code",
   "id": "14296a4b",
   "metadata": {
    "deletable": false,
    "editable": false,
    "nbgrader": {
     "cell_type": "code",
     "checksum": "883a38af688e0deb745326356e2cd199",
     "grade": true,
     "grade_id": "cell-9f5c045a902550e2",
     "locked": true,
     "points": 1,
     "schema_version": 3,
     "solution": false,
     "task": false
    }
   },
   "source": [
    "# Hier sind einige Plausibilitätstests:\n",
    "assert u_mag.shape == u.shape\n",
    "assert int(u_mag.mean()) == 35"
   ],
   "outputs": [],
   "execution_count": null
  },
  {
   "cell_type": "markdown",
   "id": "92e66dc7-b15f-4615-8aa4-517dd606756e",
   "metadata": {
    "deletable": false,
    "editable": false,
    "nbgrader": {
     "cell_type": "markdown",
     "checksum": "fd2def7bd719d388123ae8e7f86dab77",
     "grade": false,
     "grade_id": "cell-b6b6ef5ec0d289f0",
     "locked": true,
     "schema_version": 3,
     "solution": false,
     "task": false
    },
    "tags": []
   },
   "source": [
    "## 4) Regelmäßiges Gitter  $\\qquad$_(2 Punkte)_\n",
    "\n",
    "Daten, die auf einem regelmäßigen Gitter vorliegen, lassen sich häufig vielfältiger verarbeiten und visualisieren.\n",
    "Um diesen Vorteil ausnutzen zu können, sollen nun die auf einenm unregelmäßgen Gitter vorliegenden Daten auf ein regelmäßiges Gitter projiziert bzw. interpoliert werden.\n",
    "\n",
    "Praktischerweise enthält das SciPy-Modul mit [_griddata()_](https://docs.scipy.org/doc/scipy/reference/generated/scipy.interpolate.griddata.html) eine Funktion, die unregelmäßige Daten auf ein regelmäßiges Gitter abbilden kann.\n",
    "Um ein Gitter mit regelmäßigen Abständen zu erzeugen, kann zum Beispiel die Funktion [_meshgrid()_](https://numpy.org/doc/stable/reference/generated/numpy.meshgrid.html) zusammen mit [_arange()_](https://numpy.org/doc/stable/reference/generated/numpy.arange.html) (beide aus dem NumPy-Modul) verwendet werden.\n",
    "\n",
    "**Erzeugen Sie ein Gitter mit regelmäßigen Abständen und interpolieren Sie die unregelmäßig verteilten Geschwindigkeitsdaten auf dieses Gitter.**\n",
    "\n",
    "  * Verwenden Sie die Funktion [_meshgrid()_](https://numpy.org/doc/stable/reference/generated/numpy.meshgrid.html) und speichern Sie die Gitterkoordinaten in den Variablen `gx` bzw. `gy`.\n",
    "  * Das neue Gitter sollte eine Schrittweite von $10^{-4}\\,$m haben (sowohl in $x$- als auch in $y$-Richtung) und den Simulationsbereich beinhalten.\n",
    "  * Interpolieren Sie $u$, $v$ und $w$ jeweils separat, sodass Sie drei neue (große) Arrays erhalten.\n",
    "  * Berechnen Sie aus diesen Arrays ein Array `inter_u_mag`, das die Geschwindigkeitsbeträge enthält.\n",
    "  * Zur Überprüfung, ob alles korrekt funktioniert hat, visualisieren Sie `inter_u_mag` mithilfe von [_imshow()_](https://matplotlib.org/stable/api/_as_gen/matplotlib.pyplot.imshow.html).\n",
    "      * Setzen Sie den Parameter `vmax` auf einen sinnvollen Wert.\n",
    "      * Tragen Sie im Parameter `extent` den tatsächlichen Umfang des Gitters ein.\n",
    "      * Zeichnen Sie auch hier den weißen Kreis an die passende Position.\n",
    "      * Achten Sie auf die korrekte Ausrichtung der Grafik.\n",
    "  \n",
    "\n",
    "_Hinweis: Wenn Sie sich der Leistungsfähigkeit Ihres Computers nicht sicher sind, beginnen Sie mit einer gröberen Schrittweite._"
   ]
  },
  {
   "cell_type": "code",
   "id": "721b9e3f-2b67-47d1-ad0b-f2db1946b9f0",
   "metadata": {
    "deletable": false,
    "nbgrader": {
     "cell_type": "code",
     "checksum": "fc24060372f32ece4da55d5d4c2707b9",
     "grade": true,
     "grade_id": "cell-107d74bd5b3909fb",
     "locked": false,
     "points": 1,
     "schema_version": 3,
     "solution": true,
     "task": false
    },
    "tags": []
   },
   "source": [
    "from scipy.interpolate import griddata # Vorschlag für Interpolationsmethode für sanfte Übergänge: \"cubic\"\n",
    "# Hier eigenen Code schreiben ...\n",
    "\n"
   ],
   "outputs": [],
   "execution_count": null
  },
  {
   "cell_type": "code",
   "id": "8868e02c",
   "metadata": {
    "deletable": false,
    "editable": false,
    "nbgrader": {
     "cell_type": "code",
     "checksum": "f35d5cff13deb914d3f1cc1a2e7c5fe5",
     "grade": true,
     "grade_id": "cell-48b377902dea1043",
     "locked": true,
     "points": 1,
     "schema_version": 3,
     "solution": false,
     "task": false
    }
   },
   "source": [
    "# Hier sind einige Plausibilitätstests:\n",
    "assert gx.shape == gy.shape == inter_u_mag.shape\n",
    "assert len(gx.shape) == 2\n",
    "assert gx.shape[1]-gx.shape[0] == 800\n"
   ],
   "outputs": [],
   "execution_count": null
  },
  {
   "cell_type": "markdown",
   "id": "26bfcc2f-f25a-4880-abaf-7f310df58e1e",
   "metadata": {
    "deletable": false,
    "editable": false,
    "nbgrader": {
     "cell_type": "markdown",
     "checksum": "52649a9118582162e234fd9ba0001f93",
     "grade": false,
     "grade_id": "cell-570fbd232a9ac596",
     "locked": true,
     "schema_version": 3,
     "solution": false,
     "task": false
    },
    "tags": []
   },
   "source": [
    "## 5) Wirbelstärke  $\\qquad$_(2 Punkte)_\n",
    "\n",
    "Um \"interessante\" Regionen in einem Strömungsfeld zu identifizieren, wird häufig die [Wirbelstärke](https://de.wikipedia.org/wiki/Wirbelst%C3%A4rke) verwendet, die nun berechnet werden soll. \n",
    "Hier genügt die Berechnung in 2D, d.h. die Wirbelstärke in $z$-Richtung. Diese ist wie folgt definiert:\n",
    "\n",
    "$$\n",
    "    \\omega_z = \\frac{\\partial v}{\\partial x} - \\frac{\\partial u}{\\partial y}\\tag{1}\n",
    "$$\n",
    "\n",
    "Offenbar werden die partiellen Ableitungen der Geschwindigkeiten benötigt. \n",
    "Diese waren in der Datendatei jedoch nicht enthalten und müssen demzufolge aus verfügbaren Daten berechnet werden. \n",
    "Da nur diskrete Werte vorliegen, muss die Ableitung über den [Differenzenquotienten](https://de.wikipedia.org/wiki/Differenzenquotient) erfolgen. \n",
    "\n",
    "Mit den nun auf einem regelmäßigen Gitter vorliegenden Daten können die partiellen Ableitungen einfach approximiert werden über\n",
    "\n",
    "$$\n",
    "    \\frac{\\partial v_{i,j}}{\\partial x} \\approx \\frac{v_{i,j+1}-v_{i,j}}{\\Delta x} \\tag{2}\n",
    "$$\n",
    "\n",
    "und\n",
    "\n",
    "$$\n",
    "    \\frac{\\partial u_{i,j}}{\\partial y} \\approx \\frac{u_{i,j}-u_{i+1,j}}{\\Delta y}~.\\tag{3}\n",
    "$$\n",
    "\n",
    "Die Indizes zählen von $i=0\\ldots N_\\text{Zeilen}-1$ bzw. $j=0\\ldots N_\\text{Spalten}-1$. Man beachte, dass Gleichung (3) für den Fall formuliert ist, dass ein geringerer Zeilenindex für einen höheren $y$-Wert steht. Sollte das in Ihrer Lösung nicht der Fall sein, sollten Sie für eine korrekte Lösung auch die Formel entsprechend anpassen.\n",
    "\n",
    "**Berechnen Sie die Ableitungen und die Wirbelstärken $\\omega_z$ entsprechend Gleichung (1). Visualisieren Sie die Wirbelstärken `omega_z` mit _imshow()_.**\n",
    "  \n",
    "  * Wählen Sie eine divergierende [Colormap](https://matplotlib.org/stable/tutorials/colors/colormaps.html) und stellen Sie sicher, dass der Wert 0 darin weiß dargestellt wird.\n",
    "  * Zeichnen Sie auch hier den weißen Zylinderkreis ein.\n",
    "  * Setzen Sie den dargestellten Wertebereich so, dass der Plot informativ ist.\n",
    "  * Fügen Sie einen Colorbar hinzu.\n",
    "\n",
    "_Hinweis: Versuchen Sie, effizienten Code zu schreiben! Diese Berechnung sollte nicht allzu lange dauern (vielleicht einige wenige Sekunden). Erhöhen Sie zu Testzwecken die Schrittweite, falls erforderlich._"
   ]
  },
  {
   "cell_type": "code",
   "id": "fa67300e-9694-444d-8c93-4cc0f9b9042c",
   "metadata": {
    "deletable": false,
    "nbgrader": {
     "cell_type": "code",
     "checksum": "224f1ef44b44ecde601667ad315be9b2",
     "grade": true,
     "grade_id": "cell-051f1e2f84dcc4b0",
     "locked": false,
     "points": 1,
     "schema_version": 3,
     "solution": true,
     "task": false
    },
    "tags": []
   },
   "source": [
    "# Hier eigenen Code schreiben ...\n",
    "\n"
   ],
   "outputs": [],
   "execution_count": null
  },
  {
   "cell_type": "code",
   "id": "e476369a-df66-4794-bd58-17f6f04ac116",
   "metadata": {
    "deletable": false,
    "editable": false,
    "nbgrader": {
     "cell_type": "code",
     "checksum": "338820edfc86c9966b867c52d7ec5a88",
     "grade": true,
     "grade_id": "cell-015a9d007a95da9f",
     "locked": true,
     "points": 1,
     "schema_version": 3,
     "solution": false,
     "task": false
    }
   },
   "source": [
    "# Hier sind einige Plausibilitätstests:\n",
    "assert np.abs(np.nanmean(omega_z))<10, 'Einheiten in Ordnung?'\n",
    "assert 8e5<np.nanmax(omega_z)-np.nanmin(omega_z)<10e5, 'Anordnung der Zeilen korrekt interpretiert?'"
   ],
   "outputs": [],
   "execution_count": null
  }
 ],
 "metadata": {
  "kernelspec": {
   "display_name": "Python 3 (ipykernel)",
   "language": "python",
   "name": "python3"
  },
  "language_info": {
   "codemirror_mode": {
    "name": "ipython",
    "version": 3
   },
   "file_extension": ".py",
   "mimetype": "text/x-python",
   "name": "python",
   "nbconvert_exporter": "python",
   "pygments_lexer": "ipython3",
   "version": "3.12.4"
  }
 },
 "nbformat": 4,
 "nbformat_minor": 5
}
