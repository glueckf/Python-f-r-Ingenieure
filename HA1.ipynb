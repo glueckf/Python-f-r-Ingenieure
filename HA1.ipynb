{
 "cells": [
  {
   "cell_type": "markdown",
   "metadata": {},
   "source": [
    "# Hausaufgabe 1\n",
    "## Lärmbelastung am Heimarbeitsplatz\n",
    "<!-- Lizensiert unter (CC BY 4.0) Gert Herold, 2023 -->\n",
    "\n",
    "Nach Beschwerden zahlreicher im Homeoffice arbeitender Menschen über die durch eine Dauerbaustelle auftretende Lärmbelastung wurde über mehrere Monate an Werktagen der Mittelungspegel $L_\\text{A,eq}$ an einem repräsentativen [Immissionsort](https://www.ald-laerm.de/publikationen/laermlexikon/immissionsort) bestimmt und mit einer (übertriebenen) Genauigkeit von 4 Nachkommastellen abgespeichert."
   ]
  },
  {
   "cell_type": "code",
   "metadata": {
    "deletable": false,
    "editable": false,
    "tags": [],
    "ExecuteTime": {
     "end_time": "2024-10-30T08:25:19.814903Z",
     "start_time": "2024-10-30T08:25:19.808649Z"
    }
   },
   "source": [
    "# Werte in dB\n",
    "LAeq = { 'Januar': [69.3402, 64.6867, 59.9923, 60.2454, 65.5803, 66.8016, 47.9002, 54.3735, 63.2999, 61.5103, 66.2678,\n",
    "                    69.1202, 53.4968, 59.6108, 66.9700, 65.3091, 58.9148, 59.7523, 65.7184, 57.1684, 62.0411,\n",
    "                    68.0436],\n",
    "         'Februar': [53.5545, 53.6210, 65.9542, 56.5838, 59.1691, 53.3265, 59.2421, 64.1996, 64.4462, 64.7863,\n",
    "                     53.8473, 58.8556, 57.5749, 60.3718, 66.7229, 62.6360, 60.3164, 61.8960, 65.8449, 61.0294,\n",
    "                     63.9525],\n",
    "         'März': [59.0376, 61.1796, 59.3462, 65.0439, 61.2666, 54.4055, 55.6011, 59.1202, 61.7436, 70.0746, 63.7625,\n",
    "                  58.3039, 65.6353, 66.9944, 61.0898, 66.0794, 55.0785, 69.8206, 57.1607],\n",
    "         'April': [62.3058, 53.5707, 63.3196, 64.4205, 49.0656, 60.9626, 58.2654, 63.3745, 53.3427, 70.6130, 60.2715,\n",
    "                   59.4843, 56.4521, 66.0385, 68.9827, 54.5486, 58.4582, 65.6612, 63.4762, 57.0134, 62.2448],\n",
    "         'Mai': [65.9801, 56.5079, 63.6767, 66.4105, 61.4628, 57.8228, 63.9600, 58.7080, 72.9916, 55.9802, 62.6261,\n",
    "                 67.9972, 58.7629, 54.8635, 55.4835, 56.7607, 58.2721, 61.4361, 61.5193, 64.4497],\n",
    "         'Juni': [63.3530, 52.9475, 66.6408, 57.4753, 52.8392, 63.0064, 60.2751, 57.9009, 58.4771, 65.5932, 60.8967,\n",
    "                  60.1358, 62.0877, 54.4663, 61.4063, 59.7634, 65.0565, 61.5484, 70.4726, 63.9510] }"
   ],
   "outputs": [],
   "execution_count": 18
  },
  {
   "cell_type": "markdown",
   "metadata": {
    "deletable": false,
    "editable": false,
    "tags": []
   },
   "source": [
    "### 1) Ausgabe für den Messbericht\n",
    "\n",
    "**Geben Sie für jeden Monat den jeweils höchsten Pegel mit einer Nachkommastelle als Fließtext an.**\n",
    " \n",
    "Beispiel:\n",
    "\n",
    "    Im August wurde ein maximaler Mittelungspegel von 71.2 dB gemessen.\n",
    "\n",
    "Vermeiden Sie bei der Lösung, denselben Programmcode wiederholt einzugeben, sondern nutzen Sie stattdessen eine geeignete Kontrollstruktur.\n",
    "*(Für einen Hinweis zur Textformatierung unter Python den ausgeblendeten Abschnitt öffnen.)*"
   ]
  },
  {
   "cell_type": "code",
   "metadata": {
    "jupyter": {
     "source_hidden": true
    },
    "tags": [],
    "ExecuteTime": {
     "end_time": "2024-10-30T08:25:20.183304Z",
     "start_time": "2024-10-30T08:25:20.178856Z"
    }
   },
   "source": [
    "# Hinweis: Zeichenketten in Python mit formatierenden Platzhaltern -- verschiedene Wege zum gleichen Ziel\n",
    "s = 'Sekunde'\n",
    "m = 'Minute'\n",
    "h = 'Stunde'\n",
    "s_per_m = 60\n",
    "h_per_m = 1/60\n",
    "\n",
    "print('%04d: Eine %s hat %d %sn. Das sind %8.4f %sn. Eine %s entspricht demnach %.6f %sn.' % (1, m, s_per_m, s, h_per_m, h, s, h_per_m/s_per_m, h))\n",
    "print('{:04d}: Eine {} hat {} {}n. Das sind {:8.4f} {}n. Eine {} entspricht demnach {:.6f} {}n.'.format(2, m, s_per_m, s, h_per_m, h, s, h_per_m/s_per_m, h))\n",
    "print(f'{3:04d}: Eine {m} hat {s_per_m} {s}n. Das sind {h_per_m:8.4f} {h}n. Eine {s} entspricht demnach {h_per_m/s_per_m:.6f} {h}n.')\n",
    "\n",
    "print(len(LAeq))"
   ],
   "outputs": [
    {
     "name": "stdout",
     "output_type": "stream",
     "text": [
      "0001: Eine Minute hat 60 Sekunden. Das sind   0.0167 Stunden. Eine Sekunde entspricht demnach 0.000278 Stunden.\n",
      "0002: Eine Minute hat 60 Sekunden. Das sind   0.0167 Stunden. Eine Sekunde entspricht demnach 0.000278 Stunden.\n",
      "0003: Eine Minute hat 60 Sekunden. Das sind   0.0167 Stunden. Eine Sekunde entspricht demnach 0.000278 Stunden.\n",
      "6\n"
     ]
    }
   ],
   "execution_count": 19
  },
  {
   "cell_type": "code",
   "metadata": {
    "ExecuteTime": {
     "end_time": "2024-10-30T08:25:20.373212Z",
     "start_time": "2024-10-30T08:25:20.369875Z"
    }
   },
   "source": [
    "# Hier eigenen Code schreiben ...\n",
    "\n",
    "# Durchlaufe jeden Monat (key) in LAeq\n",
    "for key in LAeq:\n",
    "   # Finde den maximalen Wert für den aktuellen Monat\n",
    "   max_level = max(LAeq[key])\n",
    "   # Runde den maximalen Wert auf eine Nachkommastelle\n",
    "   rounded_max = round(max_level, 1)\n",
    "   # Gebe den formatierten Text mit Monat und gerundetem Maximalwert aus\n",
    "   print(f'Im {key} wurde ein maximaler Mittelungspegel von {rounded_max} dB gemessen.')"
   ],
   "outputs": [
    {
     "name": "stdout",
     "output_type": "stream",
     "text": [
      "Im Januar wurde ein maximaler Mittelungspegel von 69.3 dB gemessen.\n",
      "Im Februar wurde ein maximaler Mittelungspegel von 66.7 dB gemessen.\n",
      "Im März wurde ein maximaler Mittelungspegel von 70.1 dB gemessen.\n",
      "Im April wurde ein maximaler Mittelungspegel von 70.6 dB gemessen.\n",
      "Im Mai wurde ein maximaler Mittelungspegel von 73.0 dB gemessen.\n",
      "Im Juni wurde ein maximaler Mittelungspegel von 70.5 dB gemessen.\n"
     ]
    }
   ],
   "execution_count": 20
  },
  {
   "cell_type": "markdown",
   "metadata": {
    "deletable": false,
    "editable": false,
    "tags": []
   },
   "source": [
    "### 2) Richtwertüberschreitung\n",
    "\n",
    "  * Berechnen Sie für jeden Monat die Anzahl der Tage, an denen der [zulässige Richtwert](http://www.verwaltungsvorschriften-im-internet.de/bsvwvbund_26081998_IG19980826.htm) für urbane Gebiete von 63 dB überschritten wurde. \n",
    "  * Berechnen Sie deren prozentualen Anteil an der Gesamtzahl der Werktage im jeweiligen Monat. \n",
    "  * Nutzen Sie Textformatierungen (siehe z.B. Hinweis oben), um das Ergebnis tabellarisch auszugeben.\n",
    "  * Vermeiden Sie auch hier die wiederholte Eingabe nahezu identischer Code-Abschnitte.\n",
    "  * Speichern Sie außerdem für einen automatisierten Test die Anzahl für den Monat Juni in der Variable `anzahl_juni`.\n",
    "\n",
    "Beispiel:\n",
    "\n",
    "    Juli    :  6 Tage (28.6 %)\n",
    "    August  :  9 Tage (39.1 %)\n",
    "    \n",
    "<!-- Werktage Juli:21, August: 23 -->"
   ]
  },
  {
   "cell_type": "code",
   "metadata": {
    "ExecuteTime": {
     "end_time": "2024-10-30T08:25:20.653500Z",
     "start_time": "2024-10-30T08:25:20.648178Z"
    }
   },
   "source": [
    "anzahl_juni = None # <- diese Variable sollte später die Anzahl an Juni-Tagen mit Richtwert-Überschreitung enthalten\n",
    "\n",
    "\n",
    "# Funktion zum Zählen der Tage über dem Grenzwert für einen Monat\n",
    "def count_days_over_limit(month_data, limit, reduction=0):\n",
    "    \"\"\"\n",
    "    Zählt die Tage über dem Grenzwert für einen Monat\n",
    "    month_data: Liste mit Messdaten eines Monats\n",
    "    limit: Grenzwert in dB\n",
    "    reduction: Optionales Argument - Lärmreduktion in dB (Standard: 0)\n",
    "    \"\"\"\n",
    "    # Initialisiere Zähler\n",
    "    days_over = 0\n",
    "    \n",
    "    # Gehe durch jeden Wert im Monat\n",
    "    for level in month_data:\n",
    "        # Überprüfe, ob der Wert über dem Grenzwert liegt, nach Reduktion\n",
    "        if (level - reduction) > limit:\n",
    "            days_over += 1\n",
    "    return days_over\n",
    "\n",
    "\n",
    "# DB Richtwert\n",
    "db_limit = 63\n",
    "# Berechne die längste Monatsnamenbreite für saubere Formatierung\n",
    "max_length = max(len(month) for month in LAeq)\n",
    "\n",
    "# Gehe durch jeden Monat\n",
    "for month in LAeq:\n",
    "    # Zähle Tage über Grenzwert für aktuellen Monat\n",
    "    days_over = count_days_over_limit(LAeq[month], db_limit)\n",
    "    \n",
    "    # Berechne Prozentsatz\n",
    "    total_days = len(LAeq[month])\n",
    "    percentage = (days_over / total_days) * 100\n",
    "    \n",
    "    # Speichere Juni-Wert\n",
    "    if month == 'Juni':\n",
    "        anzahl_juni = days_over\n",
    "    \n",
    "    # Formatierte Ausgabe\n",
    "    print(f'{month:<{max_length}} : {days_over:2d} Tage ({percentage:5.1f}%)')"
   ],
   "outputs": [
    {
     "name": "stdout",
     "output_type": "stream",
     "text": [
      "Januar  : 11 Tage ( 50.0%)\n",
      "Februar :  7 Tage ( 33.3%)\n",
      "März    :  7 Tage ( 36.8%)\n",
      "April   :  8 Tage ( 38.1%)\n",
      "Mai     :  7 Tage ( 35.0%)\n",
      "Juni    :  7 Tage ( 35.0%)\n"
     ]
    }
   ],
   "execution_count": 21
  },
  {
   "cell_type": "code",
   "metadata": {
    "deletable": false,
    "editable": false,
    "tags": [],
    "ExecuteTime": {
     "end_time": "2024-10-30T08:25:20.784238Z",
     "start_time": "2024-10-30T08:25:20.782056Z"
    }
   },
   "source": [
    "# Hier ist ein Plausibilitätstest\n",
    "assert anzahl_juni < 10 "
   ],
   "outputs": [],
   "execution_count": 22
  },
  {
   "cell_type": "markdown",
   "metadata": {
    "deletable": false,
    "editable": false,
    "tags": []
   },
   "source": [
    "**3. Durch intensive Maßnahmen zur Lärmminderung und -vermeidung könnte der Pegel um durchschnittlich 6 dB gesenkt werden.** \n",
    "\n",
    "3.1) Schätzen Sie basierend auf den gegebenen Werten ab, wie viele (Werk-)Tage im Jahr es noch immer zu Richtwertüberschreitungen kommen würde und geben Sie das Ergebnis aus."
   ]
  },
  {
   "cell_type": "code",
   "metadata": {
    "ExecuteTime": {
     "end_time": "2024-10-30T08:25:21.045819Z",
     "start_time": "2024-10-30T08:25:21.042451Z"
    }
   },
   "source": [
    "anzahl_jahr = None # - diese Variable sollte später die geschätzte Anzahl an Tagen im Jahr mit Richtwert-Überschreitung bei 6 dB Senkung enthalten\n",
    "# Hier eigenen Code schreiben ...\n",
    "\n",
    "# Monate pro Jahr und die gemessenen Monate um auf die Jahreshochrechnung zu kommen\n",
    "MONTHS_PER_YEAR = 12\n",
    "AVAILABLE_MONTHS = len(LAeq)\n",
    "yearly_factor = MONTHS_PER_YEAR / AVAILABLE_MONTHS\n",
    "\n",
    "# DB Reduktionswert\n",
    "db_reduction = 6 \n",
    "\n",
    "# Initialisiere anzahl_jahr mit 0\n",
    "anzahl_jahr = 0\n",
    "\n",
    "# Gehe durch jeden Monat\n",
    "for key in LAeq:\n",
    "    # Zähle Tage über Grenzwert für aktuellen Monat mit Reduktion von 6dB\n",
    "    anzahl_jahr += count_days_over_limit(LAeq[key], db_limit, db_reduction)\n",
    "\n",
    "anzahl_jahr *= yearly_factor # Multipliziert die Anzahl mit 2 (yearly_factor), um von dem Halbjahreswert auf den Jahreswert zu kommen\n",
    "\n",
    "print(f'3.1) Bei einer Lärmminderung um {db_reduction} dB würde es an schätzungsweise {anzahl_jahr} Tagen im Jahr zu Richtwertüberschreitungen kommen.')"
   ],
   "outputs": [
    {
     "name": "stdout",
     "output_type": "stream",
     "text": [
      "3.1) Bei einer Lärmminderung um 6 dB würde es an schätzungsweise 14.0 Tagen im Jahr zu Richtwertüberschreitungen kommen.\n"
     ]
    }
   ],
   "execution_count": 23
  },
  {
   "cell_type": "code",
   "metadata": {
    "deletable": false,
    "editable": false,
    "tags": [],
    "ExecuteTime": {
     "end_time": "2024-10-30T08:25:21.198422Z",
     "start_time": "2024-10-30T08:25:21.196088Z"
    }
   },
   "source": [
    "# Hier ist ein Plausibilitätstest\n",
    "assert anzahl_jahr > 10"
   ],
   "outputs": [],
   "execution_count": 24
  },
  {
   "cell_type": "markdown",
   "metadata": {
    "deletable": false,
    "editable": false,
    "tags": []
   },
   "source": [
    "3.2) Wie sieht es bei 8 dB durchschnittlicher Pegelverringerung aus?"
   ]
  },
  {
   "cell_type": "code",
   "metadata": {
    "ExecuteTime": {
     "end_time": "2024-10-30T08:25:21.517949Z",
     "start_time": "2024-10-30T08:25:21.513285Z"
    }
   },
   "source": [
    "anzahl_jahr = None # <- diese Variable sollte später die geschätzte Anzahl an Tagen im Jahr mit Richtwert-Überschreitung bei 6 dB Senkung enthalten\n",
    "# Hier eigenen Code schreiben ...\n",
    "\n",
    "# DB Reduktionswert\n",
    "db_reduction = 8\n",
    "# Initialisiere anzahl_jahr mit 0\n",
    "anzahl_jahr = 0\n",
    "\n",
    "# Gehe durch jeden Monat\n",
    "for key in LAeq:\n",
    "    # Zähle Tage über Grenzwert für aktuellen Monat mit Reduktion von 8dB\n",
    "    anzahl_jahr += count_days_over_limit(LAeq[key], db_limit, db_reduction)\n",
    "\n",
    "anzahl_jahr *= yearly_factor # Multipliziert die Anzahl mit 2 (yearly_factor), um von dem Halbjahreswert auf den Jahreswert zu kommen\n",
    "\n",
    "print(f'3.2) Bei einer Lärmminderung um {db_reduction} dB würde es an schätzungsweise {anzahl_jahr} Tagen im Jahr zu Richtwertüberschreitungen kommen.')"
   ],
   "outputs": [
    {
     "name": "stdout",
     "output_type": "stream",
     "text": [
      "3.2) Bei einer Lärmminderung um 8 dB würde es an schätzungsweise 2.0 Tagen im Jahr zu Richtwertüberschreitungen kommen.\n"
     ]
    }
   ],
   "execution_count": 25
  },
  {
   "cell_type": "code",
   "metadata": {
    "deletable": false,
    "editable": false,
    "tags": [],
    "ExecuteTime": {
     "end_time": "2024-10-30T08:25:21.714682Z",
     "start_time": "2024-10-30T08:25:21.711665Z"
    }
   },
   "source": [
    "# Hier ist ein Plausibilitätstest\n",
    "assert anzahl_jahr < 10"
   ],
   "outputs": [],
   "execution_count": 26
  }
 ],
 "metadata": {
  "kernelspec": {
   "display_name": "Python 3 (ipykernel)",
   "language": "python",
   "name": "python3"
  },
  "language_info": {
   "codemirror_mode": {
    "name": "ipython",
    "version": 3
   },
   "file_extension": ".py",
   "mimetype": "text/x-python",
   "name": "python",
   "nbconvert_exporter": "python",
   "pygments_lexer": "ipython3",
   "version": "3.10.9"
  }
 },
 "nbformat": 4,
 "nbformat_minor": 4
}
