{
 "cells": [
  {
   "cell_type": "markdown",
   "id": "7cc1e778-30d8-4d8a-ad25-6a64efb27f8e",
   "metadata": {
    "deletable": false,
    "editable": false,
    "nbgrader": {
     "cell_type": "markdown",
     "checksum": "ebb82c969ec66351c52f295d6f80f8ea",
     "grade": false,
     "grade_id": "cell-17b5dc3d335771b9",
     "locked": true,
     "schema_version": 3,
     "solution": false,
     "task": false
    },
    "tags": []
   },
   "source": [
    "# Portfolio-Programmieraufgabe 5\n",
    "## Radverkehr an der TUB\n",
    "<!-- Lizensiert unter (CC BY 4.0) Gert Herold, Moritz Thömen, 2024 -->"
   ]
  },
  {
   "cell_type": "markdown",
   "id": "d0cd5019-b38c-4c23-80f0-dbf1b37714c0",
   "metadata": {
    "deletable": false,
    "editable": false,
    "nbgrader": {
     "cell_type": "markdown",
     "checksum": "d17c3fa25348cba599a96c61b306b137",
     "grade": false,
     "grade_id": "cell-dbea8adc5a9c961d",
     "locked": true,
     "schema_version": 3,
     "solution": false,
     "task": false
    },
    "tags": []
   },
   "source": [
    "An vielen Stellen an den Straßen Berlins befinden sich [Fahrrad-Verkehrszählstellen](https://www.berlin.de/sen/uvk/mobilitaet-und-verkehr/verkehrsplanung/radverkehr/weitere-radinfrastruktur/zaehlstellen-und-fahrradbarometer/). \n",
    "Diese sind meist unsichtbar in den Boden der Fahrradwege eingelassen. \n",
    "Mitunter sind sie jedoch auch mit deutlich sichtbaren Displays zur Darstellung der Zahlen ausgestattet, so z.B. vor dem Mathegebäude der TU Berlin.\n",
    "Die stündliche aufgezeichneten Daten der Zählstellen sind [frei abrufbar](https://www.berlin.de/sen/uvk/_assets/verkehr/verkehrsplanung/radverkehr/weitere-radinfrastruktur/zaehlstellen-und-fahrradbarometer/gesamtdatei-stundenwerte.xlsx), mit dem Aufzeichnungsbeginn der ersten Zählstation im März 2012. Die TU selbst kam erst später hinzu.\n",
    "\n",
    "In dieser PA sollen Sie die Daten der Jahre 2022 und 2023 laden, untersuchen und visuell aufbereiten. Außerdem sollen Sie ein einfaches Modell entwerfen, mithilfe dessen Sie grob vorhersagen können, wie viele Fahrräder (je nach Wetterlage) zu erwarten sind.\n",
    "\n",
    "Verwenden Sie für diese PA folgende Module:"
   ]
  },
  {
   "cell_type": "code",
   "execution_count": null,
   "id": "29723f74-3623-411f-8e90-74400875cbc4",
   "metadata": {
    "deletable": false,
    "editable": false,
    "nbgrader": {
     "cell_type": "code",
     "checksum": "d8701da91b1950e5e1de734e3b06d4e8",
     "grade": false,
     "grade_id": "cell-5e40bf69e25afc6e",
     "locked": true,
     "schema_version": 3,
     "solution": false,
     "task": false
    }
   },
   "outputs": [],
   "source": [
    "import numpy as np\n",
    "import pandas as pd\n",
    "import matplotlib.pyplot as plt"
   ]
  },
  {
   "cell_type": "markdown",
   "id": "132e12b5-5135-487b-bec2-486ef1acb496",
   "metadata": {
    "deletable": false,
    "editable": false,
    "nbgrader": {
     "cell_type": "markdown",
     "checksum": "c101ea2f83abb1005f57caa87b9d9edb",
     "grade": false,
     "grade_id": "cell-42c13529645b512f",
     "locked": true,
     "schema_version": 3,
     "solution": false,
     "task": false
    },
    "tags": []
   },
   "source": [
    "### 1) Fahrraddaten laden _(2 Punkte)_\n",
    "\n",
    "Zunächst sind die Fahrraddaten zu laden (`Radverkehr_TU.csv`). \n",
    "Verwenden Sie dafür das bereits oben importierte [pandas-Modul](https://pandas.pydata.org/docs/getting_started/overview.html). \n",
    "Ein Vorteil dabei ist, dass sich mit pandas über den [moduleigenen Datentyp DataFrame](https://pandas.pydata.org/docs/getting_started/intro_tutorials/01_table_oriented.html) unterschiedliche tabellarische Datenstrukturen (wie Sie sie in Datenbanken oder in Tabellenkalkulationsprogrammen finden) sehr komfortabel verarbeiten lassen.\n",
    "\n",
    "\n",
    "In der hier zu ladenden Datei befinden sich drei Spalten: eine namens \"Date\" für das Datum (+ Uhrzeit) und zwei weitere mit den Namen \"East\" bzw. \"West\" (letztere ist die Zählstation vorm Mathegebäude) mit einfachen Zahlenwerten.\n",
    "Dahinter verbirgt sich jeweils die konkrete Anzahl der zum jeweiligen Zeitpunkt seit dem vorhergehenden Zeitpunkt vorbeigefahrenen Räder.\n",
    "\n",
    "#### 1.1) Importieren der Daten\n",
    "\n",
    "[Laden](https://pandas.pydata.org/docs/reference/api/pandas.read_csv.html) Sie die Fahrraddaten gesammelt als [pandas-DataFrame](https://pandas.pydata.org/docs/reference/api/pandas.DataFrame.html) in die Variable `fahrraddaten`. Am Ende der Zelle wird sie aufgerufen und sollte dadurch bereits einen Ausschnitt des Inhalts zeigen. \n",
    "Auf einzelne Spalten können Sie übrigens auf mehrere Arten zugreifen: entweder wie auf ein Dictionary (`Variable[\"Spaltenname\"]`) oder wie auf eine Objekteigenschaft (`Variable.Spaltenname`).\n",
    "Während die zweite Variante mitunter schneller von der Hand geht, ist im allgemeinen die Dictionary-Variante empfehlenswert, da dann auch Leerzeichen im Spaltennamen oder Platzhalter-Variablen verwendet werden können.\n",
    "\n",
    "Erstellen Sie neben `fahrraddaten` noch [folgende Variablen](https://pandas.pydata.org/docs/reference/frame.html#computations-descriptive-stats):\n",
    "\n",
    " * `mittelwert_east` - die durchschnittlich pro Stunde vorbeifahrenden Fahrräder auf der \"East\"-Seite\n",
    " * `summe_west` - die insgesamt in den zwei Jahren auf der \"West\"-Seite vorbeigefahrenen Fahrräder\n",
    " "
   ]
  },
  {
   "cell_type": "code",
   "execution_count": null,
   "id": "5cccb6ee-3297-450e-8051-a1e4f434bbbd",
   "metadata": {
    "deletable": false,
    "nbgrader": {
     "cell_type": "code",
     "checksum": "a5011585e19cce5d541d0b3be4f360cf",
     "grade": false,
     "grade_id": "cell-854b73e16ea3e846",
     "locked": false,
     "schema_version": 3,
     "solution": true,
     "task": false
    },
    "tags": []
   },
   "outputs": [],
   "source": [
    "# Hier eigenen Code schreiben ...\n",
    "\n",
    "\n",
    "fahrraddaten"
   ]
  },
  {
   "cell_type": "code",
   "execution_count": null,
   "id": "63eefbc1-a1e9-4e43-9af3-24b4527aafa0",
   "metadata": {
    "deletable": false,
    "editable": false,
    "nbgrader": {
     "cell_type": "code",
     "checksum": "71b79073b489deb85d06058d1ba66760",
     "grade": true,
     "grade_id": "cell-6150da1d64c2df5e",
     "locked": true,
     "points": 1,
     "schema_version": 3,
     "solution": false,
     "task": false
    },
    "tags": []
   },
   "outputs": [],
   "source": [
    "# Hier ist ein Plausibilitätstest:\n",
    "assert int(summe_west/mittelwert_east/fahrraddaten.shape[0]) == 1"
   ]
  },
  {
   "cell_type": "markdown",
   "id": "51262109-d582-40a2-a2ae-dd183a930079",
   "metadata": {
    "deletable": false,
    "editable": false,
    "nbgrader": {
     "cell_type": "markdown",
     "checksum": "68cb65aca3949a3da2b6fe9796cde504",
     "grade": false,
     "grade_id": "cell-de83b21080464d70",
     "locked": true,
     "schema_version": 3,
     "solution": false,
     "task": false
    },
    "tags": []
   },
   "source": [
    "Die pandas-Bibliothek erlaubt einfache und intuitive Verarbeitung der Daten, ähnlich, wie Sie das z.B. schon von NumPy-Arrays kennen.\n",
    "Mit dem folgenden Befehl wird eine neue Spalte erzeugt, die die Differenz der Stundenwerte zwischen West und East enthält:"
   ]
  },
  {
   "cell_type": "code",
   "execution_count": null,
   "id": "14a3b737-de50-4460-85d7-da91b90fc8c6",
   "metadata": {
    "deletable": false,
    "editable": false,
    "nbgrader": {
     "cell_type": "code",
     "checksum": "643924db781d7ae342315419b7c8cf70",
     "grade": false,
     "grade_id": "cell-0d92dd0ed34d995e",
     "locked": true,
     "schema_version": 3,
     "solution": false,
     "task": false
    },
    "tags": []
   },
   "outputs": [],
   "source": [
    "fahrraddaten[\"Differenz\"] = fahrraddaten[\"West\"]-fahrraddaten[\"East\"]\n",
    "fahrraddaten"
   ]
  },
  {
   "cell_type": "markdown",
   "id": "4cfd3b5a-1936-4b45-93db-78221896f94d",
   "metadata": {
    "deletable": false,
    "editable": false,
    "nbgrader": {
     "cell_type": "markdown",
     "checksum": "fa56f5011a3758c2141819eb48dd8877",
     "grade": false,
     "grade_id": "cell-17c6ea9d186cc6b8",
     "locked": true,
     "schema_version": 3,
     "solution": false,
     "task": false
    },
    "tags": []
   },
   "source": [
    "#### 1.2) Daten visualisieren\n",
    "\n",
    "  * Erstellen Sie eine neue Spalte \"Datum\" im DataFrame `fahrraddaten`, die das Datum im [datetime](https://pandas.pydata.org/docs/reference/api/pandas.to_datetime.html)-Format enthält, sodass es sich als Zahlenwert interpretieren lässt. \n",
    "  * Plotten Sie die stündlich gemessene Anzahl der Fahrräder für beide Richtungen über der Zeit. Erstellen Sie zwei untereinander angeordnete Subplots:\n",
    "      1. Zeitverlauf für den gesamten Zwei-Jahres-Zeitraum\n",
    "      2. Ausschnitt des Zeitverlaufs von 2 Wochen vor der Stundenmaximalzahl in Ostrichtung bis 2 Wochen danach\n",
    "  * In jedem Subplot sollen beide Richtungen visualisiert werden. Nutzen Sie eine Legende, um die Kurven zu kennzeichnen\n",
    "  * Verwenden Sie sinnvolle Achsenbeschriftungen.\n",
    "  * Geben Sie den Zeitabschnitt (Datum und Stunde), in dem [die meisten](https://numpy.org/doc/stable/reference/generated/numpy.argmax.html) Fahrräder in Ostrichtung gemessen wurden, als gut zuordenbare [Annotation](https://matplotlib.org/stable/api/_as_gen/matplotlib.pyplot.annotate.html) innerhalb des 2. Diagramms aus. [Formatieren](https://pandas.pydata.org/docs/reference/api/pandas.Timestamp.strftime.html) Sie die Ausgabe in dieser Art und Weise: \n",
    "      * `In der 18. Stunde des 29.01.2022 fuhren 27 Fahrrräder in Ostrichtung.`\n"
   ]
  },
  {
   "cell_type": "code",
   "execution_count": null,
   "id": "03a26a94-a409-4195-a926-60d2ea1c6177",
   "metadata": {
    "deletable": false,
    "nbgrader": {
     "cell_type": "code",
     "checksum": "c94f03dd0ec2b5cf3973dfb9f88062de",
     "grade": false,
     "grade_id": "cell-00acec359e1c93db",
     "locked": false,
     "schema_version": 3,
     "solution": true,
     "task": false
    },
    "tags": []
   },
   "outputs": [],
   "source": [
    "plt.figure(1,(20,14))\n",
    "plt.subplot(211)\n",
    "\n",
    "# Hier eigenen Code schreiben ...\n",
    "\n",
    "\n",
    "\n",
    "plt.show()"
   ]
  },
  {
   "cell_type": "code",
   "execution_count": null,
   "id": "277e7420-8860-4a8c-ba74-92ea3b151308",
   "metadata": {
    "deletable": false,
    "editable": false,
    "nbgrader": {
     "cell_type": "code",
     "checksum": "5d080796fb12c9702d582483ebb622be",
     "grade": true,
     "grade_id": "cell-e2425aa16494ba82",
     "locked": true,
     "points": 1,
     "schema_version": 3,
     "solution": false,
     "task": false
    },
    "tags": []
   },
   "outputs": [],
   "source": [
    "# Hier ist ein Plausibilitätstest:\n",
    "assert \"Datum\" in fahrraddaten.columns"
   ]
  },
  {
   "cell_type": "markdown",
   "id": "16fa1b89-2f18-4f71-af53-ddfdb63b381e",
   "metadata": {
    "deletable": false,
    "editable": false,
    "nbgrader": {
     "cell_type": "markdown",
     "checksum": "1d68d404f426c68f476b2d790be87359",
     "grade": false,
     "grade_id": "cell-0c615bb8dbfaffe3",
     "locked": true,
     "schema_version": 3,
     "solution": false,
     "task": false
    },
    "tags": []
   },
   "source": [
    "### 2) Durchschnittlicher Radverkehr _(2 Punkte)_\n",
    "\n",
    "Um einen Überblick über das durchschnittliche Tagesgeschehen zu erhalten, werten Sie für beide Fahrtrichtungen die über alle Tage gemittelte Anzahl an Fahrrädern für jede Stunde aus.\n",
    "Erstellen Sie folgende Abbildung:\n",
    " - Plotten Sie einen repräsentativen Tagesverlauf für beide Richtungen in ein Diagramm.\n",
    " - Hierfür empfiehlt es sich, die Datensätze für die Auswertung [geeignet](https://pandas.pydata.org/docs/reference/api/pandas.Series.dt.time.html) zu [gruppieren](https://pandas.pydata.org/docs/reference/api/pandas.DataFrame.groupby.html).\n",
    " - Plotten Sie den 2-Jahres-Mittelwert für jede Stunde mit der jeweils zugehörigen Standardabweichung als [Fehlerbalken ](https://matplotlib.org/stable/api/_as_gen/matplotlib.pyplot.errorbar.html).\n",
    " - Achten Sie für eine besseres Diagrammverständnis darauf, dass sich die Fehlerbalken für Ost und West nicht überdecken, indem Sie die Kurven mit einem kleinen Offset in x-Richtung plotten.\n",
    " - Achten Sie auf korrekte Achsenbeschriftung und eine Legende."
   ]
  },
  {
   "cell_type": "code",
   "execution_count": null,
   "id": "9ca3f829-3696-4ce5-a5d6-5d96c7c426a2",
   "metadata": {
    "deletable": false,
    "nbgrader": {
     "cell_type": "code",
     "checksum": "3fc51bcc5efb387b76e7fc779db252db",
     "grade": true,
     "grade_id": "cell-0da8351315eb1e87",
     "locked": false,
     "points": 2,
     "schema_version": 3,
     "solution": true,
     "task": false
    },
    "tags": []
   },
   "outputs": [],
   "source": [
    "# Hier eigenen Code schreiben ...\n",
    "\n"
   ]
  },
  {
   "cell_type": "markdown",
   "id": "756d72e7-072c-4f1e-8dd3-64c3729f373f",
   "metadata": {
    "deletable": false,
    "editable": false,
    "nbgrader": {
     "cell_type": "markdown",
     "checksum": "587f88d2ced17e1ef0fa29f2ed921c76",
     "grade": false,
     "grade_id": "cell-18945c4dd96dfea5",
     "locked": true,
     "schema_version": 3,
     "solution": false,
     "task": false
    },
    "tags": []
   },
   "source": [
    "### 3) Wetterdaten _(2 Punkte)_\n",
    "\n",
    "Der Deutsche Wetterdienst stellt vielfältige [Wetteraufzeichnungen als Datensätze](https://cdc.dwd.de/portal/202209231028/view1) zur Verfügung. \n",
    "Im Folgenden werden einige Daten der Wetterstation der FU in Berlin Dahlem ausgewertet.\n",
    "\n",
    "Laden Sie die Wetterdaten aus der Datei `wetter_berlin_dahlem.csv` in die Variable `wetterdaten`. Auch diese sind wieder stundenweise aufgezeichnet. Wandeln Sie das Messdatum in dasselbe Format wie das der Raddaten um und speichern es in einer neuen Spalte \"Datum\". \n",
    "Beachten Sie dabei, dass der Zeitstempel hier anders als oben aussieht (4 Stellen fürs Jahr, dann je 2 für Monat, Tag und Stunde, alles direkt hintereinander).\n",
    "\n",
    "Plotten Sie den Temperaturverlauf (Spaltenbezeichnung `TT_TU` für die gesamte verfügbare Zeit. Bereiten Sie dafür die Daten etwas auf:\n",
    "  * _Ersetzen_ Sie alle unrealistischen Temperaturen (z.B. kleiner als -300) in `wetterdaten` mit [NaN](https://numpy.org/doc/stable/reference/constants.html#numpy.nan). Verwenden Sie hierfür [sinnvolle Indizierung](https://pandas.pydata.org/docs/reference/api/pandas.DataFrame.loc.html), um direkt auf die Einträge zugreifen zu können.\n",
    "  * [Sortieren](https://pandas.pydata.org/docs/reference/api/pandas.DataFrame.sort_values.html) Sie die Einträge nach aufsteigendem Datum.\n",
    "  * Hinterlegen Sie ein Gitter und achten Sie auf korrekte Achsenbeschriftungen.\n"
   ]
  },
  {
   "cell_type": "code",
   "execution_count": null,
   "id": "c096b046-e6a5-4f61-b09d-235e2df07001",
   "metadata": {
    "deletable": false,
    "nbgrader": {
     "cell_type": "code",
     "checksum": "83e2dd5e15d429d88e07a0cab6185fe9",
     "grade": false,
     "grade_id": "cell-eb9a2b53b284dcda",
     "locked": false,
     "schema_version": 3,
     "solution": true,
     "task": false
    },
    "tags": []
   },
   "outputs": [],
   "source": [
    "plt.figure(2,(20,5))\n",
    "\n",
    "# Hier eigenen Code schreiben ...\n",
    "\n",
    "plt.show()\n"
   ]
  },
  {
   "cell_type": "code",
   "execution_count": null,
   "id": "ff1e6ab9-4d4d-48a5-921b-5631d5da3f9f",
   "metadata": {
    "deletable": false,
    "editable": false,
    "nbgrader": {
     "cell_type": "code",
     "checksum": "7265cd7193cd2c55369dc7954528e347",
     "grade": true,
     "grade_id": "cell-f939251b8d966cc9",
     "locked": true,
     "points": 2,
     "schema_version": 3,
     "solution": false,
     "task": false
    },
    "tags": []
   },
   "outputs": [],
   "source": [
    "# Hier ist ein Plausibilitätstest:\n",
    "assert wetterdaten.loc[(wetterdaten['Datum'].dt.month<10) & (wetterdaten['Datum'].dt.month>3), \"TT_TU\"].median() > wetterdaten.loc[(wetterdaten['Datum'].dt.month>=10) | (wetterdaten['Datum'].dt.month<=3), \"TT_TU\"].median()"
   ]
  },
  {
   "cell_type": "markdown",
   "id": "b6ac76ec-f5ea-494c-9bab-1ec99f42f685",
   "metadata": {
    "deletable": false,
    "editable": false,
    "nbgrader": {
     "cell_type": "markdown",
     "checksum": "4cd1afe8a9aa9fcdad5f694dfa805f93",
     "grade": false,
     "grade_id": "cell-9c63f36534886c4a",
     "locked": true,
     "schema_version": 3,
     "solution": false,
     "task": false
    },
    "tags": []
   },
   "source": [
    "### 4) Daten kombinieren _(2 Punkte)_\n",
    "\n",
    "Um mehrere DataFrames zu kombinieren, stehen [mehrere Methoden](https://pandas.pydata.org/docs/user_guide/merging.html) zur Verfügung. \n",
    "Im vorliegenden Fall bietet sich [_merge()_](https://pandas.pydata.org/docs/reference/api/pandas.merge.html) an. \n",
    "\n",
    "Kombinieren Sie `fahrraddaten` und `wetterdaten` mithilfe der in beiden Tabellen enthaltenen \"Datum\"-Spalte, sodass jeder Zeile eine eindeutige Datumsangabe zugeordnet werden kann. Das sich ergebende DataFrame `kombidaten` soll nur solche Daten enthalten, für die bei _beiden_ Ausgangs-Tabellen auch Datumsangaben vorhanden sind. \n",
    "\n",
    "#### 4.1) Visualisierung Datenkombination\n",
    "\n",
    "  * Erstellen Sie `kombidaten` eine weitere Spalte mit dem Namen \"Gesamt\", die jeweils die Summe der Vorbeifahrten in beiden Richtungen enthält.\n",
    "  * Plotten Sie die Gesamtanzahl der Fahrräder über der Temperatur für alle Datenpunkte. \n",
    "  * Nutzen Sie als Plot-Marker der Uhrzeit entsprechend [eingefärbte Punkte](https://matplotlib.org/stable/api/_as_gen/matplotlib.pyplot.scatter.html). \n",
    "  * Achten Sie auf Beschriftung der Achsen sowie auf eine Farbskala für die Uhrzeit.\n",
    "  "
   ]
  },
  {
   "cell_type": "code",
   "execution_count": null,
   "id": "a3b20afa-b3a4-4394-a61f-3ceba88d3a78",
   "metadata": {
    "deletable": false,
    "nbgrader": {
     "cell_type": "code",
     "checksum": "047ae7265f9673e5b9b0604e0877b234",
     "grade": false,
     "grade_id": "cell-da045220002cb0da",
     "locked": false,
     "schema_version": 3,
     "solution": true,
     "task": false
    },
    "tags": []
   },
   "outputs": [],
   "source": [
    "plt.figure(3,(20,7))\n",
    "\n",
    "# Hier eigenen Code schreiben ...\n",
    "\n",
    "\n",
    "plt.show()"
   ]
  },
  {
   "cell_type": "code",
   "execution_count": null,
   "id": "b7fd6ba6-84dd-4fd3-a779-abc92b395878",
   "metadata": {
    "deletable": false,
    "editable": false,
    "nbgrader": {
     "cell_type": "code",
     "checksum": "4b5565ece0705a12c0eccee92153fd63",
     "grade": true,
     "grade_id": "cell-2f5574c6cfe0f137",
     "locked": true,
     "points": 1,
     "schema_version": 3,
     "solution": false,
     "task": false
    },
    "tags": []
   },
   "outputs": [],
   "source": [
    "# Hier ist ein Plausibilitätstest:\n",
    "assert kombidaten.shape[0] <= fahrraddaten.shape[0] < wetterdaten.shape[0]"
   ]
  },
  {
   "cell_type": "markdown",
   "id": "91d41825-7b39-432f-9928-d6de09721d60",
   "metadata": {
    "deletable": false,
    "editable": false,
    "nbgrader": {
     "cell_type": "markdown",
     "checksum": "cb7863f04c11aedd54a8379c810e16f4",
     "grade": false,
     "grade_id": "cell-c732d9de3983539a",
     "locked": true,
     "schema_version": 3,
     "solution": false,
     "task": false
    },
    "tags": []
   },
   "source": [
    "#### 4.2) Visualisierung verarbeitete Datenkombination\n",
    "\n",
    " * Fügen Sie `kombidaten` eine Spalte \"Relativanzahl\" zu, in der für jeden Datensatz das Verhältnis der vorliegenden \"Gesamt\"-Zahl zur über alle Datensätze gemittelten Gesamtzahl _für diese Uhrzeit_ eingetragen wird. _(Hinweis: Auch hier kann es sinnvoll sein, Datensätze geeignet gruppiert zu behandeln und im Nachgang wieder DataFrames zu kombinieren.)_\n",
    " * Erstellen Sie nun ein DataFrame `teilkombi`, das diejenigen der Datensätze enthält, die \n",
    "     1. [nicht am Wochenende](https://pandas.pydata.org/docs/reference/api/pandas.Series.dt.weekday.html) und \n",
    "     2. für die Zeiten zwischen (jeweils inklusive) 8 und 18 Uhr vorliegen und\n",
    "     3. bei denen die relative Luftfeuchte (\"RF_TU\") unter 50 % liegt.\n",
    " * Plotten Sie die Relativzahl des gefilterten DataFrames `teilkombi` über der Temperatur mit Punkten beliebiger Einfärbung."
   ]
  },
  {
   "cell_type": "code",
   "execution_count": null,
   "id": "5ede2afa-a45d-4004-8ed2-8de92a5e821e",
   "metadata": {
    "deletable": false,
    "nbgrader": {
     "cell_type": "code",
     "checksum": "b98c56d8ba072d6f4aa942ee91703f41",
     "grade": false,
     "grade_id": "cell-5f938cdeb77f43d2",
     "locked": false,
     "schema_version": 3,
     "solution": true,
     "task": false
    },
    "tags": []
   },
   "outputs": [],
   "source": [
    "plt.figure(4,(10,5))\n",
    "# Hier eigenen Code schreiben ...\n",
    "\n",
    "\n",
    "plt.show()\n"
   ]
  },
  {
   "cell_type": "code",
   "execution_count": null,
   "id": "ba8880f0-09be-4f27-b004-965dba79d9b2",
   "metadata": {
    "deletable": false,
    "editable": false,
    "nbgrader": {
     "cell_type": "code",
     "checksum": "0d98f3578f1920ac2070bd40da6a5d19",
     "grade": true,
     "grade_id": "cell-18abb9752dfbbaf3",
     "locked": true,
     "points": 1,
     "schema_version": 3,
     "solution": false,
     "task": false
    },
    "tags": []
   },
   "outputs": [],
   "source": [
    "# Hier sind einige Plausibilitätstest:\n",
    "assert 10*teilkombi.shape[0] < kombidaten.shape[0]\n",
    "assert teilkombi.shape[1] == kombidaten.shape[1]"
   ]
  },
  {
   "cell_type": "markdown",
   "id": "883c519e-c3d3-4ed6-abe8-a15477c8cb9d",
   "metadata": {
    "deletable": false,
    "editable": false,
    "nbgrader": {
     "cell_type": "markdown",
     "checksum": "3508af028dd8f7cc0b4f08eec2d4da1a",
     "grade": false,
     "grade_id": "cell-9fd63b947efaffd5",
     "locked": true,
     "schema_version": 3,
     "solution": false,
     "task": false
    },
    "tags": []
   },
   "source": [
    "### 5) Modellbildung _(2 Punkte)_\n",
    "\n",
    "Aus den umfangreichenden Daten könnte z.B. mithilfe einer [multiplen Regressionsanalyse](https://de.wikipedia.org/wiki/Multiple_lineare_Regression) basierend auf Uhrzeit, Wochentag, Woche im Jahr, Temperatur, Niederschlag etc. ein Vorhersagemodell für die Anzahl der zu erwartenden Fahrräder erstellt werden.\n",
    "\n",
    "Trotz der zu erwartenden Ungenauigkeit des Modells soll sich hier lediglich auf die Abhängigkeit von einer Variable, nämlich der Temperatur, beschränkt werden. \n",
    "Um die Streuung der Eingangsdaten etwas geringer zu halten, sollen jedoch im weiteren Verlauf nur die oben in `teilkombi` vorgefilterten Daten verwendet werden.\n",
    "Daraus kann man erahnen, dass es eine Temperatur gibt, bei der die meisten Leute Lust haben, das Rad zu nehmen, und bei jeweils wärmeren oder kälteren Temperaturen werden es weniger. Außerdem haben wir die Abhängigkeit von der Uhrzeit zumindest ein wenig reduziert, indem wir nur Relativanzahlen betrachten.\n",
    "\n",
    "Es wird vereinfachend angenommen, dass die Verteilung in etwa einer [Gauß-Funktion](https://en.wikipedia.org/wiki/Gaussian_function) entspricht:\n",
    "$$\n",
    "    N_\\mathrm{Radlust}(\\vartheta) = a \\cdot \\exp\\left( -\\frac{(\\vartheta - b)^2}{2\\,c^2} \\right)~,\n",
    "$$\n",
    "mit der Uhrzeit-normierten Relativzahl der Fahrräder $N_\\mathrm{Radlust}$ und der Lufttemperatur $\\vartheta$. \n",
    "Die restlichen Parameter $a$, $b$ und $c$ sind nicht bekannt und sollen bestimmt werden.\n",
    "Verwenden Sie hierfür die Funktion [_curve_fit()_ aus dem Paket _scipy.optimize_](https://docs.scipy.org/doc/scipy/reference/generated/scipy.optimize.curve_fit.html), die Sie noch importieren müssen.\n",
    "Sie übergeben dieser als Parameter eine Implementierung der obigen Funktion und erhalten als Rückgabe unter anderem die angenäherten optimal passenden Parameter.   \n",
    " * Nennen Sie die gefitteten Parameter `a_fit`, `b_fit` und `c_fit`.\n",
    " * Verwenden Sie als Startwert für die Optimierung (\"initial guess\") für alle 3 Parameter den Wert 1.0\n",
    " * Erstellen Sie 2 nebeneinander liegende Abbildungen:\n",
    "     * Links: Die Eingangsdaten als Punktwolke (Anzahl über Temperatur), davor die errechnete Gauß-Kurve im Bereich von -15 °C bis +50°C, aufgelöst mit mindestens 100 Stützstellen\n",
    "     * Rechts: Der Betrag der relativen Abweichung jedes vorliegenden Werts gegenüber der Vorhersage\n",
    " * Achten Sie auch hier auf Labels und Beschriftungen.\n",
    " * Bestimmen Sie die Temperatur, bei der die meisten Fahrräder zu erwarten sind und speichern Sie sie in der Variable `beste_temperatur`.\n",
    " "
   ]
  },
  {
   "cell_type": "code",
   "execution_count": null,
   "id": "6a2ac56e-02b6-4f9d-abd6-424a07793ff3",
   "metadata": {
    "deletable": false,
    "nbgrader": {
     "cell_type": "code",
     "checksum": "f062b1fb8ed0bada16c2c4441a7f389a",
     "grade": false,
     "grade_id": "cell-1fe52d9ef28e41e3",
     "locked": false,
     "schema_version": 3,
     "solution": true,
     "task": false
    },
    "tags": []
   },
   "outputs": [],
   "source": [
    "# Hier eigenen Code schreiben ...\n",
    "\n"
   ]
  },
  {
   "cell_type": "code",
   "execution_count": null,
   "id": "55c4e91b-a2f6-4b44-b61d-e81d7f6370e6",
   "metadata": {
    "deletable": false,
    "editable": false,
    "nbgrader": {
     "cell_type": "code",
     "checksum": "f607d66c9a0ad49e81af29ddcfeaae04",
     "grade": true,
     "grade_id": "cell-4f3af6e9d1af1d61",
     "locked": true,
     "points": 2,
     "schema_version": 3,
     "solution": false,
     "task": false
    },
    "tags": []
   },
   "outputs": [],
   "source": [
    "# Hier sind einige Plausibilitätstest:\n",
    "assert 0.9 < b_fit/c_fit/a_fit < 1.0 \n",
    "assert b_fit > c_fit > a_fit\n",
    "assert 10 < beste_temperatur < 40"
   ]
  }
 ],
 "metadata": {
  "kernelspec": {
   "display_name": "Python 3 (ipykernel)",
   "language": "python",
   "name": "python3"
  },
  "language_info": {
   "codemirror_mode": {
    "name": "ipython",
    "version": 3
   },
   "file_extension": ".py",
   "mimetype": "text/x-python",
   "name": "python",
   "nbconvert_exporter": "python",
   "pygments_lexer": "ipython3",
   "version": "3.12.4"
  }
 },
 "nbformat": 4,
 "nbformat_minor": 5
}
