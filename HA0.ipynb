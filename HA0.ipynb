{
 "cells": [
  {
   "cell_type": "markdown",
   "metadata": {},
   "source": [
    "# Hausaufgabe 0\n",
    "## Vorstellung der Gruppe\n",
    "<!-- Lizensiert unter (CC BY 4.0) Gert Herold -->\n",
    "\n",
    "Diese Hausaufgabe dient dem Kennenlernen der Gruppenmitglieder und der Programmierumgebung.\n",
    "Für alle zukünftigen Hausaufgaben (ab HA 1) buchen Sie bitte einen interaktiven Besprechungstermin mit einer Lehrperson.\n",
    "Die Abgabe *aller* Hausaufgaben geschieht in Form einer \\*.ipynb-Datei (wie dieser hier) über das ISIS-Portal.\n",
    "\n",
    "***\n",
    "Die Abgabefrist dieser HA ist **Mittwoch, der 23.10.2024**.\n",
    "***\n",
    "\n",
    "Falls Sie nicht rechtzeitig vor Abgabe Kontakt zu Ihrem zweiten Gruppenmitglied herstellen konnten, verwenden Sie für ein imaginäres Gruppenmitglied unten folgende Daten: \n",
    " - Name: Margaret Hamilton, Matrikelnr.: 170836, E-Mail: `margaret.hamilton.11@campus.tu-berlin.de`, Studiengang: Mathematik B.Sc.\n",
    "\n",
    "\n",
    "**1) Ergänzen Sie die Tabelle in der folgenden Markdown-Zelle mit Ihren Daten.** Ändern Sie außerdem den Namen dieser Datei, sodass er Ihre Gruppennummer enthält."
   ]
  },
  {
   "cell_type": "markdown",
   "metadata": {},
   "source": [
    "\n",
    "**Gruppe: ???**\n",
    "\n",
    "| Name           | Matrikelnr. | TUB E-Mail                    | Studiengang (+BSc/MSc?) |\n",
    "|----------------|-------------|-------------------------------|-------------------------|\n",
    "| Finn Glück     | 475149      | f.glueck@campus.tu-berlin.de  | WiIng BSc               |\n",
    "| Hannes Biegert | 460232      | h.biegert@campus.tu-berlin.de | WiIng BSc               |"
   ]
  },
  {
   "cell_type": "markdown",
   "metadata": {},
   "source": [
    "**2) Unter der Annahme, dass sich pro Semester durchschnittlich 2000 Studenten an der TU Berlin immatrikulieren, die eine neue (fortlaufende) Matrikelnummer zugewiesen bekommen: Wieviel Zeit $\\Delta t$ ist ungefähr zwischen der Einschreibung der beiden Teilnehmer Ihrer Gruppe vergangen?**\n",
    "Gehen Sie (ungeachtet der Realität) davon aus, dass sich die Einschreibungen gleichmäßig über ein Semester verteilen und nutzen Sie die folgende Zelle für die Berechnung."
   ]
  },
  {
   "cell_type": "code",
   "metadata": {
    "tags": [],
    "ExecuteTime": {
     "end_time": "2024-10-22T14:40:33.642327Z",
     "start_time": "2024-10-22T14:40:33.635179Z"
    }
   },
   "source": [
    "# Hier eigenen Code schreiben bzw. folgende Zeile verändern ...\n",
    "\n",
    "# Variablen \n",
    "mat_no1 = 475149\n",
    "mat_no2 = 460232\n",
    "students_per_sem = 2000\n",
    "\n",
    "# Berechnung von delta_t\n",
    "if mat_no2 > mat_no1:\n",
    "    delta_t = (mat_no2 - mat_no1) / students_per_sem \n",
    "else:\n",
    "    delta_t = (mat_no1 - mat_no2) / students_per_sem\n",
    "    \n",
    "# Ausgabe\n",
    "print(f\"Zwischen {mat_no1} und {mat_no2} liegen ca. {round(delta_t,0)} Semester bzw. ungefähr {round(delta_t*6)} Monate\")"
   ],
   "outputs": [
    {
     "name": "stdout",
     "output_type": "stream",
     "text": [
      "Zwischen 475149 und 460232 liegen ca. 7.0 Semester bzw. ungefähr 45 Monate\n"
     ]
    }
   ],
   "execution_count": 18
  },
  {
   "cell_type": "markdown",
   "metadata": {},
   "source": [
    "Die nachfolgende Zelle soll nicht verändert werden. Sie enthält einen Plausibilitätstest, der den geschriebenen Code überprüft. Solche Code-Zellen werden Sie in den HAs immer wieder mal finden; lassen Sie sich davon nicht abschrecken bzw. erst dann, wenn beim Ausführen der Zelle eine Fehlermeldung erscheint. Wird die Zelle *ohne* Fehlermeldung ausgeführt, bedeutet das im Umkehrschluss jedoch *nicht*, dass ihr Programmcode auf jeden Fall fehlerfrei ist -- es ist lediglich ein erster Indiz."
   ]
  },
  {
   "cell_type": "code",
   "metadata": {
    "deletable": false,
    "editable": false,
    "tags": [],
    "ExecuteTime": {
     "end_time": "2024-10-22T14:40:36.469257Z",
     "start_time": "2024-10-22T14:40:36.466072Z"
    }
   },
   "source": [
    "# Hier ist mal ein einfacher Test, ob überhaupt was programmiert wurde:\n",
    "assert delta_t is not None # <- das verursacht eine Fehlermeldung, wenn delta_t doch noch None ist"
   ],
   "outputs": [],
   "execution_count": 19
  },
  {
   "cell_type": "markdown",
   "metadata": {},
   "source": [
    "\n",
    "**3) Schreiben Sie einen kurzen Programmabschnitt, der eine Zeichenkette `zeichenkette` erzeugt, die so lang ist wie die Namen der Gruppenmitglieder (ohne Leerzeichen), aber als Zeichen anstelle der beiden Namen die letzten 2 Ziffern der Gruppennummer enthält.** Vermeiden Sie es, die Länge der Namen selbst auszuzählen oder die Ziffern der Gruppenzahl wiederholt einzutippen.\n",
    "\n",
    "Beispiel für eine Gruppe \"391\":\n",
    "```python\n",
    "name1 = \"AlanTuring\"\n",
    "name2 = \"MargaretHamilton\"\n",
    "```\n",
    "Gewünschtes Ergebnis:`'99999999991111111111111111'`\n"
   ]
  },
  {
   "cell_type": "code",
   "metadata": {
    "ExecuteTime": {
     "end_time": "2024-10-22T14:40:37.492925Z",
     "start_time": "2024-10-22T14:40:37.485346Z"
    }
   },
   "source": [
    "zeichenkette = 'xyz' # <- Den Inhalt dieser Variable sollten Sie im folgenden ersetzen / überschreiben.\n",
    "len?\n",
    "# Hier eigenen Code schreiben \n",
    "\n",
    "# Variablen\n",
    "group_no = \"299\"\n",
    "name1 = \"FinnGlück\"\n",
    "name2 = \"HannesBiegert\"\n",
    "\n",
    "# Gibt den mittleren Buchstaben aus dem String group_no zurück\n",
    "middle_digit = group_no[1]\n",
    "# Gibt den letzten Buchstaben aus dem String group_no zurück\n",
    "last_digit = group_no[-1]\n",
    "\n",
    "# Erzeugung der Zeichenkette\n",
    "zeichenkette = len(name1) * middle_digit + len(name2) * last_digit\n",
    "\n",
    "# Ausgabe\n",
    "print(zeichenkette)\n",
    "\n"
   ],
   "outputs": [
    {
     "name": "stdout",
     "output_type": "stream",
     "text": [
      "9999999999999999999999\n"
     ]
    }
   ],
   "execution_count": 20
  },
  {
   "cell_type": "code",
   "metadata": {
    "deletable": false,
    "editable": false,
    "tags": [],
    "ExecuteTime": {
     "end_time": "2024-10-22T14:40:38.204516Z",
     "start_time": "2024-10-22T14:40:38.200414Z"
    }
   },
   "source": [
    "# Hier ist ein Test, der überprüft, ob das Ergebnis so viele Zeichen hat wie beide Namen zusammen:\n",
    "assert len(zeichenkette) == len(name1) + len(name2)"
   ],
   "outputs": [],
   "execution_count": 21
  },
  {
   "metadata": {
    "ExecuteTime": {
     "end_time": "2024-10-22T14:40:38.616051Z",
     "start_time": "2024-10-22T14:40:38.613907Z"
    }
   },
   "cell_type": "code",
   "source": "",
   "outputs": [],
   "execution_count": 21
  },
  {
   "metadata": {},
   "cell_type": "code",
   "outputs": [],
   "execution_count": null,
   "source": ""
  }
 ],
 "metadata": {
  "kernelspec": {
   "display_name": "Python 3 (ipykernel)",
   "language": "python",
   "name": "python3"
  },
  "language_info": {
   "codemirror_mode": {
    "name": "ipython",
    "version": 3
   },
   "file_extension": ".py",
   "mimetype": "text/x-python",
   "name": "python",
   "nbconvert_exporter": "python",
   "pygments_lexer": "ipython3",
   "version": "3.10.9"
  }
 },
 "nbformat": 4,
 "nbformat_minor": 4
}
