{
 "cells": [
  {
   "cell_type": "markdown",
   "metadata": {},
   "source": [
    "# Hausaufgabe 2\n",
    "## Ablassung eines Stausees\n",
    "<!-- Lizensiert unter (CC BY 4.0) Gert Herold, 2024 -->\n",
    "\n",
    "Wegen Reparaturarbeiten an der Staumauer einer [Talsperre](https://de.wikipedia.org/wiki/Talsperre) soll das Wasser abgelassen werden. Der See habe ein Fassungsvermögen von $215 \\cdot 10^6\\,\\text{m}^3$. Die Oberfläche des Stausees erstrecke sich über $10\\,\\text{km}^2$. Der Wasserauslass auf Grundhöhe habe einen Querschnitt von $2\\,\\text{m}^2$. Der Fluss selbst werde so umgeleitet, dass kein Wasser in den See nachfließen kann."
   ]
  },
  {
   "cell_type": "markdown",
   "metadata": {},
   "source": [
    "### 1) Anfangsbedingungen\n",
    "\n",
    "**1.1) Es werde angenommen, die Form des Sees lasse sich mit einem umgedrehten [Kegel](https://de.wikipedia.org/wiki/Kegel_(Geometrie)) annähern. Wie tief ist dann der See?**\n",
    "\n",
    "Speichern Sie das Ergebnis (in Metern) in der Variablen `h0` und geben Sie sie aus."
   ]
  },
  {
   "cell_type": "code",
   "metadata": {
    "ExecuteTime": {
     "end_time": "2024-11-11T13:00:11.843514Z",
     "start_time": "2024-11-11T13:00:11.838034Z"
    }
   },
   "source": [
    "import math\n",
    "h0 = None\n",
    "\n",
    "# Constants for refactoring \n",
    "MILLION = 10**6\n",
    "M2_PER_KM2 = MILLION\n",
    "\n",
    "# Input Values \n",
    "volume = 215 * MILLION  # m³\n",
    "surface = 10 * M2_PER_KM2  # m² (von km²)\n",
    "outlet = 2  # m²\n",
    "\n",
    "# Radius \n",
    "r_surface = math.sqrt(surface / math.pi)\n",
    "r_outlet = math.sqrt(outlet / math.pi)\n",
    "\n",
    "# Höhe berechnen\n",
    "\n",
    "# Hannes Formel \n",
    "h0 = (3 * volume) / (math.pi * (r_outlet**2 + r_outlet * r_surface + r_surface**2))\n",
    "\n",
    "print(f\"Radius der Seeoberfläche: {r_surface:.2f} m\")\n",
    "print(f\"Höhe: {h0:.2f} m\")"
   ],
   "outputs": [
    {
     "name": "stdout",
     "output_type": "stream",
     "text": [
      "Radius der Seeoberfläche: 1784.12 m\n",
      "Höhe: 64.47 m\n"
     ]
    }
   ],
   "execution_count": 35
  },
  {
   "cell_type": "code",
   "metadata": {
    "deletable": false,
    "editable": false,
    "tags": [],
    "ExecuteTime": {
     "end_time": "2024-11-11T13:00:11.859343Z",
     "start_time": "2024-11-11T13:00:11.856696Z"
    }
   },
   "source": [
    "# Hier ist ein Plausibilitäts-Test:\n",
    "assert 60 < h0 < 80"
   ],
   "outputs": [],
   "execution_count": 36
  },
  {
   "cell_type": "markdown",
   "metadata": {},
   "source": [
    "Vereinfachend werde angenommen, dass die sich ausbildende Strömung sich mithilfe der [Bernoulli-Gleichung](https://de.wikipedia.org/wiki/Bernoulli-Gleichung) beschreiben lasse:\n",
    "\n",
    "$$\n",
    "\\frac{u^2}{2}+\\frac{p}{\\rho}+g \\, z = \\text{const}\n",
    "$$\n",
    "\n",
    "Dabei beschreibt $u$ die Strömungsgeschwindigkeit des Fluids an einer beliebigen betrachteten Stelle, $p$ den hydrodynamischen Druck, $\\rho$ die Dichte und $z$ die Höhe. $g=9{,}81\\frac{\\text{m}}{\\text{s}^2}$ ist die Erdbeschleunigung. Werden nur die Seeoberfläche und der Ausfluss betrachtet, so kann der Druck $p$ ebenfalls als konstant angenommen werden, da er dem Umgebungsdruck entspricht. Ebenso wird die Dichte als konstant angenommen, und die obige Gleichung vereinfacht sich zu \n",
    "\n",
    "$$\n",
    "\\frac{u^2}{2}+g \\, z = \\text{const}\n",
    "$$\n",
    "\n",
    "bzw. für oben und unten:\n",
    "\n",
    "$$\n",
    "\\frac{u_\\text{oben}^2}{2}+g\\,z_\\text{oben} = \\frac{u_\\text{unten}^2}{2}+g\\,z_\\text{unten}\n",
    "$$"
   ]
  },
  {
   "cell_type": "markdown",
   "metadata": {},
   "source": [
    "**1.2) Berechnen Sie die sich anfangs ausbildende Strömungsgeschwindigkeit am Ausfluss $u_\\text{unten,0}$ (`u_unten0`) in m/s sowie den [Volumenstrom](https://www.leifiphysik.de/mechanik/stroemungslehre/grundwissen/kontinuitaetsgleichungen) $\\dot{V_0}$ (`Vdot0`) in m³/s unter der Annahme, dass die Bewegung der Seeoberfläche vernachlässigbar ist.**"
   ]
  },
  {
   "cell_type": "code",
   "metadata": {
    "ExecuteTime": {
     "end_time": "2024-11-11T13:00:11.883439Z",
     "start_time": "2024-11-11T13:00:11.878788Z"
    }
   },
   "source": [
    "# Geschwindigkeit und Volumenstrom am Ausfluss\n",
    "u_unten0 = None\n",
    "Vdot0 = None\n",
    "\n",
    "# Bernoulli-Gleichung mit u_oben² = 0:\n",
    "# g * z_oben = u_unten²/2 + g * z_unten \n",
    "\n",
    "# Konstanten\n",
    "g = 9.81  # Erdbeschleunigung in m/s²\n",
    "z_unten = 0  # Auslass als Referenzpunkt\n",
    "\n",
    "# Geschwindigkeit am Auslass nach Umformung:\n",
    "# u_unten = √(2g * (z_oben - z_unten))\n",
    "u_unten0 = math.sqrt(2 * g * h0)\n",
    "\n",
    "# Volumenstrom = Querschnittsfläche * Geschwindigkeit\n",
    "Vdot0 = outlet * u_unten0  # in m³/s\n",
    "\n",
    "print(f\"Geschwindigkeit am Auslass: {u_unten0:.2f} m/s\")\n",
    "print(f\"Volumenstrom: {Vdot0:.2f} m³/s\")\n"
   ],
   "outputs": [
    {
     "name": "stdout",
     "output_type": "stream",
     "text": [
      "Geschwindigkeit am Auslass: 35.57 m/s\n",
      "Volumenstrom: 71.13 m³/s\n"
     ]
    }
   ],
   "execution_count": 37
  },
  {
   "cell_type": "code",
   "metadata": {
    "deletable": false,
    "editable": false,
    "tags": [],
    "ExecuteTime": {
     "end_time": "2024-11-11T13:00:11.887895Z",
     "start_time": "2024-11-11T13:00:11.885063Z"
    }
   },
   "source": [
    "# Hier sind einige Plausibilitäts-Tests:\n",
    "assert u_unten0 > 30\n",
    "assert Vdot0 < 80"
   ],
   "outputs": [],
   "execution_count": 38
  },
  {
   "cell_type": "markdown",
   "metadata": {},
   "source": [
    "Tipp: Um die Kreiszahl $\\pi$ unter Python verwenden zu können, muss man sie entweder selbst definieren oder z.B. aus dem [NumPy-Modul](https://numpy.org/) importieren. Für ein Beispiel den folgenden Code-Abschnitt öffnen."
   ]
  },
  {
   "cell_type": "code",
   "metadata": {
    "jupyter": {
     "source_hidden": true
    },
    "tags": [],
    "ExecuteTime": {
     "end_time": "2024-11-11T13:00:11.893561Z",
     "start_time": "2024-11-11T13:00:11.890900Z"
    }
   },
   "source": [
    "# Importiere pi aus numpy\n",
    "from numpy import pi\n",
    "\n",
    "# Berechne den \"Radius\" der Seeoberfläche\n",
    "r0 = (surface/pi)**0.5\n",
    "print(f'Radius: {r0/1000:.2f} km')"
   ],
   "outputs": [
    {
     "name": "stdout",
     "output_type": "stream",
     "text": [
      "Radius: 1.78 km\n"
     ]
    }
   ],
   "execution_count": 39
  },
  {
   "cell_type": "markdown",
   "metadata": {},
   "source": [
    "### 2) Leerung des Sees\n",
    "\n",
    "**2.1) Schreiben Sie eine Funktion, die die Tiefe des \"Kegel\"-Sees (in Metern) allgemein abhängig von der enthaltenen Wassermenge bestimmt.**\n",
    "\n",
    "Beachten Sie, dass sich die Form des Sees [nicht verändert](https://de.wikipedia.org/wiki/Strahlensatz) und somit der oben gegebene Wert für die Oberfläche nur bei vollem See gilt."
   ]
  },
  {
   "cell_type": "code",
   "metadata": {
    "ExecuteTime": {
     "end_time": "2024-11-11T13:00:11.902949Z",
     "start_time": "2024-11-11T13:00:11.899310Z"
    }
   },
   "source": [
    "# Hannes Code verwenden\n",
    "\n",
    "def tiefe(V):\n",
    "    \"\"\"\n",
    "    Berechnet die aktuelle Wassertiefe des Stausees basierend auf dem vorhandenen Wasservolumen.\n",
    "    \n",
    "    Die Berechnung erfolgt durch Modellierung des Stausees als Differenz zweier Kegel:\n",
    "    1. Ein großer Kegel mit der Grundfläche des Auslasses (r_outlet)\n",
    "    2. Minus einem kleinen Kegel unterhalb des Auslasses\n",
    "    \n",
    "    Args:\n",
    "        V (float): Aktuelles Wasservolumen im Stausee in m³\n",
    "        \n",
    "    Returns:\n",
    "        float: Aktuelle Wassertiefe in m\n",
    "    \"\"\"\n",
    "    # Geometrische Berechnungen für den Gesamtkegel\n",
    "    \n",
    "    # Aus dem Strahlensatz folgt für die Gesamthöhe:\n",
    "    # Originale Formel:\n",
    "    h_ges = (h0 * r_surface) / (r_surface - r_outlet)\n",
    "    \n",
    "    # Höhe des abgeschnittenen Kegels unterhalb des Auslasses\n",
    "    h_kegelstumpf = h_ges - h0\n",
    "    \n",
    "    # Berechnung der aktuellen Höhe mittels Volumenvergleich\n",
    "    h = h_ges * (V/volume)**(1/3)\n",
    "    \n",
    "    # Tatsächliche Wassertiefe = Aktuelle Höhe - Höhe des abgeschnittenen Kegels\n",
    "    if h <= h_kegelstumpf:\n",
    "        return 0\n",
    "    else:\n",
    "        return h - h_kegelstumpf\n",
    "\n",
    "\n",
    "print(tiefe(volume))"
   ],
   "outputs": [
    {
     "name": "stdout",
     "output_type": "stream",
     "text": [
      "64.47115472885672\n"
     ]
    }
   ],
   "execution_count": 40
  },
  {
   "cell_type": "code",
   "metadata": {
    "deletable": false,
    "editable": false,
    "tags": [],
    "ExecuteTime": {
     "end_time": "2024-11-11T13:00:11.930881Z",
     "start_time": "2024-11-11T13:00:11.927691Z"
    }
   },
   "source": [
    "# Hier sind einige Plausibilitäts-Tests:\n",
    "assert abs(h0-tiefe(215e6)) < 1e-5\n",
    "assert abs(50-tiefe(1e8)) < 0.1"
   ],
   "outputs": [],
   "execution_count": 41
  },
  {
   "cell_type": "markdown",
   "metadata": {},
   "source": [
    "**2.2) Schreiben Sie eine Funktion, die den diskreten Zeitverlauf der Wassertiefe $h(t)$ bis zur Leerung des Sees zurückgibt.**\n",
    "\n",
    "  * Die Funktion soll ein Startvolumen $V_0$ und eine Zeitschrittweite $\\Delta t$ übergeben bekommen.\n",
    "  * Verwenden Sie in den Berechnungen standardmäßig [SI-Einheiten](https://de.wikipedia.org/wiki/Internationales_Einheitensystem).\n",
    "  * Beachten Sie, dass sich auch der Volumenstrom zeitlich ändert.\n",
    "  * Die Funktion soll alle berechneten Zeiten und die jeweils zugehörigen Tiefen in zwei getrennten Listen zurückgeben.\n",
    "  \n",
    "_Hinweise:_\n",
    "  * Die Änderung des Volumens lässt sich annähernd über $V_{n+1}=V_n-\\dot{V_n} \\cdot \\Delta t$ beschreiben.\n",
    "  * Der See kann auch als leer betrachtet werden, wenn im kommenden Zeitschritt mehr Wasser herausfließen würde als noch enthalten ist."
   ]
  },
  {
   "cell_type": "code",
   "metadata": {
    "ExecuteTime": {
     "end_time": "2024-11-11T13:00:11.943478Z",
     "start_time": "2024-11-11T13:00:11.936582Z"
    }
   },
   "source": [
    "def abfluss(V0, dt):\n",
    "    \"\"\"\n",
    "    Berechnet den zeitlichen Verlauf der Wassertiefe beim Ablassen des Stausees.\n",
    "    \n",
    "    Args:\n",
    "        V0: Anfangsvolumen in m³\n",
    "        dt: Zeitschrittweite in Sekunden\n",
    "        \n",
    "    Returns:\n",
    "        t_list, h_list: Listen mit Zeitpunkten und zugehörigen Wassertiefen\n",
    "    \"\"\"\n",
    "    V = V0\n",
    "    t = 0\n",
    "    t_list = [t]\n",
    "    h_list = [tiefe(V)]\n",
    "    \n",
    "    g = 9.81  # Erdbeschleunigung\n",
    "    A = 2  # Querschnittsfläche des Auslasses in m²\n",
    "    \n",
    "    while V > 0:\n",
    "        h = tiefe(V)\n",
    "        \n",
    "        if h <= 0:\n",
    "            break\n",
    "            \n",
    "        # Ausflussgeschwindigkeit nach Bernoulli\n",
    "        v = math.sqrt(2 * g * h)\n",
    "        \n",
    "        # Volumenstrom\n",
    "        dV = A * v * dt\n",
    "        \n",
    "        # Verhindere, dass mehr Wasser abfließt als vorhanden\n",
    "        if dV > V:\n",
    "            break\n",
    "            \n",
    "        V = V - dV\n",
    "        t += dt\n",
    "        \n",
    "        t_list.append(t)\n",
    "        h_list.append(tiefe(V))\n",
    "        \n",
    "    return t_list, h_list\n",
    "\n",
    "t1, h1 = abfluss(volume, 3600 * 24)\n",
    "print(h1[-1], t1[-1])"
   ],
   "outputs": [
    {
     "name": "stdout",
     "output_type": "stream",
     "text": [
      "11.613999889734277 3542400\n"
     ]
    }
   ],
   "execution_count": 42
  },
  {
   "cell_type": "code",
   "metadata": {
    "deletable": false,
    "editable": false,
    "tags": [],
    "ExecuteTime": {
     "end_time": "2024-11-11T13:00:11.950608Z",
     "start_time": "2024-11-11T13:00:11.947697Z"
    }
   },
   "source": [
    "# Hier sind einige Plausibilitäts-Tests:\n",
    "assert len(abfluss(10,1))==2\n",
    "assert type(abfluss(10,1)[0])==type(abfluss(10,1)[1])==list"
   ],
   "outputs": [],
   "execution_count": 43
  },
  {
   "cell_type": "markdown",
   "metadata": {},
   "source": [
    "**2.3) Wie lange dauert es, bis der Stausee komplett abgelassen wurde?** \n",
    "\n",
    "  * Plotten Sie den Zeitverlauf der Wassertiefe bis zur Leerung für zwei Zeitschrittweiten:\n",
    "    * $\\Delta t_1$ = 1 Minute\n",
    "    * $\\Delta t_2$ = 4 Tage\n",
    "  * Zeichnen Sie beide Verläufe in dasselbe Diagramm und diskutieren Sie Auffälligkeiten."
   ]
  },
  {
   "cell_type": "code",
   "metadata": {
    "ExecuteTime": {
     "end_time": "2024-11-11T13:00:12.113240Z",
     "start_time": "2024-11-11T13:00:11.956520Z"
    }
   },
   "source": [
    "%matplotlib inline\n",
    "from matplotlib.pyplot import plot, show\n",
    "# Plotbefehl: plot(x_werte_liste, y_werte_liste)\n",
    "\n",
    "import matplotlib.pyplot as plt\n",
    "\n",
    "HOURS_PER_DAY = 24\n",
    "MIN_PER_HOUR = 60\n",
    "SEK_PER_MIN = 60\n",
    "# Zeitschritte \n",
    "dt1 = 1 * SEK_PER_MIN # 1 Minute in sek \n",
    "dt2 = 4 * HOURS_PER_DAY * MIN_PER_HOUR * SEK_PER_MIN # 4 Tage in sek \n",
    "\n",
    "t1, h1 = abfluss(volume, dt1)\n",
    "t2, h2 = abfluss(volume, dt2)\n",
    "        \n",
    "dt1_days = [t/86400 for t in t1]\n",
    "dt2_days = [t/86400 for t in t2]\n",
    "\n",
    "plot(dt1_days, h1, \"b-\")\n",
    "plot(dt2_days, h2, \"r--\")\n",
    "show()"
   ],
   "outputs": [
    {
     "data": {
      "text/plain": [
       "<Figure size 640x480 with 1 Axes>"
      ],
      "image/png": "[encoded data removed]"
     },
     "metadata": {},
     "output_type": "display_data"
    }
   ],
   "execution_count": 44
  },
  {
   "cell_type": "markdown",
   "metadata": {},
   "source": [
    "### 3) Anderer See\n",
    "\n",
    "Wiederholen Sie Aufgabenteil 2.3) unter der Annahme, dass der See bei gleichem Volumen und gleicher Oberfläche annähernd durch einen *Zylinder* beschrieben wird. Schreiben Sie hierfür möglichst wenig neuen Code."
   ]
  },
  {
   "cell_type": "code",
   "metadata": {
    "ExecuteTime": {
     "end_time": "2024-11-11T13:00:12.359521Z",
     "start_time": "2024-11-11T13:00:12.114869Z"
    }
   },
   "source": [
    "# Hier eigenen Code schreiben \n",
    "def tiefe_zylinder(V): \n",
    "    \"\"\"Berechnet die Wassertiefe für einen Zylinder\"\"\"\n",
    "    return V / surface if V > 0 else 0\n",
    "\n",
    "def abfluss_zylinder(V0, dt):\n",
    "    \"\"\"\n",
    "    Berechnet die Wassertiefe für einen Zylinder\n",
    "    \n",
    "    Args:\n",
    "        V0: Übergebenes Volumen \n",
    "        dt: Übergebener Zeitschritt\n",
    "    Returns:\n",
    "        t_list, h_list: Zwei Listen mit den Zeitpunkten und den jeweiligen Wassertiefen \n",
    "    \"\"\"\n",
    "    V = V0 \n",
    "    t = 0\n",
    "    t_list = [t]\n",
    "    h_list = [tiefe_zylinder(V)]\n",
    "    \n",
    "    g = 9.81  # Erdbeschleunigung \n",
    "    A = 2     # Grundfläche Auslass in Metern \n",
    "    \n",
    "    while V > 0: \n",
    "        h = tiefe_zylinder(V)\n",
    "        if h <= 0: \n",
    "            break\n",
    "        \n",
    "        # Neues Volumen berechnen \n",
    "        v = math.sqrt(2 * g * h)\n",
    "        dV = A * v * dt  # Korrigiert: v statt V\n",
    "        \n",
    "        # Mehr fließt aus als vorhanden: \n",
    "        if dV > V: \n",
    "            break\n",
    "        \n",
    "        V = V - dV\n",
    "        t += dt\n",
    "        \n",
    "        t_list.append(t)\n",
    "        h_list.append(tiefe_zylinder(V))\n",
    "        \n",
    "    return t_list, h_list\n",
    "\n",
    "# Zeitschrittweiten\n",
    "dt1 = 60  # 1 Minute in Sekunden\n",
    "dt2 = 4 * 24 * 3600  # 4 Tage in Sekunden\n",
    "\n",
    "# Berechnung\n",
    "t1, h1 = abfluss_zylinder(volume, dt1)\n",
    "t2, h2 = abfluss_zylinder(volume, dt2)\n",
    "\n",
    "# Umrechnung in Tage\n",
    "t1_days = [t/86400 for t in t1]\n",
    "t2_days = [t/86400 for t in t2]\n",
    "\n",
    "# Normaler Plot: \n",
    "plot(t1_days, h1, \"g-\")\n",
    "plot(t2_days, h2, \"r--\")\n",
    "\n",
    "# Ausgabe der Entleerungszeiten\n",
    "print(f\"Entleerungszeit Zylinder (dt = 1 min): {t1_days[-1]:.1f} Tage\")\n",
    "print(f\"Entleerungszeit Zylinder (dt = 4 Tage): {t2_days[-1]:.1f} Tage\")"
   ],
   "outputs": [
    {
     "name": "stdout",
     "output_type": "stream",
     "text": [
      "Entleerungszeit Zylinder (dt = 1 min): 121.2 Tage\n",
      "Entleerungszeit Zylinder (dt = 4 Tage): 108.0 Tage\n"
     ]
    },
    {
     "data": {
      "text/plain": [
       "<Figure size 640x480 with 1 Axes>"
      ],
      "image/png": "[encoded data removed]"
     },
     "metadata": {},
     "output_type": "display_data"
    }
   ],
   "execution_count": 45
  }
 ],
 "metadata": {
  "kernelspec": {
   "display_name": "Python 3 (ipykernel)",
   "language": "python",
   "name": "python3"
  },
  "language_info": {
   "codemirror_mode": {
    "name": "ipython",
    "version": 3
   },
   "file_extension": ".py",
   "mimetype": "text/x-python",
   "name": "python",
   "nbconvert_exporter": "python",
   "pygments_lexer": "ipython3",
   "version": "3.10.9"
  }
 },
 "nbformat": 4,
 "nbformat_minor": 4
}
